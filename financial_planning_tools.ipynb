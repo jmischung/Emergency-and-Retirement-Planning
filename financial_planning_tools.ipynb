{
 "cells": [
  {
   "cell_type": "markdown",
   "metadata": {},
   "source": [
    "# Financial Planning with APIs and Simulations\n",
    "\n",
    "In this Challenge, you’ll create two financial analysis tools by using a single Jupyter notebook:\n",
    "\n",
    "Part 1: A financial planner for emergencies. The members will be able to use this tool to visualize their current savings. The members can then determine if they have enough reserves for an emergency fund.\n",
    "\n",
    "Part 2: A financial planner for retirement. This tool will forecast the performance of their retirement portfolio in 30 years. To do this, the tool will make an Alpaca API call via the Alpaca SDK to get historical price data for use in Monte Carlo simulations.\n",
    "\n",
    "You’ll use the information from the Monte Carlo simulation to answer questions about the portfolio in your Jupyter notebook.\n",
    "\n"
   ]
  },
  {
   "cell_type": "code",
   "execution_count": 1,
   "metadata": {
    "execution": {
     "iopub.execute_input": "2022-01-01T00:33:31.996049Z",
     "iopub.status.busy": "2022-01-01T00:33:31.995559Z",
     "iopub.status.idle": "2022-01-01T00:33:34.501290Z",
     "shell.execute_reply": "2022-01-01T00:33:34.500473Z",
     "shell.execute_reply.started": "2022-01-01T00:33:31.996020Z"
    }
   },
   "outputs": [],
   "source": [
    "# Import the required libraries and dependencies\n",
    "import os\n",
    "import requests\n",
    "import json\n",
    "import pandas as pd\n",
    "from dotenv import load_dotenv\n",
    "import alpaca_trade_api as tradeapi\n",
    "from MCForecastTools import MCSimulation\n",
    "\n",
    "%matplotlib inline"
   ]
  },
  {
   "cell_type": "code",
   "execution_count": 2,
   "metadata": {
    "execution": {
     "iopub.execute_input": "2022-01-01T00:33:34.502721Z",
     "iopub.status.busy": "2022-01-01T00:33:34.502292Z",
     "iopub.status.idle": "2022-01-01T00:33:34.513016Z",
     "shell.execute_reply": "2022-01-01T00:33:34.512394Z",
     "shell.execute_reply.started": "2022-01-01T00:33:34.502677Z"
    }
   },
   "outputs": [
    {
     "data": {
      "text/plain": [
       "True"
      ]
     },
     "execution_count": 2,
     "metadata": {},
     "output_type": "execute_result"
    }
   ],
   "source": [
    "# Load the environment variables from the .env file\n",
    "#by calling the load_dotenv function\n",
    "load_dotenv()"
   ]
  },
  {
   "cell_type": "markdown",
   "metadata": {},
   "source": [
    "## Part 1: Create a Financial Planner for Emergencies"
   ]
  },
  {
   "cell_type": "markdown",
   "metadata": {},
   "source": [
    "### Evaluate the Cryptocurrency Wallet by Using the Requests Library\n",
    "\n",
    "In this section, you’ll determine the current value of a member’s cryptocurrency wallet. You’ll collect the current prices for the Bitcoin and Ethereum cryptocurrencies by using the Python Requests library. For the prototype, you’ll assume that the member holds the 1.2 Bitcoins (BTC) and 5.3 Ethereum coins (ETH). To do all this, complete the following steps:\n",
    "\n",
    "1. Create a variable named `monthly_income`, and set its value to `12000`.\n",
    "\n",
    "2. Use the Requests library to get the current price (in US dollars) of Bitcoin (BTC) and Ethereum (ETH) by using the API endpoints that the starter code supplies.\n",
    "\n",
    "3. Navigate the JSON response object to access the current price of each coin, and store each in a variable.\n",
    "\n",
    "    > **Hint** Note the specific identifier for each cryptocurrency in the API JSON response. The Bitcoin identifier is `1`, and the Ethereum identifier is `1027`.\n",
    "\n",
    "4. Calculate the value, in US dollars, of the current amount of each cryptocurrency and of the entire cryptocurrency wallet.\n",
    "\n"
   ]
  },
  {
   "cell_type": "code",
   "execution_count": 3,
   "metadata": {
    "execution": {
     "iopub.execute_input": "2022-01-01T00:33:34.514477Z",
     "iopub.status.busy": "2022-01-01T00:33:34.514202Z",
     "iopub.status.idle": "2022-01-01T00:33:34.517875Z",
     "shell.execute_reply": "2022-01-01T00:33:34.517062Z",
     "shell.execute_reply.started": "2022-01-01T00:33:34.514452Z"
    }
   },
   "outputs": [],
   "source": [
    "# The current number of coins for each cryptocurrency asset held in the portfolio.\n",
    "btc_coins = 1.2\n",
    "eth_coins = 5.3"
   ]
  },
  {
   "cell_type": "markdown",
   "metadata": {},
   "source": [
    "#### Step 1: Create a variable named `monthly_income`, and set its value to `12000`."
   ]
  },
  {
   "cell_type": "code",
   "execution_count": 4,
   "metadata": {
    "execution": {
     "iopub.execute_input": "2022-01-01T00:33:34.519175Z",
     "iopub.status.busy": "2022-01-01T00:33:34.518889Z",
     "iopub.status.idle": "2022-01-01T00:33:34.522396Z",
     "shell.execute_reply": "2022-01-01T00:33:34.521665Z",
     "shell.execute_reply.started": "2022-01-01T00:33:34.519153Z"
    }
   },
   "outputs": [],
   "source": [
    "# The monthly amount for the member's household income\n",
    "monthly_income = 12000\n"
   ]
  },
  {
   "cell_type": "markdown",
   "metadata": {},
   "source": [
    "#### Review the endpoint URLs for the API calls to Free Crypto API in order to get the current pricing information for both BTC and ETH."
   ]
  },
  {
   "cell_type": "code",
   "execution_count": 5,
   "metadata": {
    "execution": {
     "iopub.execute_input": "2022-01-01T00:33:34.523769Z",
     "iopub.status.busy": "2022-01-01T00:33:34.523464Z",
     "iopub.status.idle": "2022-01-01T00:33:34.527972Z",
     "shell.execute_reply": "2022-01-01T00:33:34.526876Z",
     "shell.execute_reply.started": "2022-01-01T00:33:34.523739Z"
    }
   },
   "outputs": [],
   "source": [
    "# The Free Crypto API Call endpoint URLs for the held cryptocurrency assets\n",
    "btc_url = \"https://api.alternative.me/v2/ticker/Bitcoin/?convert=USD\"\n",
    "eth_url = \"https://api.alternative.me/v2/ticker/Ethereum/?convert=USD\""
   ]
  },
  {
   "cell_type": "markdown",
   "metadata": {},
   "source": [
    "#### Step 2. Use the Requests library to get the current price (in US dollars) of Bitcoin (BTC) and Ethereum (ETH) by using the API endpoints that the starter code supplied."
   ]
  },
  {
   "cell_type": "code",
   "execution_count": 6,
   "metadata": {
    "execution": {
     "iopub.execute_input": "2022-01-01T00:33:34.529827Z",
     "iopub.status.busy": "2022-01-01T00:33:34.529409Z",
     "iopub.status.idle": "2022-01-01T00:33:35.902327Z",
     "shell.execute_reply": "2022-01-01T00:33:35.900940Z",
     "shell.execute_reply.started": "2022-01-01T00:33:34.529800Z"
    }
   },
   "outputs": [
    {
     "name": "stdout",
     "output_type": "stream",
     "text": [
      "{\n",
      "    \"data\": {\n",
      "        \"1\": {\n",
      "            \"circulating_supply\": 18916256,\n",
      "            \"id\": 1,\n",
      "            \"last_updated\": 1640996951,\n",
      "            \"max_supply\": 21000000,\n",
      "            \"name\": \"Bitcoin\",\n",
      "            \"quotes\": {\n",
      "                \"USD\": {\n",
      "                    \"market_cap\": 878697950720,\n",
      "                    \"percent_change_1h\": -0.0001113135734751,\n",
      "                    \"percent_change_24h\": -1.40922694622019,\n",
      "                    \"percent_change_7d\": -8.70707090981072,\n",
      "                    \"percentage_change_1h\": -0.0001113135734751,\n",
      "                    \"percentage_change_24h\": -1.40922694622019,\n",
      "                    \"percentage_change_7d\": -8.70707090981072,\n",
      "                    \"price\": 46458.0,\n",
      "                    \"volume_24h\": 25830270947\n",
      "                }\n",
      "            },\n",
      "            \"rank\": 1,\n",
      "            \"symbol\": \"BTC\",\n",
      "            \"total_supply\": 18916256,\n",
      "            \"website_slug\": \"bitcoin\"\n",
      "        }\n",
      "    },\n",
      "    \"metadata\": {\n",
      "        \"error\": null,\n",
      "        \"num_cryptocurrencies\": 3105,\n",
      "        \"timestamp\": 1640996951\n",
      "    }\n",
      "}\n"
     ]
    }
   ],
   "source": [
    "# Using the Python requests library, make an API call to access the current price of BTC\n",
    "btc_response = requests.get(btc_url).json()\n",
    "\n",
    "# Use the json.dumps function to review the response data from the API call\n",
    "# Use the indent and sort_keys parameters to make the response object readable\n",
    "print(json.dumps(btc_response, indent=4, sort_keys=True))\n"
   ]
  },
  {
   "cell_type": "code",
   "execution_count": 7,
   "metadata": {
    "execution": {
     "iopub.execute_input": "2022-01-01T00:33:35.906823Z",
     "iopub.status.busy": "2022-01-01T00:33:35.905921Z",
     "iopub.status.idle": "2022-01-01T00:33:36.172535Z",
     "shell.execute_reply": "2022-01-01T00:33:36.171873Z",
     "shell.execute_reply.started": "2022-01-01T00:33:35.906781Z"
    }
   },
   "outputs": [
    {
     "name": "stdout",
     "output_type": "stream",
     "text": [
      "{\n",
      "    \"data\": {\n",
      "        \"1027\": {\n",
      "            \"circulating_supply\": 118972657,\n",
      "            \"id\": 1027,\n",
      "            \"last_updated\": 1640996752,\n",
      "            \"max_supply\": 0,\n",
      "            \"name\": \"Ethereum\",\n",
      "            \"quotes\": {\n",
      "                \"USD\": {\n",
      "                    \"market_cap\": 440306518369,\n",
      "                    \"percent_change_1h\": 0.150954405626424,\n",
      "                    \"percent_change_24h\": -0.564471368823149,\n",
      "                    \"percent_change_7d\": -8.73494354010308,\n",
      "                    \"percentage_change_1h\": 0.150954405626424,\n",
      "                    \"percentage_change_24h\": -0.564471368823149,\n",
      "                    \"percentage_change_7d\": -8.73494354010308,\n",
      "                    \"price\": 3700.91,\n",
      "                    \"volume_24h\": 14146680268\n",
      "                }\n",
      "            },\n",
      "            \"rank\": 2,\n",
      "            \"symbol\": \"ETH\",\n",
      "            \"total_supply\": 118972657,\n",
      "            \"website_slug\": \"ethereum\"\n",
      "        }\n",
      "    },\n",
      "    \"metadata\": {\n",
      "        \"error\": null,\n",
      "        \"num_cryptocurrencies\": 3105,\n",
      "        \"timestamp\": 1640996752\n",
      "    }\n",
      "}\n"
     ]
    }
   ],
   "source": [
    "# Using the Python requests library, make an API call to access the current price ETH\n",
    "eth_response = requests.get(eth_url).json()\n",
    "\n",
    "# Use the json.dumps function to review the response data from the API call\n",
    "# Use the indent and sort_keys parameters to make the response object readable\n",
    "print(json.dumps(eth_response, indent=4, sort_keys=True))\n"
   ]
  },
  {
   "cell_type": "markdown",
   "metadata": {},
   "source": [
    "#### Step 3: Navigate the JSON response object to access the current price of each coin, and store each in a variable."
   ]
  },
  {
   "cell_type": "code",
   "execution_count": 8,
   "metadata": {
    "execution": {
     "iopub.execute_input": "2022-01-01T00:33:36.174283Z",
     "iopub.status.busy": "2022-01-01T00:33:36.173940Z",
     "iopub.status.idle": "2022-01-01T00:33:36.178731Z",
     "shell.execute_reply": "2022-01-01T00:33:36.177716Z",
     "shell.execute_reply.started": "2022-01-01T00:33:36.174256Z"
    },
    "tags": []
   },
   "outputs": [
    {
     "name": "stdout",
     "output_type": "stream",
     "text": [
      "BTC Current Price: $46,458.00\n"
     ]
    }
   ],
   "source": [
    "# Navigate the BTC response object to access the current price of BTC\n",
    "btc_price = btc_response['data']['1']['quotes']['USD']['price']\n",
    "\n",
    "# Print the current price of BTC\n",
    "print(f\"BTC Current Price: ${btc_price:,.2f}\")\n"
   ]
  },
  {
   "cell_type": "code",
   "execution_count": 9,
   "metadata": {
    "execution": {
     "iopub.execute_input": "2022-01-01T00:33:36.180470Z",
     "iopub.status.busy": "2022-01-01T00:33:36.180016Z",
     "iopub.status.idle": "2022-01-01T00:33:36.188923Z",
     "shell.execute_reply": "2022-01-01T00:33:36.186931Z",
     "shell.execute_reply.started": "2022-01-01T00:33:36.180430Z"
    }
   },
   "outputs": [
    {
     "name": "stdout",
     "output_type": "stream",
     "text": [
      "ETH Current Price: $3,700.91\n"
     ]
    }
   ],
   "source": [
    "# Navigate the BTC response object to access the current price of ETH\n",
    "eth_price = eth_response['data']['1027']['quotes']['USD']['price']\n",
    "\n",
    "# Print the current price of ETH\n",
    "print(f\"ETH Current Price: ${eth_price:,.2f}\")\n"
   ]
  },
  {
   "cell_type": "markdown",
   "metadata": {},
   "source": [
    "### Step 4: Calculate the value, in US dollars, of the current amount of each cryptocurrency and of the entire cryptocurrency wallet."
   ]
  },
  {
   "cell_type": "code",
   "execution_count": 10,
   "metadata": {
    "execution": {
     "iopub.execute_input": "2022-01-01T00:33:36.200239Z",
     "iopub.status.busy": "2022-01-01T00:33:36.199824Z",
     "iopub.status.idle": "2022-01-01T00:33:36.206893Z",
     "shell.execute_reply": "2022-01-01T00:33:36.206063Z",
     "shell.execute_reply.started": "2022-01-01T00:33:36.200185Z"
    }
   },
   "outputs": [
    {
     "name": "stdout",
     "output_type": "stream",
     "text": [
      "Current BTC Holding: $55,749.60\n"
     ]
    }
   ],
   "source": [
    "# Compute the current value of the BTC holding \n",
    "btc_value = btc_coins * btc_price\n",
    "\n",
    "# Print current value of your holding in BTC\n",
    "print(f\"Current BTC Holding: ${btc_value:,.2f}\")\n"
   ]
  },
  {
   "cell_type": "code",
   "execution_count": 11,
   "metadata": {
    "execution": {
     "iopub.execute_input": "2022-01-01T00:33:36.208673Z",
     "iopub.status.busy": "2022-01-01T00:33:36.208293Z",
     "iopub.status.idle": "2022-01-01T00:33:36.215439Z",
     "shell.execute_reply": "2022-01-01T00:33:36.213360Z",
     "shell.execute_reply.started": "2022-01-01T00:33:36.208652Z"
    }
   },
   "outputs": [
    {
     "name": "stdout",
     "output_type": "stream",
     "text": [
      "Current ETH Holding: $19,614.82\n"
     ]
    }
   ],
   "source": [
    "# Compute the current value of the ETH holding \n",
    "eth_value = eth_coins * eth_price\n",
    "\n",
    "# Print current value of your holding in ETH\n",
    "print(f\"Current ETH Holding: ${eth_value:,.2f}\")\n"
   ]
  },
  {
   "cell_type": "code",
   "execution_count": 12,
   "metadata": {
    "execution": {
     "iopub.execute_input": "2022-01-01T00:33:36.217644Z",
     "iopub.status.busy": "2022-01-01T00:33:36.217138Z",
     "iopub.status.idle": "2022-01-01T00:33:36.222083Z",
     "shell.execute_reply": "2022-01-01T00:33:36.221083Z",
     "shell.execute_reply.started": "2022-01-01T00:33:36.217606Z"
    }
   },
   "outputs": [
    {
     "name": "stdout",
     "output_type": "stream",
     "text": [
      "Cryptocurrency Wallet Balance: $75,364.42\n"
     ]
    }
   ],
   "source": [
    "# Compute the total value of the cryptocurrency wallet\n",
    "# Add the value of the BTC holding to the value of the ETH holding\n",
    "total_crypto_wallet = btc_value + eth_value\n",
    "\n",
    "# Print current cryptocurrency wallet balance\n",
    "print(f\"Cryptocurrency Wallet Balance: ${total_crypto_wallet:,.2f}\")\n"
   ]
  },
  {
   "cell_type": "markdown",
   "metadata": {},
   "source": [
    "### Evaluate the Stock and Bond Holdings by Using the Alpaca SDK\n",
    "\n",
    "In this section, you’ll determine the current value of a member’s stock and bond holdings. You’ll make an API call to Alpaca via the Alpaca SDK to get the current closing prices of the SPDR S&P 500 ETF Trust (ticker: SPY) and of the iShares Core US Aggregate Bond ETF (ticker: AGG). For the prototype, assume that the member holds 110 shares of SPY, which represents the stock portion of their portfolio, and 200 shares of AGG, which represents the bond portion. To do all this, complete the following steps:\n",
    "\n",
    "1. In the `Starter_Code` folder, create an environment file (`.env`) to store the values of your Alpaca API key and Alpaca secret key.\n",
    "\n",
    "2. Set the variables for the Alpaca API and secret keys. Using the Alpaca SDK, create the Alpaca `tradeapi.REST` object. In this object, include the parameters for the Alpaca API key, the secret key, and the version number.\n",
    "\n",
    "3. Set the following parameters for the Alpaca API call:\n",
    "\n",
    "    - `tickers`: Use the tickers for the member’s stock and bond holdings.\n",
    "\n",
    "    - `timeframe`: Use a time frame of one day.\n",
    "\n",
    "    - `start_date` and `end_date`: Use the same date for these parameters, and format them with the date of the previous weekday (or `2020-08-07`). This is because you want the one closing price for the most-recent trading day.\n",
    "\n",
    "4. Get the current closing prices for `SPY` and `AGG` by using the Alpaca `get_barset` function. Format the response as a Pandas DataFrame by including the `df` property at the end of the `get_barset` function.\n",
    "\n",
    "5. Navigating the Alpaca response DataFrame, select the `SPY` and `AGG` closing prices, and store them as variables.\n",
    "\n",
    "6. Calculate the value, in US dollars, of the current amount of shares in each of the stock and bond portions of the portfolio, and print the results.\n"
   ]
  },
  {
   "cell_type": "markdown",
   "metadata": {},
   "source": [
    "#### Review the total number of shares held in both (SPY) and (AGG)."
   ]
  },
  {
   "cell_type": "code",
   "execution_count": 13,
   "metadata": {
    "execution": {
     "iopub.execute_input": "2022-01-01T00:33:36.223541Z",
     "iopub.status.busy": "2022-01-01T00:33:36.223267Z",
     "iopub.status.idle": "2022-01-01T00:33:36.227285Z",
     "shell.execute_reply": "2022-01-01T00:33:36.226365Z",
     "shell.execute_reply.started": "2022-01-01T00:33:36.223510Z"
    }
   },
   "outputs": [],
   "source": [
    "# Current amount of shares held in both the stock (SPY) and bond (AGG) portion of the portfolio.\n",
    "spy_shares = 110\n",
    "agg_shares = 200\n"
   ]
  },
  {
   "cell_type": "markdown",
   "metadata": {},
   "source": [
    "#### Step 1: In the `Starter_Code` folder, create an environment file (`.env`) to store the values of your Alpaca API key and Alpaca secret key."
   ]
  },
  {
   "cell_type": "markdown",
   "metadata": {},
   "source": [
    "#### Step 2: Set the variables for the Alpaca API and secret keys. Using the Alpaca SDK, create the Alpaca `tradeapi.REST` object. In this object, include the parameters for the Alpaca API key, the secret key, and the version number."
   ]
  },
  {
   "cell_type": "code",
   "execution_count": 14,
   "metadata": {
    "execution": {
     "iopub.execute_input": "2022-01-01T00:33:36.229089Z",
     "iopub.status.busy": "2022-01-01T00:33:36.228769Z",
     "iopub.status.idle": "2022-01-01T00:33:36.233784Z",
     "shell.execute_reply": "2022-01-01T00:33:36.233121Z",
     "shell.execute_reply.started": "2022-01-01T00:33:36.229034Z"
    }
   },
   "outputs": [],
   "source": [
    "# Set the variables for the Alpaca API and secret keys\n",
    "alpaca_api_key = os.getenv('ALPACA_API_KEY')\n",
    "alpaca_secret_key = os.getenv('ALPACA_SECRET_KEY')\n",
    "\n",
    "# Create the Alpaca tradeapi.REST object\n",
    "alpaca = tradeapi.REST(\n",
    "    alpaca_api_key,\n",
    "    alpaca_secret_key,\n",
    "    api_version='v2'\n",
    ")\n"
   ]
  },
  {
   "cell_type": "markdown",
   "metadata": {},
   "source": [
    "#### Step 3: Set the following parameters for the Alpaca API call:\n",
    "\n",
    "- `tickers`: Use the tickers for the member’s stock and bond holdings.\n",
    "\n",
    "- `timeframe`: Use a time frame of one day.\n",
    "\n",
    "- `start_date` and `end_date`: Use the same date for these parameters, and format them with the date of the previous weekday (or `2020-08-07`). This is because you want the one closing price for the most-recent trading day.\n"
   ]
  },
  {
   "cell_type": "code",
   "execution_count": 15,
   "metadata": {
    "execution": {
     "iopub.execute_input": "2022-01-01T00:33:36.235080Z",
     "iopub.status.busy": "2022-01-01T00:33:36.234607Z",
     "iopub.status.idle": "2022-01-01T00:33:36.315869Z",
     "shell.execute_reply": "2022-01-01T00:33:36.315329Z",
     "shell.execute_reply.started": "2022-01-01T00:33:36.235054Z"
    },
    "tags": []
   },
   "outputs": [],
   "source": [
    "# Set the tickers for both the bond and stock portion of the portfolio\n",
    "tickers = ['SPY', 'AGG']\n",
    "\n",
    "# Set timeframe to 1D \n",
    "timeframe= '1D'\n",
    "\n",
    "# Format current date as ISO format\n",
    "# Set both the start and end date at the date of your prior weekday \n",
    "# This will give you the closing price of the previous trading day\n",
    "# Alternatively you can use a start and end date of 2020-08-07\n",
    "start_date = pd.Timestamp('2021-12-31', tz='America/New_York').isoformat()\n",
    "end_date = pd.Timestamp('2021-12-31', tz='America/New_York').isoformat()\n"
   ]
  },
  {
   "cell_type": "markdown",
   "metadata": {},
   "source": [
    "#### Step 4: Get the current closing prices for `SPY` and `AGG` by using the Alpaca `get_barset` function. Format the response as a Pandas DataFrame by including the `df` property at the end of the `get_barset` function."
   ]
  },
  {
   "cell_type": "code",
   "execution_count": 16,
   "metadata": {
    "execution": {
     "iopub.execute_input": "2022-01-01T00:33:36.317198Z",
     "iopub.status.busy": "2022-01-01T00:33:36.316809Z",
     "iopub.status.idle": "2022-01-01T00:33:36.694113Z",
     "shell.execute_reply": "2022-01-01T00:33:36.692965Z",
     "shell.execute_reply.started": "2022-01-01T00:33:36.317171Z"
    },
    "tags": []
   },
   "outputs": [
    {
     "data": {
      "text/html": [
       "<div>\n",
       "<style scoped>\n",
       "    .dataframe tbody tr th:only-of-type {\n",
       "        vertical-align: middle;\n",
       "    }\n",
       "\n",
       "    .dataframe tbody tr th {\n",
       "        vertical-align: top;\n",
       "    }\n",
       "\n",
       "    .dataframe thead tr th {\n",
       "        text-align: left;\n",
       "    }\n",
       "</style>\n",
       "<table border=\"1\" class=\"dataframe\">\n",
       "  <thead>\n",
       "    <tr>\n",
       "      <th></th>\n",
       "      <th colspan=\"5\" halign=\"left\">AGG</th>\n",
       "      <th colspan=\"5\" halign=\"left\">SPY</th>\n",
       "    </tr>\n",
       "    <tr>\n",
       "      <th></th>\n",
       "      <th>open</th>\n",
       "      <th>high</th>\n",
       "      <th>low</th>\n",
       "      <th>close</th>\n",
       "      <th>volume</th>\n",
       "      <th>open</th>\n",
       "      <th>high</th>\n",
       "      <th>low</th>\n",
       "      <th>close</th>\n",
       "      <th>volume</th>\n",
       "    </tr>\n",
       "  </thead>\n",
       "  <tbody>\n",
       "    <tr>\n",
       "      <th>2021-12-31</th>\n",
       "      <td>114.15</td>\n",
       "      <td>114.31</td>\n",
       "      <td>114.06</td>\n",
       "      <td>114.09</td>\n",
       "      <td>6557778</td>\n",
       "      <td>475.64</td>\n",
       "      <td>476.86</td>\n",
       "      <td>474.67</td>\n",
       "      <td>474.89</td>\n",
       "      <td>51212452</td>\n",
       "    </tr>\n",
       "  </tbody>\n",
       "</table>\n",
       "</div>"
      ],
      "text/plain": [
       "               AGG                                      SPY                  \\\n",
       "              open    high     low   close   volume    open    high     low   \n",
       "2021-12-31  114.15  114.31  114.06  114.09  6557778  475.64  476.86  474.67   \n",
       "\n",
       "                              \n",
       "             close    volume  \n",
       "2021-12-31  474.89  51212452  "
      ]
     },
     "execution_count": 16,
     "metadata": {},
     "output_type": "execute_result"
    }
   ],
   "source": [
    "# Use the Alpaca get_barset function to get current closing prices the portfolio\n",
    "# Be sure to set the `df` property after the function to format the response object as a DataFrame\n",
    "prices_df = alpaca.get_barset(\n",
    "    tickers,\n",
    "    timeframe,\n",
    "    start=start_date,\n",
    "    end=end_date\n",
    ").df\n",
    "\n",
    "# Keep only the date portion of the index\n",
    "prices_df.index = prices_df.index.date\n",
    "\n",
    "# Review the first 5 rows of the Alpaca DataFrame\n",
    "prices_df\n"
   ]
  },
  {
   "cell_type": "markdown",
   "metadata": {},
   "source": [
    "#### Step 5: Navigating the Alpaca response DataFrame, select the `SPY` and `AGG` closing prices, and store them as variables."
   ]
  },
  {
   "cell_type": "code",
   "execution_count": 17,
   "metadata": {
    "execution": {
     "iopub.execute_input": "2022-01-01T00:33:36.696341Z",
     "iopub.status.busy": "2022-01-01T00:33:36.695847Z",
     "iopub.status.idle": "2022-01-01T00:33:36.706397Z",
     "shell.execute_reply": "2022-01-01T00:33:36.705444Z",
     "shell.execute_reply.started": "2022-01-01T00:33:36.696277Z"
    },
    "tags": []
   },
   "outputs": [
    {
     "name": "stdout",
     "output_type": "stream",
     "text": [
      "AGG Closing Price for 2021-12-31: $114.09\n"
     ]
    }
   ],
   "source": [
    "# Access the closing price for AGG from the Alpaca DataFrame\n",
    "# Converting the value to a floating point number\n",
    "agg_close_price = prices_df['AGG']['close'][0]\n",
    "\n",
    "# Print the AGG closing price\n",
    "print(f\"AGG Closing Price for 2021-12-31: ${agg_close_price:,.2f}\")\n"
   ]
  },
  {
   "cell_type": "code",
   "execution_count": 18,
   "metadata": {
    "execution": {
     "iopub.execute_input": "2022-01-01T00:33:36.708559Z",
     "iopub.status.busy": "2022-01-01T00:33:36.708109Z",
     "iopub.status.idle": "2022-01-01T00:33:36.716777Z",
     "shell.execute_reply": "2022-01-01T00:33:36.715399Z",
     "shell.execute_reply.started": "2022-01-01T00:33:36.708523Z"
    }
   },
   "outputs": [
    {
     "name": "stdout",
     "output_type": "stream",
     "text": [
      "SPY Closing Price for 2021-12-31: $474.89\n"
     ]
    }
   ],
   "source": [
    "# Access the closing price for SPY from the Alpaca DataFrame\n",
    "# Converting the value to a floating point number\n",
    "spy_close_price = prices_df['SPY']['close'][0]\n",
    "\n",
    "# Print the SPY closing price\n",
    "print(f\"SPY Closing Price for 2021-12-31: ${spy_close_price:,.2f}\")\n"
   ]
  },
  {
   "cell_type": "markdown",
   "metadata": {},
   "source": [
    "#### Step 6: Calculate the value, in US dollars, of the current amount of shares in each of the stock and bond portions of the portfolio, and print the results."
   ]
  },
  {
   "cell_type": "code",
   "execution_count": 19,
   "metadata": {
    "execution": {
     "iopub.execute_input": "2022-01-01T00:33:36.719178Z",
     "iopub.status.busy": "2022-01-01T00:33:36.718670Z",
     "iopub.status.idle": "2022-01-01T00:33:36.727417Z",
     "shell.execute_reply": "2022-01-01T00:33:36.726283Z",
     "shell.execute_reply.started": "2022-01-01T00:33:36.719126Z"
    }
   },
   "outputs": [
    {
     "name": "stdout",
     "output_type": "stream",
     "text": [
      "Bond Portfolio Value: $22,818.00\n"
     ]
    }
   ],
   "source": [
    "# Calculate the current value of the bond portion of the portfolio\n",
    "agg_value = agg_close_price * agg_shares\n",
    "\n",
    "# Print the current value of the bond portfolio\n",
    "print(f\"Bond Portfolio Value: ${agg_value:,.2f}\")\n"
   ]
  },
  {
   "cell_type": "code",
   "execution_count": 20,
   "metadata": {
    "execution": {
     "iopub.execute_input": "2022-01-01T00:33:36.729397Z",
     "iopub.status.busy": "2022-01-01T00:33:36.728743Z",
     "iopub.status.idle": "2022-01-01T00:33:36.734556Z",
     "shell.execute_reply": "2022-01-01T00:33:36.733516Z",
     "shell.execute_reply.started": "2022-01-01T00:33:36.729344Z"
    }
   },
   "outputs": [
    {
     "name": "stdout",
     "output_type": "stream",
     "text": [
      "Stock Portfolio Value: $52,237.90\n"
     ]
    }
   ],
   "source": [
    "# Calculate the current value of the stock portion of the portfolio\n",
    "spy_value = spy_close_price * spy_shares\n",
    "\n",
    "# Print the current value of the stock portfolio\n",
    "print(f\"Stock Portfolio Value: ${spy_value:,.2f}\")\n"
   ]
  },
  {
   "cell_type": "code",
   "execution_count": 21,
   "metadata": {
    "execution": {
     "iopub.execute_input": "2022-01-01T00:33:36.736722Z",
     "iopub.status.busy": "2022-01-01T00:33:36.736368Z",
     "iopub.status.idle": "2022-01-01T00:33:36.742988Z",
     "shell.execute_reply": "2022-01-01T00:33:36.741895Z",
     "shell.execute_reply.started": "2022-01-01T00:33:36.736691Z"
    },
    "tags": []
   },
   "outputs": [
    {
     "name": "stdout",
     "output_type": "stream",
     "text": [
      "Combined Stock & Bond Portfolio Value: $75,055.90\n"
     ]
    }
   ],
   "source": [
    "# Calculate the total value of the stock and bond portion of the portfolio\n",
    "total_stocks_bonds = agg_value + spy_value\n",
    "\n",
    "# Print the current balance of the stock and bond portion of the portfolio\n",
    "print(f\"Combined Stock & Bond Portfolio \"\n",
    "      f\"Value: ${total_stocks_bonds:,.2f}\")\n"
   ]
  },
  {
   "cell_type": "code",
   "execution_count": 22,
   "metadata": {
    "execution": {
     "iopub.execute_input": "2022-01-01T00:33:36.745815Z",
     "iopub.status.busy": "2022-01-01T00:33:36.745147Z",
     "iopub.status.idle": "2022-01-01T00:33:36.753671Z",
     "shell.execute_reply": "2022-01-01T00:33:36.752350Z",
     "shell.execute_reply.started": "2022-01-01T00:33:36.745772Z"
    }
   },
   "outputs": [
    {
     "name": "stdout",
     "output_type": "stream",
     "text": [
      "Total Assets: $150,420.32\n"
     ]
    }
   ],
   "source": [
    "# Calculate the total value of the member's entire savings portfolio\n",
    "# Add the value of the cryptocurrency walled to the value of the total stocks and bonds\n",
    "total_portfolio = total_crypto_wallet + total_stocks_bonds\n",
    "\n",
    "# Print current current balance of the cryptocurrency, stock, and bond portfolio\n",
    "print(f\"Total Assets: ${total_portfolio:,.2f}\")\n"
   ]
  },
  {
   "cell_type": "markdown",
   "metadata": {},
   "source": [
    "### Evaluate the Emergency Fund\n",
    "\n",
    "In this section, you’ll use the valuations for the cryptocurrency wallet and for the stock and bond portions of the portfolio to determine if the credit union member has enough savings to build an emergency fund into their financial plan. To do this, complete the following steps:\n",
    "\n",
    "1. Create a Python list named `savings_data` that has two elements. The first element contains the total value of the cryptocurrency wallet. The second element contains the total value of the stock and bond portions of the portfolio.\n",
    "\n",
    "2. Use the `savings_data` list to create a Pandas DataFrame named `savings_df`, and then display this DataFrame. The function to create the DataFrame should take the following three parameters:\n",
    "\n",
    "    - `savings_data`: Use the list that you just created.\n",
    "\n",
    "    - `columns`: Set this parameter equal to a Python list with a single value called `amount`.\n",
    "\n",
    "    - `index`: Set this parameter equal to a Python list with the values of `crypto` and `stock/bond`.\n",
    "\n",
    "3. Use the `savings_df` DataFrame to plot a pie chart that visualizes the composition of the member’s portfolio. The y-axis of the pie chart uses `amount`. Be sure to add a title.\n",
    "\n",
    "4. Using Python, determine if the current portfolio has enough to create an emergency fund as part of the member’s financial plan. Ideally, an emergency fund should equal to three times the member’s monthly income. To do this, implement the following steps:\n",
    "\n",
    "    1. Create a variable named `emergency_fund_value`, and set it equal to three times the value of the member’s `monthly_income` of $12000. (You set this earlier in Part 1).\n",
    "\n",
    "    2. Create a series of three if statements to determine if the member’s total portfolio is large enough to fund the emergency portfolio:\n",
    "\n",
    "        1. If the total portfolio value is greater than the emergency fund value, display a message congratulating the member for having enough money in this fund.\n",
    "\n",
    "        2. Else if the total portfolio value is equal to the emergency fund value, display a message congratulating the member on reaching this important financial goal.\n",
    "\n",
    "        3. Else the total portfolio is less than the emergency fund value, so display a message showing how many dollars away the member is from reaching the goal. (Subtract the total portfolio value from the emergency fund value.)\n"
   ]
  },
  {
   "cell_type": "markdown",
   "metadata": {},
   "source": [
    "#### Step 1: Create a Python list named `savings_data` that has two elements. The first element contains the total value of the cryptocurrency wallet. The second element contains the total value of the stock and bond portions of the portfolio."
   ]
  },
  {
   "cell_type": "code",
   "execution_count": 23,
   "metadata": {
    "execution": {
     "iopub.execute_input": "2022-01-01T00:33:36.756375Z",
     "iopub.status.busy": "2022-01-01T00:33:36.755863Z",
     "iopub.status.idle": "2022-01-01T00:33:36.763889Z",
     "shell.execute_reply": "2022-01-01T00:33:36.762785Z",
     "shell.execute_reply.started": "2022-01-01T00:33:36.756340Z"
    }
   },
   "outputs": [
    {
     "data": {
      "text/plain": [
       "[75364.423, 75055.9]"
      ]
     },
     "execution_count": 23,
     "metadata": {},
     "output_type": "execute_result"
    }
   ],
   "source": [
    "# Consolidate financial assets data into a Python list\n",
    "savings_data = [total_crypto_wallet, total_stocks_bonds]\n",
    "\n",
    "# Review the Python list savings_data\n",
    "savings_data\n",
    "    "
   ]
  },
  {
   "cell_type": "markdown",
   "metadata": {},
   "source": [
    "#### Step 2: Use the `savings_data` list to create a Pandas DataFrame named `savings_df`, and then display this DataFrame. The function to create the DataFrame should take the following three parameters:\n",
    "\n",
    "- `savings_data`: Use the list that you just created.\n",
    "\n",
    "- `columns`: Set this parameter equal to a Python list with a single value called `amount`.\n",
    "\n",
    "- `index`: Set this parameter equal to a Python list with the values of `crypto` and `stock/bond`.\n"
   ]
  },
  {
   "cell_type": "code",
   "execution_count": 24,
   "metadata": {
    "execution": {
     "iopub.execute_input": "2022-01-01T00:33:36.766266Z",
     "iopub.status.busy": "2022-01-01T00:33:36.765441Z",
     "iopub.status.idle": "2022-01-01T00:33:36.777613Z",
     "shell.execute_reply": "2022-01-01T00:33:36.776411Z",
     "shell.execute_reply.started": "2022-01-01T00:33:36.766227Z"
    }
   },
   "outputs": [
    {
     "data": {
      "text/html": [
       "<div>\n",
       "<style scoped>\n",
       "    .dataframe tbody tr th:only-of-type {\n",
       "        vertical-align: middle;\n",
       "    }\n",
       "\n",
       "    .dataframe tbody tr th {\n",
       "        vertical-align: top;\n",
       "    }\n",
       "\n",
       "    .dataframe thead th {\n",
       "        text-align: right;\n",
       "    }\n",
       "</style>\n",
       "<table border=\"1\" class=\"dataframe\">\n",
       "  <thead>\n",
       "    <tr style=\"text-align: right;\">\n",
       "      <th></th>\n",
       "      <th>amount</th>\n",
       "    </tr>\n",
       "  </thead>\n",
       "  <tbody>\n",
       "    <tr>\n",
       "      <th>crypto</th>\n",
       "      <td>75364.423</td>\n",
       "    </tr>\n",
       "    <tr>\n",
       "      <th>stock/bond</th>\n",
       "      <td>75055.900</td>\n",
       "    </tr>\n",
       "  </tbody>\n",
       "</table>\n",
       "</div>"
      ],
      "text/plain": [
       "               amount\n",
       "crypto      75364.423\n",
       "stock/bond  75055.900"
      ]
     },
     "execution_count": 24,
     "metadata": {},
     "output_type": "execute_result"
    }
   ],
   "source": [
    "# Create a Pandas DataFrame called savings_df \n",
    "savings_df = pd.DataFrame(\n",
    "    savings_data,\n",
    "    columns=['amount'],\n",
    "    index=['crypto', 'stock/bond']\n",
    ")\n",
    "\n",
    "# Display the savings_df DataFrame\n",
    "savings_df\n"
   ]
  },
  {
   "cell_type": "markdown",
   "metadata": {},
   "source": [
    "#### Step 3: Use the `savings_df` DataFrame to plot a pie chart that visualizes the composition of the member’s portfolio. The y-axis of the pie chart uses `amount`. Be sure to add a title."
   ]
  },
  {
   "cell_type": "code",
   "execution_count": 25,
   "metadata": {
    "execution": {
     "iopub.execute_input": "2022-01-01T00:33:36.780392Z",
     "iopub.status.busy": "2022-01-01T00:33:36.779696Z",
     "iopub.status.idle": "2022-01-01T00:33:37.010667Z",
     "shell.execute_reply": "2022-01-01T00:33:37.009566Z",
     "shell.execute_reply.started": "2022-01-01T00:33:36.780325Z"
    },
    "tags": []
   },
   "outputs": [
    {
     "data": {
      "image/png": "[encoded data removed]",
      "text/plain": [
       "<Figure size 432x432 with 1 Axes>"
      ]
     },
     "metadata": {},
     "output_type": "display_data"
    }
   ],
   "source": [
    "# Plot the total value of the member's portfolio (crypto and stock/bond) in a pie chart\n",
    "savings_df.plot.pie(\n",
    "    y='amount',\n",
    "    figsize=(6, 6),\n",
    "    title='Portfolio Allocation'\n",
    ");\n"
   ]
  },
  {
   "cell_type": "markdown",
   "metadata": {},
   "source": [
    "#### Step 4: Using Python, determine if the current portfolio has enough to create an emergency fund as part of the member’s financial plan. Ideally, an emergency fund should equal to three times the member’s monthly income. To do this, implement the following steps:\n",
    "\n",
    "Step 1. Create a variable named `emergency_fund_value`, and set it equal to three times the value of the member’s `monthly_income` of 12000. (You set this earlier in Part 1).\n",
    "\n",
    "Step 2. Create a series of three if statements to determine if the member’s total portfolio is large enough to fund the emergency portfolio:\n",
    "\n",
    "* If the total portfolio value is greater than the emergency fund value, display a message congratulating the member for having enough money in this fund.\n",
    "\n",
    "* Else if the total portfolio value is equal to the emergency fund value, display a message congratulating the member on reaching this important financial goal.\n",
    "\n",
    "* Else the total portfolio is less than the emergency fund value, so display a message showing how many dollars away the member is from reaching the goal. (Subtract the total portfolio value from the emergency fund value.)\n"
   ]
  },
  {
   "cell_type": "markdown",
   "metadata": {},
   "source": [
    "##### Step 4-1: Create a variable named `emergency_fund_value`, and set it equal to three times the value of the member’s `monthly_income` of 12000. (You set this earlier in Part 1)."
   ]
  },
  {
   "cell_type": "code",
   "execution_count": 26,
   "metadata": {
    "execution": {
     "iopub.execute_input": "2022-01-01T00:33:37.013013Z",
     "iopub.status.busy": "2022-01-01T00:33:37.012658Z",
     "iopub.status.idle": "2022-01-01T00:33:37.017512Z",
     "shell.execute_reply": "2022-01-01T00:33:37.016056Z",
     "shell.execute_reply.started": "2022-01-01T00:33:37.012978Z"
    }
   },
   "outputs": [],
   "source": [
    "# Create a variable named emergency_fund_value\n",
    "emergency_fund_value = monthly_income * 3\n"
   ]
  },
  {
   "cell_type": "markdown",
   "metadata": {},
   "source": [
    "##### Step 4-2: Create a series of three if statements to determine if the member’s total portfolio is large enough to fund the emergency portfolio:\n",
    "\n",
    "* If the total portfolio value is greater than the emergency fund value, display a message congratulating the member for having enough money in this fund.\n",
    "\n",
    "* Else if the total portfolio value is equal to the emergency fund value, display a message congratulating the member on reaching this important financial goal.\n",
    "\n",
    "* Else the total portfolio is less than the emergency fund value, so display a message showing how many dollars away the member is from reaching the goal. (Subtract the total portfolio value from the emergency fund value.)"
   ]
  },
  {
   "cell_type": "code",
   "execution_count": 27,
   "metadata": {
    "execution": {
     "iopub.execute_input": "2022-01-01T00:33:37.019703Z",
     "iopub.status.busy": "2022-01-01T00:33:37.019296Z",
     "iopub.status.idle": "2022-01-01T00:33:37.026207Z",
     "shell.execute_reply": "2022-01-01T00:33:37.025322Z",
     "shell.execute_reply.started": "2022-01-01T00:33:37.019659Z"
    }
   },
   "outputs": [
    {
     "name": "stdout",
     "output_type": "stream",
     "text": [
      "Congratulations, your crypto/stock/bond portfolio is able to fund your emergency account.\n"
     ]
    }
   ],
   "source": [
    "# Evaluate the possibility of creating an emergency fund with 3 conditions:\n",
    "if total_portfolio > emergency_fund_value:\n",
    "    print(\"Congratulations, your crypto/stock/bond \"\n",
    "          \"portfolio is able to fund your emergency account.\")\n",
    "elif total_portfolio == emergency_fund_value:\n",
    "    print(\"Congratulations, your crypto/stock/bond \"\n",
    "          \"portfolio equals the amount need to fund your \"\n",
    "          \"emergency account.\")\n",
    "else:\n",
    "    print(f\"Your crypto/stock/bond portfolio is currently \"\n",
    "          f\"valued at ${total_portfolio:,.2f}. To fund your \"\n",
    "          f\"emergency account an additional \"\n",
    "          f\"${emergency_fund_value - total_portfolio:,.2f} is needed.\")\n"
   ]
  },
  {
   "cell_type": "markdown",
   "metadata": {},
   "source": [
    "## Part 2: Create a Financial Planner for Retirement"
   ]
  },
  {
   "cell_type": "markdown",
   "metadata": {},
   "source": [
    "### Create the Monte Carlo Simulation\n",
    "\n",
    "In this section, you’ll use the MCForecastTools library to create a Monte Carlo simulation for the member’s savings portfolio. To do this, complete the following steps:\n",
    "\n",
    "1. Make an API call via the Alpaca SDK to get 3 years of historical closing prices for a traditional 60/40 portfolio split: 60% stocks (SPY) and 40% bonds (AGG).\n",
    "\n",
    "2. Run a Monte Carlo simulation of 500 samples and 30 years for the 60/40 portfolio, and then plot the results.The following image shows the overlay line plot resulting from a simulation with these characteristics. However, because a random number generator is used to run each live Monte Carlo simulation, your image will differ slightly from this exact image:\n",
    "\n",
    "![A screenshot depicts the resulting plot.](Images/5-4-monte-carlo-line-plot.png)\n",
    "\n",
    "3. Plot the probability distribution of the Monte Carlo simulation. The following image shows the histogram plot resulting from a simulation with these characteristics. However, because a random number generator is used to run each live Monte Carlo simulation, your image will differ slightly from this exact image:\n",
    "\n",
    "![A screenshot depicts the histogram plot.](Images/5-4-monte-carlo-histogram.png)\n",
    "\n",
    "4. Generate the summary statistics for the Monte Carlo simulation.\n",
    "\n"
   ]
  },
  {
   "cell_type": "markdown",
   "metadata": {},
   "source": [
    "#### Step 1: Make an API call via the Alpaca SDK to get 3 years of historical closing prices for a traditional 60/40 portfolio split: 60% stocks (SPY) and 40% bonds (AGG)."
   ]
  },
  {
   "cell_type": "code",
   "execution_count": 28,
   "metadata": {
    "execution": {
     "iopub.execute_input": "2022-01-01T00:33:37.027853Z",
     "iopub.status.busy": "2022-01-01T00:33:37.027425Z",
     "iopub.status.idle": "2022-01-01T00:33:37.032648Z",
     "shell.execute_reply": "2022-01-01T00:33:37.031683Z",
     "shell.execute_reply.started": "2022-01-01T00:33:37.027817Z"
    },
    "tags": []
   },
   "outputs": [],
   "source": [
    "# Set start and end dates of 3 years back from your current date\n",
    "# Alternatively, you can use an end date of 2020-08-07 and work 3 years back from that date \n",
    "start_date = pd.Timestamp('2018-12-31', tz='America/New_York').isoformat()\n",
    "end_date = pd.Timestamp('2021-12-31', tz='America/New_York').isoformat()\n",
    "\n",
    "# Set number of rows to 1000 to retrieve the maximum amount of rows\n",
    "limit_rows = 1000"
   ]
  },
  {
   "cell_type": "code",
   "execution_count": 29,
   "metadata": {
    "execution": {
     "iopub.execute_input": "2022-01-01T00:33:37.034720Z",
     "iopub.status.busy": "2022-01-01T00:33:37.034382Z",
     "iopub.status.idle": "2022-01-01T00:33:37.338343Z",
     "shell.execute_reply": "2022-01-01T00:33:37.337622Z",
     "shell.execute_reply.started": "2022-01-01T00:33:37.034691Z"
    },
    "tags": []
   },
   "outputs": [
    {
     "data": {
      "text/html": [
       "<div>\n",
       "<style scoped>\n",
       "    .dataframe tbody tr th:only-of-type {\n",
       "        vertical-align: middle;\n",
       "    }\n",
       "\n",
       "    .dataframe tbody tr th {\n",
       "        vertical-align: top;\n",
       "    }\n",
       "\n",
       "    .dataframe thead tr th {\n",
       "        text-align: left;\n",
       "    }\n",
       "</style>\n",
       "<table border=\"1\" class=\"dataframe\">\n",
       "  <thead>\n",
       "    <tr>\n",
       "      <th></th>\n",
       "      <th colspan=\"5\" halign=\"left\">AGG</th>\n",
       "      <th colspan=\"5\" halign=\"left\">SPY</th>\n",
       "    </tr>\n",
       "    <tr>\n",
       "      <th></th>\n",
       "      <th>open</th>\n",
       "      <th>high</th>\n",
       "      <th>low</th>\n",
       "      <th>close</th>\n",
       "      <th>volume</th>\n",
       "      <th>open</th>\n",
       "      <th>high</th>\n",
       "      <th>low</th>\n",
       "      <th>close</th>\n",
       "      <th>volume</th>\n",
       "    </tr>\n",
       "  </thead>\n",
       "  <tbody>\n",
       "    <tr>\n",
       "      <th>2018-12-31</th>\n",
       "      <td>106.12</td>\n",
       "      <td>106.510</td>\n",
       "      <td>105.6200</td>\n",
       "      <td>106.495</td>\n",
       "      <td>8349838.0</td>\n",
       "      <td>249.56</td>\n",
       "      <td>250.16</td>\n",
       "      <td>247.47</td>\n",
       "      <td>248.55</td>\n",
       "      <td>100767777</td>\n",
       "    </tr>\n",
       "    <tr>\n",
       "      <th>2019-01-02</th>\n",
       "      <td>106.55</td>\n",
       "      <td>106.610</td>\n",
       "      <td>106.4701</td>\n",
       "      <td>106.585</td>\n",
       "      <td>10164756.0</td>\n",
       "      <td>245.98</td>\n",
       "      <td>251.21</td>\n",
       "      <td>245.95</td>\n",
       "      <td>249.89</td>\n",
       "      <td>107236613</td>\n",
       "    </tr>\n",
       "    <tr>\n",
       "      <th>2019-01-03</th>\n",
       "      <td>106.57</td>\n",
       "      <td>107.075</td>\n",
       "      <td>106.5700</td>\n",
       "      <td>107.020</td>\n",
       "      <td>6260265.0</td>\n",
       "      <td>248.23</td>\n",
       "      <td>248.57</td>\n",
       "      <td>244.03</td>\n",
       "      <td>244.46</td>\n",
       "      <td>113782919</td>\n",
       "    </tr>\n",
       "    <tr>\n",
       "      <th>2019-01-04</th>\n",
       "      <td>106.66</td>\n",
       "      <td>106.720</td>\n",
       "      <td>106.5500</td>\n",
       "      <td>106.695</td>\n",
       "      <td>7755476.0</td>\n",
       "      <td>247.59</td>\n",
       "      <td>253.11</td>\n",
       "      <td>247.17</td>\n",
       "      <td>252.41</td>\n",
       "      <td>122528832</td>\n",
       "    </tr>\n",
       "    <tr>\n",
       "      <th>2019-01-07</th>\n",
       "      <td>106.72</td>\n",
       "      <td>106.790</td>\n",
       "      <td>106.4600</td>\n",
       "      <td>106.470</td>\n",
       "      <td>6545877.0</td>\n",
       "      <td>252.69</td>\n",
       "      <td>255.95</td>\n",
       "      <td>251.69</td>\n",
       "      <td>254.40</td>\n",
       "      <td>88317608</td>\n",
       "    </tr>\n",
       "  </tbody>\n",
       "</table>\n",
       "</div>"
      ],
      "text/plain": [
       "               AGG                                             SPY          \\\n",
       "              open     high       low    close      volume    open    high   \n",
       "2018-12-31  106.12  106.510  105.6200  106.495   8349838.0  249.56  250.16   \n",
       "2019-01-02  106.55  106.610  106.4701  106.585  10164756.0  245.98  251.21   \n",
       "2019-01-03  106.57  107.075  106.5700  107.020   6260265.0  248.23  248.57   \n",
       "2019-01-04  106.66  106.720  106.5500  106.695   7755476.0  247.59  253.11   \n",
       "2019-01-07  106.72  106.790  106.4600  106.470   6545877.0  252.69  255.95   \n",
       "\n",
       "                                       \n",
       "               low   close     volume  \n",
       "2018-12-31  247.47  248.55  100767777  \n",
       "2019-01-02  245.95  249.89  107236613  \n",
       "2019-01-03  244.03  244.46  113782919  \n",
       "2019-01-04  247.17  252.41  122528832  \n",
       "2019-01-07  251.69  254.40   88317608  "
      ]
     },
     "metadata": {},
     "output_type": "display_data"
    },
    {
     "data": {
      "text/html": [
       "<div>\n",
       "<style scoped>\n",
       "    .dataframe tbody tr th:only-of-type {\n",
       "        vertical-align: middle;\n",
       "    }\n",
       "\n",
       "    .dataframe tbody tr th {\n",
       "        vertical-align: top;\n",
       "    }\n",
       "\n",
       "    .dataframe thead tr th {\n",
       "        text-align: left;\n",
       "    }\n",
       "</style>\n",
       "<table border=\"1\" class=\"dataframe\">\n",
       "  <thead>\n",
       "    <tr>\n",
       "      <th></th>\n",
       "      <th colspan=\"5\" halign=\"left\">AGG</th>\n",
       "      <th colspan=\"5\" halign=\"left\">SPY</th>\n",
       "    </tr>\n",
       "    <tr>\n",
       "      <th></th>\n",
       "      <th>open</th>\n",
       "      <th>high</th>\n",
       "      <th>low</th>\n",
       "      <th>close</th>\n",
       "      <th>volume</th>\n",
       "      <th>open</th>\n",
       "      <th>high</th>\n",
       "      <th>low</th>\n",
       "      <th>close</th>\n",
       "      <th>volume</th>\n",
       "    </tr>\n",
       "  </thead>\n",
       "  <tbody>\n",
       "    <tr>\n",
       "      <th>2021-12-27</th>\n",
       "      <td>114.15</td>\n",
       "      <td>114.30</td>\n",
       "      <td>114.13</td>\n",
       "      <td>114.27</td>\n",
       "      <td>5069840.0</td>\n",
       "      <td>472.03</td>\n",
       "      <td>477.31</td>\n",
       "      <td>472.01</td>\n",
       "      <td>477.27</td>\n",
       "      <td>46260198</td>\n",
       "    </tr>\n",
       "    <tr>\n",
       "      <th>2021-12-28</th>\n",
       "      <td>114.43</td>\n",
       "      <td>114.45</td>\n",
       "      <td>114.17</td>\n",
       "      <td>114.22</td>\n",
       "      <td>4892072.0</td>\n",
       "      <td>477.72</td>\n",
       "      <td>478.81</td>\n",
       "      <td>476.06</td>\n",
       "      <td>476.89</td>\n",
       "      <td>37370466</td>\n",
       "    </tr>\n",
       "    <tr>\n",
       "      <th>2021-12-29</th>\n",
       "      <td>113.99</td>\n",
       "      <td>114.05</td>\n",
       "      <td>113.81</td>\n",
       "      <td>113.87</td>\n",
       "      <td>5712959.0</td>\n",
       "      <td>477.00</td>\n",
       "      <td>478.56</td>\n",
       "      <td>475.92</td>\n",
       "      <td>477.46</td>\n",
       "      <td>47223213</td>\n",
       "    </tr>\n",
       "    <tr>\n",
       "      <th>2021-12-30</th>\n",
       "      <td>113.99</td>\n",
       "      <td>114.13</td>\n",
       "      <td>113.83</td>\n",
       "      <td>114.12</td>\n",
       "      <td>5044053.0</td>\n",
       "      <td>477.93</td>\n",
       "      <td>479.00</td>\n",
       "      <td>475.67</td>\n",
       "      <td>476.15</td>\n",
       "      <td>44681636</td>\n",
       "    </tr>\n",
       "    <tr>\n",
       "      <th>2021-12-31</th>\n",
       "      <td>114.15</td>\n",
       "      <td>114.31</td>\n",
       "      <td>114.06</td>\n",
       "      <td>114.09</td>\n",
       "      <td>6557778.0</td>\n",
       "      <td>475.64</td>\n",
       "      <td>476.86</td>\n",
       "      <td>474.67</td>\n",
       "      <td>474.89</td>\n",
       "      <td>51212452</td>\n",
       "    </tr>\n",
       "  </tbody>\n",
       "</table>\n",
       "</div>"
      ],
      "text/plain": [
       "               AGG                                        SPY                  \\\n",
       "              open    high     low   close     volume    open    high     low   \n",
       "2021-12-27  114.15  114.30  114.13  114.27  5069840.0  472.03  477.31  472.01   \n",
       "2021-12-28  114.43  114.45  114.17  114.22  4892072.0  477.72  478.81  476.06   \n",
       "2021-12-29  113.99  114.05  113.81  113.87  5712959.0  477.00  478.56  475.92   \n",
       "2021-12-30  113.99  114.13  113.83  114.12  5044053.0  477.93  479.00  475.67   \n",
       "2021-12-31  114.15  114.31  114.06  114.09  6557778.0  475.64  476.86  474.67   \n",
       "\n",
       "                              \n",
       "             close    volume  \n",
       "2021-12-27  477.27  46260198  \n",
       "2021-12-28  476.89  37370466  \n",
       "2021-12-29  477.46  47223213  \n",
       "2021-12-30  476.15  44681636  \n",
       "2021-12-31  474.89  51212452  "
      ]
     },
     "metadata": {},
     "output_type": "display_data"
    },
    {
     "data": {
      "text/plain": [
       "(758, 10)"
      ]
     },
     "execution_count": 29,
     "metadata": {},
     "output_type": "execute_result"
    }
   ],
   "source": [
    "# Use the Alpaca get_barset function to make the API call to get the 3 years worth of pricing data\n",
    "# The tickers and timeframe parameters should have been set in Part 1 of this activity \n",
    "# The start and end dates should be updated with the information set above\n",
    "# Remember to add the df property to the end of the call so the response is returned as a DataFrame\n",
    "prices_df = alpaca.get_barset(\n",
    "    tickers,\n",
    "    timeframe,\n",
    "    start=start_date,\n",
    "    end=end_date,\n",
    "    limit=limit_rows\n",
    ").df\n",
    "\n",
    "# Keep only the date element of the index\n",
    "prices_df.index = prices_df.index.date\n",
    "\n",
    "# Display both the first and last five rows of the DataFrame\n",
    "display(prices_df.head())\n",
    "display(prices_df.tail())\n",
    "prices_df.shape"
   ]
  },
  {
   "cell_type": "markdown",
   "metadata": {},
   "source": [
    "#### Step 2: Run a Monte Carlo simulation of 500 samples and 30 years for the 60/40 portfolio, and then plot the results."
   ]
  },
  {
   "cell_type": "code",
   "execution_count": 30,
   "metadata": {
    "execution": {
     "iopub.execute_input": "2022-01-01T00:33:37.339957Z",
     "iopub.status.busy": "2022-01-01T00:33:37.339711Z",
     "iopub.status.idle": "2022-01-01T00:33:37.368271Z",
     "shell.execute_reply": "2022-01-01T00:33:37.367574Z",
     "shell.execute_reply.started": "2022-01-01T00:33:37.339929Z"
    },
    "tags": []
   },
   "outputs": [
    {
     "data": {
      "text/html": [
       "<div>\n",
       "<style scoped>\n",
       "    .dataframe tbody tr th:only-of-type {\n",
       "        vertical-align: middle;\n",
       "    }\n",
       "\n",
       "    .dataframe tbody tr th {\n",
       "        vertical-align: top;\n",
       "    }\n",
       "\n",
       "    .dataframe thead tr th {\n",
       "        text-align: left;\n",
       "    }\n",
       "</style>\n",
       "<table border=\"1\" class=\"dataframe\">\n",
       "  <thead>\n",
       "    <tr>\n",
       "      <th></th>\n",
       "      <th colspan=\"6\" halign=\"left\">AGG</th>\n",
       "      <th colspan=\"6\" halign=\"left\">SPY</th>\n",
       "    </tr>\n",
       "    <tr>\n",
       "      <th></th>\n",
       "      <th>open</th>\n",
       "      <th>high</th>\n",
       "      <th>low</th>\n",
       "      <th>close</th>\n",
       "      <th>volume</th>\n",
       "      <th>daily_return</th>\n",
       "      <th>open</th>\n",
       "      <th>high</th>\n",
       "      <th>low</th>\n",
       "      <th>close</th>\n",
       "      <th>volume</th>\n",
       "      <th>daily_return</th>\n",
       "    </tr>\n",
       "  </thead>\n",
       "  <tbody>\n",
       "    <tr>\n",
       "      <th>2018-12-31</th>\n",
       "      <td>106.12</td>\n",
       "      <td>106.510</td>\n",
       "      <td>105.6200</td>\n",
       "      <td>106.495</td>\n",
       "      <td>8349838.0</td>\n",
       "      <td>NaN</td>\n",
       "      <td>249.56</td>\n",
       "      <td>250.16</td>\n",
       "      <td>247.47</td>\n",
       "      <td>248.55</td>\n",
       "      <td>100767777</td>\n",
       "      <td>NaN</td>\n",
       "    </tr>\n",
       "    <tr>\n",
       "      <th>2019-01-02</th>\n",
       "      <td>106.55</td>\n",
       "      <td>106.610</td>\n",
       "      <td>106.4701</td>\n",
       "      <td>106.585</td>\n",
       "      <td>10164756.0</td>\n",
       "      <td>0.000845</td>\n",
       "      <td>245.98</td>\n",
       "      <td>251.21</td>\n",
       "      <td>245.95</td>\n",
       "      <td>249.89</td>\n",
       "      <td>107236613</td>\n",
       "      <td>0.005391</td>\n",
       "    </tr>\n",
       "    <tr>\n",
       "      <th>2019-01-03</th>\n",
       "      <td>106.57</td>\n",
       "      <td>107.075</td>\n",
       "      <td>106.5700</td>\n",
       "      <td>107.020</td>\n",
       "      <td>6260265.0</td>\n",
       "      <td>0.004081</td>\n",
       "      <td>248.23</td>\n",
       "      <td>248.57</td>\n",
       "      <td>244.03</td>\n",
       "      <td>244.46</td>\n",
       "      <td>113782919</td>\n",
       "      <td>-0.021730</td>\n",
       "    </tr>\n",
       "    <tr>\n",
       "      <th>2019-01-04</th>\n",
       "      <td>106.66</td>\n",
       "      <td>106.720</td>\n",
       "      <td>106.5500</td>\n",
       "      <td>106.695</td>\n",
       "      <td>7755476.0</td>\n",
       "      <td>-0.003037</td>\n",
       "      <td>247.59</td>\n",
       "      <td>253.11</td>\n",
       "      <td>247.17</td>\n",
       "      <td>252.41</td>\n",
       "      <td>122528832</td>\n",
       "      <td>0.032521</td>\n",
       "    </tr>\n",
       "    <tr>\n",
       "      <th>2019-01-07</th>\n",
       "      <td>106.72</td>\n",
       "      <td>106.790</td>\n",
       "      <td>106.4600</td>\n",
       "      <td>106.470</td>\n",
       "      <td>6545877.0</td>\n",
       "      <td>-0.002109</td>\n",
       "      <td>252.69</td>\n",
       "      <td>255.95</td>\n",
       "      <td>251.69</td>\n",
       "      <td>254.40</td>\n",
       "      <td>88317608</td>\n",
       "      <td>0.007884</td>\n",
       "    </tr>\n",
       "  </tbody>\n",
       "</table>\n",
       "</div>"
      ],
      "text/plain": [
       "               AGG                                                       \\\n",
       "              open     high       low    close      volume daily_return   \n",
       "2018-12-31  106.12  106.510  105.6200  106.495   8349838.0          NaN   \n",
       "2019-01-02  106.55  106.610  106.4701  106.585  10164756.0     0.000845   \n",
       "2019-01-03  106.57  107.075  106.5700  107.020   6260265.0     0.004081   \n",
       "2019-01-04  106.66  106.720  106.5500  106.695   7755476.0    -0.003037   \n",
       "2019-01-07  106.72  106.790  106.4600  106.470   6545877.0    -0.002109   \n",
       "\n",
       "               SPY                                                  \n",
       "              open    high     low   close     volume daily_return  \n",
       "2018-12-31  249.56  250.16  247.47  248.55  100767777          NaN  \n",
       "2019-01-02  245.98  251.21  245.95  249.89  107236613     0.005391  \n",
       "2019-01-03  248.23  248.57  244.03  244.46  113782919    -0.021730  \n",
       "2019-01-04  247.59  253.11  247.17  252.41  122528832     0.032521  \n",
       "2019-01-07  252.69  255.95  251.69  254.40   88317608     0.007884  "
      ]
     },
     "execution_count": 30,
     "metadata": {},
     "output_type": "execute_result"
    }
   ],
   "source": [
    "# Configure the Monte Carlo simulation to forecast 30 years cumulative returns\n",
    "# The weights should be split 40% to AGG and 60% to SPY.\n",
    "# Run 500 samples.\n",
    "MC_30 = MCSimulation(\n",
    "    portfolio_data=prices_df,\n",
    "    weights=[0.4, 0.6],\n",
    "    num_simulation=500,\n",
    "    num_trading_days=252*30\n",
    ")\n",
    "\n",
    "# Review the simulation input data\n",
    "MC_30.portfolio_data.head()\n"
   ]
  },
  {
   "cell_type": "code",
   "execution_count": 31,
   "metadata": {
    "execution": {
     "iopub.execute_input": "2022-01-01T00:33:37.369698Z",
     "iopub.status.busy": "2022-01-01T00:33:37.369258Z",
     "iopub.status.idle": "2022-01-01T00:35:28.212453Z",
     "shell.execute_reply": "2022-01-01T00:35:28.211853Z",
     "shell.execute_reply.started": "2022-01-01T00:33:37.369669Z"
    },
    "tags": []
   },
   "outputs": [
    {
     "name": "stdout",
     "output_type": "stream",
     "text": [
      "Running Monte Carlo simulation number 0.\n",
      "Running Monte Carlo simulation number 10.\n",
      "Running Monte Carlo simulation number 20.\n",
      "Running Monte Carlo simulation number 30.\n",
      "Running Monte Carlo simulation number 40.\n",
      "Running Monte Carlo simulation number 50.\n",
      "Running Monte Carlo simulation number 60.\n",
      "Running Monte Carlo simulation number 70.\n",
      "Running Monte Carlo simulation number 80.\n",
      "Running Monte Carlo simulation number 90.\n",
      "Running Monte Carlo simulation number 100.\n"
     ]
    },
    {
     "name": "stderr",
     "output_type": "stream",
     "text": [
      "/Users/jmischun/Documents/uw/finTech_bootCamp_2021/module_5/challenge_activity/MCForecastTools.py:117: PerformanceWarning: DataFrame is highly fragmented.  This is usually the result of calling `frame.insert` many times, which has poor performance.  Consider joining all columns at once using pd.concat(axis=1) instead.  To get a de-fragmented frame, use `newframe = frame.copy()`\n",
      "  portfolio_cumulative_returns[n] = (1 + sim_df.fillna(0)).cumprod()\n"
     ]
    },
    {
     "name": "stdout",
     "output_type": "stream",
     "text": [
      "Running Monte Carlo simulation number 110.\n",
      "Running Monte Carlo simulation number 120.\n",
      "Running Monte Carlo simulation number 130.\n",
      "Running Monte Carlo simulation number 140.\n",
      "Running Monte Carlo simulation number 150.\n",
      "Running Monte Carlo simulation number 160.\n",
      "Running Monte Carlo simulation number 170.\n",
      "Running Monte Carlo simulation number 180.\n",
      "Running Monte Carlo simulation number 190.\n",
      "Running Monte Carlo simulation number 200.\n",
      "Running Monte Carlo simulation number 210.\n",
      "Running Monte Carlo simulation number 220.\n",
      "Running Monte Carlo simulation number 230.\n",
      "Running Monte Carlo simulation number 240.\n",
      "Running Monte Carlo simulation number 250.\n",
      "Running Monte Carlo simulation number 260.\n",
      "Running Monte Carlo simulation number 270.\n",
      "Running Monte Carlo simulation number 280.\n",
      "Running Monte Carlo simulation number 290.\n",
      "Running Monte Carlo simulation number 300.\n",
      "Running Monte Carlo simulation number 310.\n",
      "Running Monte Carlo simulation number 320.\n",
      "Running Monte Carlo simulation number 330.\n",
      "Running Monte Carlo simulation number 340.\n",
      "Running Monte Carlo simulation number 350.\n",
      "Running Monte Carlo simulation number 360.\n",
      "Running Monte Carlo simulation number 370.\n",
      "Running Monte Carlo simulation number 380.\n",
      "Running Monte Carlo simulation number 390.\n",
      "Running Monte Carlo simulation number 400.\n",
      "Running Monte Carlo simulation number 410.\n",
      "Running Monte Carlo simulation number 420.\n",
      "Running Monte Carlo simulation number 430.\n",
      "Running Monte Carlo simulation number 440.\n",
      "Running Monte Carlo simulation number 450.\n",
      "Running Monte Carlo simulation number 460.\n",
      "Running Monte Carlo simulation number 470.\n",
      "Running Monte Carlo simulation number 480.\n",
      "Running Monte Carlo simulation number 490.\n"
     ]
    },
    {
     "data": {
      "text/html": [
       "<div>\n",
       "<style scoped>\n",
       "    .dataframe tbody tr th:only-of-type {\n",
       "        vertical-align: middle;\n",
       "    }\n",
       "\n",
       "    .dataframe tbody tr th {\n",
       "        vertical-align: top;\n",
       "    }\n",
       "\n",
       "    .dataframe thead th {\n",
       "        text-align: right;\n",
       "    }\n",
       "</style>\n",
       "<table border=\"1\" class=\"dataframe\">\n",
       "  <thead>\n",
       "    <tr style=\"text-align: right;\">\n",
       "      <th></th>\n",
       "      <th>0</th>\n",
       "      <th>1</th>\n",
       "      <th>2</th>\n",
       "      <th>3</th>\n",
       "      <th>4</th>\n",
       "      <th>5</th>\n",
       "      <th>6</th>\n",
       "      <th>7</th>\n",
       "      <th>8</th>\n",
       "      <th>9</th>\n",
       "      <th>...</th>\n",
       "      <th>490</th>\n",
       "      <th>491</th>\n",
       "      <th>492</th>\n",
       "      <th>493</th>\n",
       "      <th>494</th>\n",
       "      <th>495</th>\n",
       "      <th>496</th>\n",
       "      <th>497</th>\n",
       "      <th>498</th>\n",
       "      <th>499</th>\n",
       "    </tr>\n",
       "  </thead>\n",
       "  <tbody>\n",
       "    <tr>\n",
       "      <th>0</th>\n",
       "      <td>1.000000</td>\n",
       "      <td>1.000000</td>\n",
       "      <td>1.000000</td>\n",
       "      <td>1.000000</td>\n",
       "      <td>1.000000</td>\n",
       "      <td>1.000000</td>\n",
       "      <td>1.000000</td>\n",
       "      <td>1.000000</td>\n",
       "      <td>1.000000</td>\n",
       "      <td>1.000000</td>\n",
       "      <td>...</td>\n",
       "      <td>1.000000</td>\n",
       "      <td>1.000000</td>\n",
       "      <td>1.000000</td>\n",
       "      <td>1.000000</td>\n",
       "      <td>1.000000</td>\n",
       "      <td>1.000000</td>\n",
       "      <td>1.000000</td>\n",
       "      <td>1.000000</td>\n",
       "      <td>1.000000</td>\n",
       "      <td>1.000000</td>\n",
       "    </tr>\n",
       "    <tr>\n",
       "      <th>1</th>\n",
       "      <td>0.994053</td>\n",
       "      <td>1.005932</td>\n",
       "      <td>0.998760</td>\n",
       "      <td>1.003272</td>\n",
       "      <td>1.002618</td>\n",
       "      <td>0.998493</td>\n",
       "      <td>0.994625</td>\n",
       "      <td>0.984829</td>\n",
       "      <td>0.988288</td>\n",
       "      <td>0.999519</td>\n",
       "      <td>...</td>\n",
       "      <td>0.990686</td>\n",
       "      <td>1.011624</td>\n",
       "      <td>1.007362</td>\n",
       "      <td>1.003046</td>\n",
       "      <td>1.001089</td>\n",
       "      <td>1.001130</td>\n",
       "      <td>1.013809</td>\n",
       "      <td>0.999518</td>\n",
       "      <td>1.012785</td>\n",
       "      <td>0.987426</td>\n",
       "    </tr>\n",
       "    <tr>\n",
       "      <th>2</th>\n",
       "      <td>1.005223</td>\n",
       "      <td>1.002844</td>\n",
       "      <td>0.985314</td>\n",
       "      <td>0.999694</td>\n",
       "      <td>0.993703</td>\n",
       "      <td>0.994624</td>\n",
       "      <td>1.004459</td>\n",
       "      <td>0.985135</td>\n",
       "      <td>0.989970</td>\n",
       "      <td>0.997369</td>\n",
       "      <td>...</td>\n",
       "      <td>0.983701</td>\n",
       "      <td>1.003305</td>\n",
       "      <td>0.995476</td>\n",
       "      <td>1.010810</td>\n",
       "      <td>1.003387</td>\n",
       "      <td>1.000707</td>\n",
       "      <td>1.004898</td>\n",
       "      <td>1.000771</td>\n",
       "      <td>1.008878</td>\n",
       "      <td>0.989111</td>\n",
       "    </tr>\n",
       "    <tr>\n",
       "      <th>3</th>\n",
       "      <td>1.001470</td>\n",
       "      <td>1.003726</td>\n",
       "      <td>0.982712</td>\n",
       "      <td>0.994454</td>\n",
       "      <td>0.993846</td>\n",
       "      <td>1.008569</td>\n",
       "      <td>0.991162</td>\n",
       "      <td>0.995139</td>\n",
       "      <td>0.993793</td>\n",
       "      <td>1.006724</td>\n",
       "      <td>...</td>\n",
       "      <td>0.974717</td>\n",
       "      <td>0.997917</td>\n",
       "      <td>0.984469</td>\n",
       "      <td>1.006196</td>\n",
       "      <td>0.985186</td>\n",
       "      <td>1.009840</td>\n",
       "      <td>1.007139</td>\n",
       "      <td>1.021904</td>\n",
       "      <td>1.008265</td>\n",
       "      <td>1.003521</td>\n",
       "    </tr>\n",
       "    <tr>\n",
       "      <th>4</th>\n",
       "      <td>0.999124</td>\n",
       "      <td>1.006518</td>\n",
       "      <td>1.000527</td>\n",
       "      <td>1.001887</td>\n",
       "      <td>1.000476</td>\n",
       "      <td>1.011186</td>\n",
       "      <td>0.988381</td>\n",
       "      <td>1.008374</td>\n",
       "      <td>0.998013</td>\n",
       "      <td>1.006008</td>\n",
       "      <td>...</td>\n",
       "      <td>0.971691</td>\n",
       "      <td>1.001820</td>\n",
       "      <td>0.986185</td>\n",
       "      <td>1.005795</td>\n",
       "      <td>0.989969</td>\n",
       "      <td>1.007538</td>\n",
       "      <td>1.007033</td>\n",
       "      <td>1.036207</td>\n",
       "      <td>1.008931</td>\n",
       "      <td>1.002621</td>\n",
       "    </tr>\n",
       "    <tr>\n",
       "      <th>...</th>\n",
       "      <td>...</td>\n",
       "      <td>...</td>\n",
       "      <td>...</td>\n",
       "      <td>...</td>\n",
       "      <td>...</td>\n",
       "      <td>...</td>\n",
       "      <td>...</td>\n",
       "      <td>...</td>\n",
       "      <td>...</td>\n",
       "      <td>...</td>\n",
       "      <td>...</td>\n",
       "      <td>...</td>\n",
       "      <td>...</td>\n",
       "      <td>...</td>\n",
       "      <td>...</td>\n",
       "      <td>...</td>\n",
       "      <td>...</td>\n",
       "      <td>...</td>\n",
       "      <td>...</td>\n",
       "      <td>...</td>\n",
       "      <td>...</td>\n",
       "    </tr>\n",
       "    <tr>\n",
       "      <th>7556</th>\n",
       "      <td>61.587585</td>\n",
       "      <td>99.445786</td>\n",
       "      <td>72.253416</td>\n",
       "      <td>30.285339</td>\n",
       "      <td>40.359507</td>\n",
       "      <td>48.986330</td>\n",
       "      <td>93.806512</td>\n",
       "      <td>109.776375</td>\n",
       "      <td>17.047078</td>\n",
       "      <td>90.568856</td>\n",
       "      <td>...</td>\n",
       "      <td>133.885899</td>\n",
       "      <td>100.711824</td>\n",
       "      <td>62.642051</td>\n",
       "      <td>41.369072</td>\n",
       "      <td>60.481812</td>\n",
       "      <td>75.155278</td>\n",
       "      <td>49.721526</td>\n",
       "      <td>131.579170</td>\n",
       "      <td>31.590735</td>\n",
       "      <td>78.700825</td>\n",
       "    </tr>\n",
       "    <tr>\n",
       "      <th>7557</th>\n",
       "      <td>61.414572</td>\n",
       "      <td>98.783246</td>\n",
       "      <td>71.916689</td>\n",
       "      <td>30.304582</td>\n",
       "      <td>40.141796</td>\n",
       "      <td>49.313903</td>\n",
       "      <td>94.127421</td>\n",
       "      <td>110.567085</td>\n",
       "      <td>17.109527</td>\n",
       "      <td>90.512024</td>\n",
       "      <td>...</td>\n",
       "      <td>133.561502</td>\n",
       "      <td>102.441069</td>\n",
       "      <td>62.432400</td>\n",
       "      <td>41.723340</td>\n",
       "      <td>60.461406</td>\n",
       "      <td>74.729656</td>\n",
       "      <td>49.901390</td>\n",
       "      <td>133.104900</td>\n",
       "      <td>31.677762</td>\n",
       "      <td>78.458252</td>\n",
       "    </tr>\n",
       "    <tr>\n",
       "      <th>7558</th>\n",
       "      <td>62.027896</td>\n",
       "      <td>99.152271</td>\n",
       "      <td>71.938690</td>\n",
       "      <td>30.788873</td>\n",
       "      <td>39.610652</td>\n",
       "      <td>48.871399</td>\n",
       "      <td>92.891119</td>\n",
       "      <td>110.100056</td>\n",
       "      <td>17.050723</td>\n",
       "      <td>91.779104</td>\n",
       "      <td>...</td>\n",
       "      <td>134.070822</td>\n",
       "      <td>104.975100</td>\n",
       "      <td>62.336593</td>\n",
       "      <td>41.521076</td>\n",
       "      <td>61.233481</td>\n",
       "      <td>74.525106</td>\n",
       "      <td>49.773997</td>\n",
       "      <td>132.388634</td>\n",
       "      <td>31.514544</td>\n",
       "      <td>78.389176</td>\n",
       "    </tr>\n",
       "    <tr>\n",
       "      <th>7559</th>\n",
       "      <td>62.195542</td>\n",
       "      <td>100.683742</td>\n",
       "      <td>72.061509</td>\n",
       "      <td>30.549323</td>\n",
       "      <td>39.806934</td>\n",
       "      <td>48.939569</td>\n",
       "      <td>92.113883</td>\n",
       "      <td>110.021162</td>\n",
       "      <td>16.793779</td>\n",
       "      <td>92.128831</td>\n",
       "      <td>...</td>\n",
       "      <td>133.451770</td>\n",
       "      <td>105.853368</td>\n",
       "      <td>62.975447</td>\n",
       "      <td>41.578654</td>\n",
       "      <td>60.790964</td>\n",
       "      <td>74.800637</td>\n",
       "      <td>49.777486</td>\n",
       "      <td>132.652916</td>\n",
       "      <td>31.693114</td>\n",
       "      <td>78.506572</td>\n",
       "    </tr>\n",
       "    <tr>\n",
       "      <th>7560</th>\n",
       "      <td>62.658998</td>\n",
       "      <td>100.767500</td>\n",
       "      <td>72.736784</td>\n",
       "      <td>30.879763</td>\n",
       "      <td>39.846964</td>\n",
       "      <td>49.493447</td>\n",
       "      <td>90.018382</td>\n",
       "      <td>109.804499</td>\n",
       "      <td>16.910340</td>\n",
       "      <td>94.216332</td>\n",
       "      <td>...</td>\n",
       "      <td>134.362529</td>\n",
       "      <td>106.684913</td>\n",
       "      <td>63.281795</td>\n",
       "      <td>41.171790</td>\n",
       "      <td>60.270402</td>\n",
       "      <td>75.284609</td>\n",
       "      <td>49.174741</td>\n",
       "      <td>133.134250</td>\n",
       "      <td>31.600263</td>\n",
       "      <td>77.590642</td>\n",
       "    </tr>\n",
       "  </tbody>\n",
       "</table>\n",
       "<p>7561 rows × 500 columns</p>\n",
       "</div>"
      ],
      "text/plain": [
       "            0           1          2          3          4          5    \\\n",
       "0      1.000000    1.000000   1.000000   1.000000   1.000000   1.000000   \n",
       "1      0.994053    1.005932   0.998760   1.003272   1.002618   0.998493   \n",
       "2      1.005223    1.002844   0.985314   0.999694   0.993703   0.994624   \n",
       "3      1.001470    1.003726   0.982712   0.994454   0.993846   1.008569   \n",
       "4      0.999124    1.006518   1.000527   1.001887   1.000476   1.011186   \n",
       "...         ...         ...        ...        ...        ...        ...   \n",
       "7556  61.587585   99.445786  72.253416  30.285339  40.359507  48.986330   \n",
       "7557  61.414572   98.783246  71.916689  30.304582  40.141796  49.313903   \n",
       "7558  62.027896   99.152271  71.938690  30.788873  39.610652  48.871399   \n",
       "7559  62.195542  100.683742  72.061509  30.549323  39.806934  48.939569   \n",
       "7560  62.658998  100.767500  72.736784  30.879763  39.846964  49.493447   \n",
       "\n",
       "            6           7          8          9    ...         490  \\\n",
       "0      1.000000    1.000000   1.000000   1.000000  ...    1.000000   \n",
       "1      0.994625    0.984829   0.988288   0.999519  ...    0.990686   \n",
       "2      1.004459    0.985135   0.989970   0.997369  ...    0.983701   \n",
       "3      0.991162    0.995139   0.993793   1.006724  ...    0.974717   \n",
       "4      0.988381    1.008374   0.998013   1.006008  ...    0.971691   \n",
       "...         ...         ...        ...        ...  ...         ...   \n",
       "7556  93.806512  109.776375  17.047078  90.568856  ...  133.885899   \n",
       "7557  94.127421  110.567085  17.109527  90.512024  ...  133.561502   \n",
       "7558  92.891119  110.100056  17.050723  91.779104  ...  134.070822   \n",
       "7559  92.113883  110.021162  16.793779  92.128831  ...  133.451770   \n",
       "7560  90.018382  109.804499  16.910340  94.216332  ...  134.362529   \n",
       "\n",
       "             491        492        493        494        495        496  \\\n",
       "0       1.000000   1.000000   1.000000   1.000000   1.000000   1.000000   \n",
       "1       1.011624   1.007362   1.003046   1.001089   1.001130   1.013809   \n",
       "2       1.003305   0.995476   1.010810   1.003387   1.000707   1.004898   \n",
       "3       0.997917   0.984469   1.006196   0.985186   1.009840   1.007139   \n",
       "4       1.001820   0.986185   1.005795   0.989969   1.007538   1.007033   \n",
       "...          ...        ...        ...        ...        ...        ...   \n",
       "7556  100.711824  62.642051  41.369072  60.481812  75.155278  49.721526   \n",
       "7557  102.441069  62.432400  41.723340  60.461406  74.729656  49.901390   \n",
       "7558  104.975100  62.336593  41.521076  61.233481  74.525106  49.773997   \n",
       "7559  105.853368  62.975447  41.578654  60.790964  74.800637  49.777486   \n",
       "7560  106.684913  63.281795  41.171790  60.270402  75.284609  49.174741   \n",
       "\n",
       "             497        498        499  \n",
       "0       1.000000   1.000000   1.000000  \n",
       "1       0.999518   1.012785   0.987426  \n",
       "2       1.000771   1.008878   0.989111  \n",
       "3       1.021904   1.008265   1.003521  \n",
       "4       1.036207   1.008931   1.002621  \n",
       "...          ...        ...        ...  \n",
       "7556  131.579170  31.590735  78.700825  \n",
       "7557  133.104900  31.677762  78.458252  \n",
       "7558  132.388634  31.514544  78.389176  \n",
       "7559  132.652916  31.693114  78.506572  \n",
       "7560  133.134250  31.600263  77.590642  \n",
       "\n",
       "[7561 rows x 500 columns]"
      ]
     },
     "execution_count": 31,
     "metadata": {},
     "output_type": "execute_result"
    }
   ],
   "source": [
    "# Run the Monte Carlo simulation to forecast 30 years cumulative returns\n",
    "MC_30.calc_cumulative_return()\n"
   ]
  },
  {
   "cell_type": "code",
   "execution_count": 32,
   "metadata": {
    "execution": {
     "iopub.execute_input": "2022-01-01T00:35:28.213848Z",
     "iopub.status.busy": "2022-01-01T00:35:28.213539Z",
     "iopub.status.idle": "2022-01-01T00:35:30.230235Z",
     "shell.execute_reply": "2022-01-01T00:35:30.229572Z",
     "shell.execute_reply.started": "2022-01-01T00:35:28.213824Z"
    },
    "tags": []
   },
   "outputs": [
    {
     "data": {
      "image/png": "[encoded data removed]",
      "text/plain": [
       "<Figure size 432x288 with 1 Axes>"
      ]
     },
     "metadata": {
      "needs_background": "light"
     },
     "output_type": "display_data"
    }
   ],
   "source": [
    "# Visualize the 30-year Monte Carlo simulation by creating an\n",
    "# overlay line plot\n",
    "spy_30_line_plot = MC_30.plot_simulation();\n"
   ]
  },
  {
   "cell_type": "markdown",
   "metadata": {},
   "source": [
    "#### Step 3: Plot the probability distribution of the Monte Carlo simulation."
   ]
  },
  {
   "cell_type": "code",
   "execution_count": 33,
   "metadata": {
    "execution": {
     "iopub.execute_input": "2022-01-01T00:35:30.231890Z",
     "iopub.status.busy": "2022-01-01T00:35:30.231419Z",
     "iopub.status.idle": "2022-01-01T00:35:30.381473Z",
     "shell.execute_reply": "2022-01-01T00:35:30.380920Z",
     "shell.execute_reply.started": "2022-01-01T00:35:30.231862Z"
    },
    "tags": []
   },
   "outputs": [
    {
     "data": {
      "image/png": "[encoded data removed]",
      "text/plain": [
       "<Figure size 432x288 with 1 Axes>"
      ]
     },
     "metadata": {
      "needs_background": "light"
     },
     "output_type": "display_data"
    }
   ],
   "source": [
    "# Visualize the probability distribution of the 30-year Monte Carlo simulation \n",
    "# by plotting a histogram\n",
    "spy_30_dist_plot = MC_30.plot_distribution();\n"
   ]
  },
  {
   "cell_type": "markdown",
   "metadata": {},
   "source": [
    "#### Step 4: Generate the summary statistics for the Monte Carlo simulation."
   ]
  },
  {
   "cell_type": "code",
   "execution_count": 36,
   "metadata": {
    "execution": {
     "iopub.execute_input": "2022-01-01T00:37:14.414638Z",
     "iopub.status.busy": "2022-01-01T00:37:14.414192Z",
     "iopub.status.idle": "2022-01-01T00:37:14.425993Z",
     "shell.execute_reply": "2022-01-01T00:37:14.425263Z",
     "shell.execute_reply.started": "2022-01-01T00:37:14.414604Z"
    },
    "tags": []
   },
   "outputs": [
    {
     "data": {
      "text/plain": [
       "count           500.000000\n",
       "mean             97.792567\n",
       "std              84.878865\n",
       "min               7.453620\n",
       "25%              45.048497\n",
       "50%              72.823087\n",
       "75%             123.314015\n",
       "max             828.966276\n",
       "95% CI Lower     17.326789\n",
       "95% CI Upper    306.137726\n",
       "Name: 7560, dtype: float64"
      ]
     },
     "execution_count": 36,
     "metadata": {},
     "output_type": "execute_result"
    }
   ],
   "source": [
    "# Generate summary statistics from the 30-year Monte Carlo simulation results\n",
    "# Save the results as a variable\n",
    "spy_30_table = MC_30.summarize_cumulative_return()\n",
    "\n",
    "\n",
    "# Review the 30-year Monte Carlo summary statistics\n",
    "spy_30_table"
   ]
  },
  {
   "cell_type": "markdown",
   "metadata": {},
   "source": [
    "### Analyze the Retirement Portfolio Forecasts\n",
    "\n",
    "Using the current value of only the stock and bond portion of the member's portfolio and the summary statistics that you generated from the Monte Carlo simulation, answer the following question in your Jupyter notebook:\n",
    "\n",
    "-  What are the lower and upper bounds for the expected value of the portfolio with a 95% confidence interval?\n"
   ]
  },
  {
   "cell_type": "code",
   "execution_count": 37,
   "metadata": {
    "execution": {
     "iopub.execute_input": "2022-01-01T00:37:16.068274Z",
     "iopub.status.busy": "2022-01-01T00:37:16.067935Z",
     "iopub.status.idle": "2022-01-01T00:37:16.073073Z",
     "shell.execute_reply": "2022-01-01T00:37:16.072224Z",
     "shell.execute_reply.started": "2022-01-01T00:37:16.068241Z"
    },
    "tags": []
   },
   "outputs": [
    {
     "name": "stdout",
     "output_type": "stream",
     "text": [
      "Current Stock & Bond Portfolio Value: $75,055.90\n"
     ]
    }
   ],
   "source": [
    "# Print the current balance of the stock and bond portion of the members portfolio\n",
    "print(f\"Current Stock & Bond Portfolio \"\n",
    "      f\"Value: ${total_stocks_bonds:,.2f}\")\n"
   ]
  },
  {
   "cell_type": "code",
   "execution_count": 38,
   "metadata": {
    "execution": {
     "iopub.execute_input": "2022-01-01T00:37:16.656235Z",
     "iopub.status.busy": "2022-01-01T00:37:16.655885Z",
     "iopub.status.idle": "2022-01-01T00:37:16.662643Z",
     "shell.execute_reply": "2022-01-01T00:37:16.661718Z",
     "shell.execute_reply.started": "2022-01-01T00:37:16.656202Z"
    },
    "tags": []
   },
   "outputs": [
    {
     "name": "stdout",
     "output_type": "stream",
     "text": [
      "There is a 95% chance that in thirty years the value of the stocks and bonds portfolio, currently valued at $75,055.90, will be worth between $1,300,477.77 and $22,977,442.55.\n"
     ]
    }
   ],
   "source": [
    "# Use the lower and upper `95%` confidence intervals to calculate the range of the possible outcomes for the current stock/bond portfolio\n",
    "ci_lower_thirty_cumulative_return = spy_30_table[8] * total_stocks_bonds\n",
    "ci_upper_thirty_cumulative_return = spy_30_table[9] * total_stocks_bonds\n",
    "\n",
    "# Print the result of your calculations\n",
    "print(f\"There is a 95% chance that in thirty years the value of the stocks \"\n",
    "      f\"and bonds portfolio, currently valued at ${total_stocks_bonds:,.2f}, \"\n",
    "      f\"will be worth between ${ci_lower_thirty_cumulative_return:,.2f} \"\n",
    "      f\"and ${ci_upper_thirty_cumulative_return:,.2f}.\")\n"
   ]
  },
  {
   "cell_type": "markdown",
   "metadata": {},
   "source": [
    "### Forecast Cumulative Returns in 10 Years\n",
    "\n",
    "The CTO of the credit union is impressed with your work on these planning tools but wonders if 30 years is a long time to wait until retirement. So, your next task is to adjust the retirement portfolio and run a new Monte Carlo simulation to find out if the changes will allow members to retire earlier.\n",
    "\n",
    "For this new Monte Carlo simulation, do the following: \n",
    "\n",
    "- Forecast the cumulative returns for 10 years from now. Because of the shortened investment horizon (30 years to 10 years), the portfolio needs to invest more heavily in the riskier asset&mdash;that is, stock&mdash;to help accumulate wealth for retirement. \n",
    "\n",
    "- Adjust the weights of the retirement portfolio so that the composition for the Monte Carlo simulation consists of 20% bonds and 80% stocks. \n",
    "\n",
    "- Run the simulation over 500 samples, and use the same data that the API call to Alpaca generated.\n",
    "\n",
    "- Based on the new Monte Carlo simulation, answer the following questions in your Jupyter notebook:\n",
    "\n",
    "    - Using the current value of only the stock and bond portion of the member's portfolio and the summary statistics that you generated from the new Monte Carlo simulation, what are the lower and upper bounds for the expected value of the portfolio (with the new weights) with a 95% confidence interval?\n",
    "\n",
    "    - Will weighting the portfolio more heavily toward stocks allow the credit union members to retire after only 10 years?\n"
   ]
  },
  {
   "cell_type": "code",
   "execution_count": 39,
   "metadata": {
    "execution": {
     "iopub.execute_input": "2022-01-01T00:37:17.906912Z",
     "iopub.status.busy": "2022-01-01T00:37:17.906494Z",
     "iopub.status.idle": "2022-01-01T00:37:17.936667Z",
     "shell.execute_reply": "2022-01-01T00:37:17.935593Z",
     "shell.execute_reply.started": "2022-01-01T00:37:17.906872Z"
    },
    "tags": []
   },
   "outputs": [
    {
     "data": {
      "text/html": [
       "<div>\n",
       "<style scoped>\n",
       "    .dataframe tbody tr th:only-of-type {\n",
       "        vertical-align: middle;\n",
       "    }\n",
       "\n",
       "    .dataframe tbody tr th {\n",
       "        vertical-align: top;\n",
       "    }\n",
       "\n",
       "    .dataframe thead tr th {\n",
       "        text-align: left;\n",
       "    }\n",
       "</style>\n",
       "<table border=\"1\" class=\"dataframe\">\n",
       "  <thead>\n",
       "    <tr>\n",
       "      <th></th>\n",
       "      <th colspan=\"6\" halign=\"left\">AGG</th>\n",
       "      <th colspan=\"6\" halign=\"left\">SPY</th>\n",
       "    </tr>\n",
       "    <tr>\n",
       "      <th></th>\n",
       "      <th>open</th>\n",
       "      <th>high</th>\n",
       "      <th>low</th>\n",
       "      <th>close</th>\n",
       "      <th>volume</th>\n",
       "      <th>daily_return</th>\n",
       "      <th>open</th>\n",
       "      <th>high</th>\n",
       "      <th>low</th>\n",
       "      <th>close</th>\n",
       "      <th>volume</th>\n",
       "      <th>daily_return</th>\n",
       "    </tr>\n",
       "  </thead>\n",
       "  <tbody>\n",
       "    <tr>\n",
       "      <th>2018-12-31</th>\n",
       "      <td>106.12</td>\n",
       "      <td>106.510</td>\n",
       "      <td>105.6200</td>\n",
       "      <td>106.495</td>\n",
       "      <td>8349838.0</td>\n",
       "      <td>NaN</td>\n",
       "      <td>249.56</td>\n",
       "      <td>250.16</td>\n",
       "      <td>247.47</td>\n",
       "      <td>248.55</td>\n",
       "      <td>100767777</td>\n",
       "      <td>NaN</td>\n",
       "    </tr>\n",
       "    <tr>\n",
       "      <th>2019-01-02</th>\n",
       "      <td>106.55</td>\n",
       "      <td>106.610</td>\n",
       "      <td>106.4701</td>\n",
       "      <td>106.585</td>\n",
       "      <td>10164756.0</td>\n",
       "      <td>0.000845</td>\n",
       "      <td>245.98</td>\n",
       "      <td>251.21</td>\n",
       "      <td>245.95</td>\n",
       "      <td>249.89</td>\n",
       "      <td>107236613</td>\n",
       "      <td>0.005391</td>\n",
       "    </tr>\n",
       "    <tr>\n",
       "      <th>2019-01-03</th>\n",
       "      <td>106.57</td>\n",
       "      <td>107.075</td>\n",
       "      <td>106.5700</td>\n",
       "      <td>107.020</td>\n",
       "      <td>6260265.0</td>\n",
       "      <td>0.004081</td>\n",
       "      <td>248.23</td>\n",
       "      <td>248.57</td>\n",
       "      <td>244.03</td>\n",
       "      <td>244.46</td>\n",
       "      <td>113782919</td>\n",
       "      <td>-0.021730</td>\n",
       "    </tr>\n",
       "    <tr>\n",
       "      <th>2019-01-04</th>\n",
       "      <td>106.66</td>\n",
       "      <td>106.720</td>\n",
       "      <td>106.5500</td>\n",
       "      <td>106.695</td>\n",
       "      <td>7755476.0</td>\n",
       "      <td>-0.003037</td>\n",
       "      <td>247.59</td>\n",
       "      <td>253.11</td>\n",
       "      <td>247.17</td>\n",
       "      <td>252.41</td>\n",
       "      <td>122528832</td>\n",
       "      <td>0.032521</td>\n",
       "    </tr>\n",
       "    <tr>\n",
       "      <th>2019-01-07</th>\n",
       "      <td>106.72</td>\n",
       "      <td>106.790</td>\n",
       "      <td>106.4600</td>\n",
       "      <td>106.470</td>\n",
       "      <td>6545877.0</td>\n",
       "      <td>-0.002109</td>\n",
       "      <td>252.69</td>\n",
       "      <td>255.95</td>\n",
       "      <td>251.69</td>\n",
       "      <td>254.40</td>\n",
       "      <td>88317608</td>\n",
       "      <td>0.007884</td>\n",
       "    </tr>\n",
       "  </tbody>\n",
       "</table>\n",
       "</div>"
      ],
      "text/plain": [
       "               AGG                                                       \\\n",
       "              open     high       low    close      volume daily_return   \n",
       "2018-12-31  106.12  106.510  105.6200  106.495   8349838.0          NaN   \n",
       "2019-01-02  106.55  106.610  106.4701  106.585  10164756.0     0.000845   \n",
       "2019-01-03  106.57  107.075  106.5700  107.020   6260265.0     0.004081   \n",
       "2019-01-04  106.66  106.720  106.5500  106.695   7755476.0    -0.003037   \n",
       "2019-01-07  106.72  106.790  106.4600  106.470   6545877.0    -0.002109   \n",
       "\n",
       "               SPY                                                  \n",
       "              open    high     low   close     volume daily_return  \n",
       "2018-12-31  249.56  250.16  247.47  248.55  100767777          NaN  \n",
       "2019-01-02  245.98  251.21  245.95  249.89  107236613     0.005391  \n",
       "2019-01-03  248.23  248.57  244.03  244.46  113782919    -0.021730  \n",
       "2019-01-04  247.59  253.11  247.17  252.41  122528832     0.032521  \n",
       "2019-01-07  252.69  255.95  251.69  254.40   88317608     0.007884  "
      ]
     },
     "execution_count": 39,
     "metadata": {},
     "output_type": "execute_result"
    }
   ],
   "source": [
    "# Configure a Monte Carlo simulation to forecast 10 years cumulative returns\n",
    "# The weights should be split 20% to AGG and 80% to SPY.\n",
    "# Run 500 samples.\n",
    "MC_10 = MCSimulation(\n",
    "    portfolio_data=prices_df,\n",
    "    weights=[0.2, 0.8],\n",
    "    num_simulation=500,\n",
    "    num_trading_days=252*10\n",
    ")\n",
    "\n",
    "# Review the simulation input data\n",
    "MC_10.portfolio_data.head()\n"
   ]
  },
  {
   "cell_type": "code",
   "execution_count": 40,
   "metadata": {
    "execution": {
     "iopub.execute_input": "2022-01-01T00:37:18.542082Z",
     "iopub.status.busy": "2022-01-01T00:37:18.541729Z",
     "iopub.status.idle": "2022-01-01T00:37:57.467284Z",
     "shell.execute_reply": "2022-01-01T00:37:57.466341Z",
     "shell.execute_reply.started": "2022-01-01T00:37:18.542047Z"
    },
    "tags": []
   },
   "outputs": [
    {
     "name": "stdout",
     "output_type": "stream",
     "text": [
      "Running Monte Carlo simulation number 0.\n",
      "Running Monte Carlo simulation number 10.\n",
      "Running Monte Carlo simulation number 20.\n",
      "Running Monte Carlo simulation number 30.\n",
      "Running Monte Carlo simulation number 40.\n",
      "Running Monte Carlo simulation number 50.\n",
      "Running Monte Carlo simulation number 60.\n",
      "Running Monte Carlo simulation number 70.\n",
      "Running Monte Carlo simulation number 80.\n",
      "Running Monte Carlo simulation number 90.\n",
      "Running Monte Carlo simulation number 100.\n"
     ]
    },
    {
     "name": "stderr",
     "output_type": "stream",
     "text": [
      "/Users/jmischun/Documents/uw/finTech_bootCamp_2021/module_5/challenge_activity/MCForecastTools.py:117: PerformanceWarning: DataFrame is highly fragmented.  This is usually the result of calling `frame.insert` many times, which has poor performance.  Consider joining all columns at once using pd.concat(axis=1) instead.  To get a de-fragmented frame, use `newframe = frame.copy()`\n",
      "  portfolio_cumulative_returns[n] = (1 + sim_df.fillna(0)).cumprod()\n"
     ]
    },
    {
     "name": "stdout",
     "output_type": "stream",
     "text": [
      "Running Monte Carlo simulation number 110.\n",
      "Running Monte Carlo simulation number 120.\n",
      "Running Monte Carlo simulation number 130.\n",
      "Running Monte Carlo simulation number 140.\n",
      "Running Monte Carlo simulation number 150.\n",
      "Running Monte Carlo simulation number 160.\n",
      "Running Monte Carlo simulation number 170.\n",
      "Running Monte Carlo simulation number 180.\n",
      "Running Monte Carlo simulation number 190.\n",
      "Running Monte Carlo simulation number 200.\n",
      "Running Monte Carlo simulation number 210.\n",
      "Running Monte Carlo simulation number 220.\n",
      "Running Monte Carlo simulation number 230.\n",
      "Running Monte Carlo simulation number 240.\n",
      "Running Monte Carlo simulation number 250.\n",
      "Running Monte Carlo simulation number 260.\n",
      "Running Monte Carlo simulation number 270.\n",
      "Running Monte Carlo simulation number 280.\n",
      "Running Monte Carlo simulation number 290.\n",
      "Running Monte Carlo simulation number 300.\n",
      "Running Monte Carlo simulation number 310.\n",
      "Running Monte Carlo simulation number 320.\n",
      "Running Monte Carlo simulation number 330.\n",
      "Running Monte Carlo simulation number 340.\n",
      "Running Monte Carlo simulation number 350.\n",
      "Running Monte Carlo simulation number 360.\n",
      "Running Monte Carlo simulation number 370.\n",
      "Running Monte Carlo simulation number 380.\n",
      "Running Monte Carlo simulation number 390.\n",
      "Running Monte Carlo simulation number 400.\n",
      "Running Monte Carlo simulation number 410.\n",
      "Running Monte Carlo simulation number 420.\n",
      "Running Monte Carlo simulation number 430.\n",
      "Running Monte Carlo simulation number 440.\n",
      "Running Monte Carlo simulation number 450.\n",
      "Running Monte Carlo simulation number 460.\n",
      "Running Monte Carlo simulation number 470.\n",
      "Running Monte Carlo simulation number 480.\n",
      "Running Monte Carlo simulation number 490.\n"
     ]
    },
    {
     "data": {
      "text/html": [
       "<div>\n",
       "<style scoped>\n",
       "    .dataframe tbody tr th:only-of-type {\n",
       "        vertical-align: middle;\n",
       "    }\n",
       "\n",
       "    .dataframe tbody tr th {\n",
       "        vertical-align: top;\n",
       "    }\n",
       "\n",
       "    .dataframe thead th {\n",
       "        text-align: right;\n",
       "    }\n",
       "</style>\n",
       "<table border=\"1\" class=\"dataframe\">\n",
       "  <thead>\n",
       "    <tr style=\"text-align: right;\">\n",
       "      <th></th>\n",
       "      <th>0</th>\n",
       "      <th>1</th>\n",
       "      <th>2</th>\n",
       "      <th>3</th>\n",
       "      <th>4</th>\n",
       "      <th>5</th>\n",
       "      <th>6</th>\n",
       "      <th>7</th>\n",
       "      <th>8</th>\n",
       "      <th>9</th>\n",
       "      <th>...</th>\n",
       "      <th>490</th>\n",
       "      <th>491</th>\n",
       "      <th>492</th>\n",
       "      <th>493</th>\n",
       "      <th>494</th>\n",
       "      <th>495</th>\n",
       "      <th>496</th>\n",
       "      <th>497</th>\n",
       "      <th>498</th>\n",
       "      <th>499</th>\n",
       "    </tr>\n",
       "  </thead>\n",
       "  <tbody>\n",
       "    <tr>\n",
       "      <th>0</th>\n",
       "      <td>1.000000</td>\n",
       "      <td>1.000000</td>\n",
       "      <td>1.000000</td>\n",
       "      <td>1.000000</td>\n",
       "      <td>1.000000</td>\n",
       "      <td>1.000000</td>\n",
       "      <td>1.000000</td>\n",
       "      <td>1.000000</td>\n",
       "      <td>1.000000</td>\n",
       "      <td>1.000000</td>\n",
       "      <td>...</td>\n",
       "      <td>1.000000</td>\n",
       "      <td>1.000000</td>\n",
       "      <td>1.000000</td>\n",
       "      <td>1.000000</td>\n",
       "      <td>1.000000</td>\n",
       "      <td>1.000000</td>\n",
       "      <td>1.000000</td>\n",
       "      <td>1.000000</td>\n",
       "      <td>1.000000</td>\n",
       "      <td>1.000000</td>\n",
       "    </tr>\n",
       "    <tr>\n",
       "      <th>1</th>\n",
       "      <td>0.986494</td>\n",
       "      <td>1.008626</td>\n",
       "      <td>0.986995</td>\n",
       "      <td>0.996580</td>\n",
       "      <td>0.990925</td>\n",
       "      <td>0.997077</td>\n",
       "      <td>1.006011</td>\n",
       "      <td>0.991703</td>\n",
       "      <td>0.999213</td>\n",
       "      <td>0.992002</td>\n",
       "      <td>...</td>\n",
       "      <td>0.981964</td>\n",
       "      <td>0.994811</td>\n",
       "      <td>0.995681</td>\n",
       "      <td>0.989514</td>\n",
       "      <td>1.014475</td>\n",
       "      <td>1.015001</td>\n",
       "      <td>0.995245</td>\n",
       "      <td>0.984196</td>\n",
       "      <td>0.999856</td>\n",
       "      <td>0.989043</td>\n",
       "    </tr>\n",
       "    <tr>\n",
       "      <th>2</th>\n",
       "      <td>0.974366</td>\n",
       "      <td>1.023570</td>\n",
       "      <td>0.995461</td>\n",
       "      <td>1.003173</td>\n",
       "      <td>0.982277</td>\n",
       "      <td>1.020926</td>\n",
       "      <td>0.984599</td>\n",
       "      <td>1.004960</td>\n",
       "      <td>1.013153</td>\n",
       "      <td>0.980620</td>\n",
       "      <td>...</td>\n",
       "      <td>0.981334</td>\n",
       "      <td>0.994760</td>\n",
       "      <td>0.996250</td>\n",
       "      <td>0.997361</td>\n",
       "      <td>1.013116</td>\n",
       "      <td>1.012916</td>\n",
       "      <td>0.997939</td>\n",
       "      <td>0.989966</td>\n",
       "      <td>1.009082</td>\n",
       "      <td>0.990346</td>\n",
       "    </tr>\n",
       "    <tr>\n",
       "      <th>3</th>\n",
       "      <td>0.977426</td>\n",
       "      <td>1.023255</td>\n",
       "      <td>1.012486</td>\n",
       "      <td>1.010715</td>\n",
       "      <td>0.989444</td>\n",
       "      <td>1.025788</td>\n",
       "      <td>0.977699</td>\n",
       "      <td>0.982664</td>\n",
       "      <td>1.020256</td>\n",
       "      <td>0.983354</td>\n",
       "      <td>...</td>\n",
       "      <td>0.982219</td>\n",
       "      <td>1.006594</td>\n",
       "      <td>1.017334</td>\n",
       "      <td>1.013376</td>\n",
       "      <td>1.004326</td>\n",
       "      <td>1.017867</td>\n",
       "      <td>1.022119</td>\n",
       "      <td>1.004036</td>\n",
       "      <td>1.017485</td>\n",
       "      <td>0.991470</td>\n",
       "    </tr>\n",
       "    <tr>\n",
       "      <th>4</th>\n",
       "      <td>0.974647</td>\n",
       "      <td>1.031904</td>\n",
       "      <td>1.021680</td>\n",
       "      <td>1.013598</td>\n",
       "      <td>0.985016</td>\n",
       "      <td>1.021594</td>\n",
       "      <td>0.984639</td>\n",
       "      <td>0.962465</td>\n",
       "      <td>1.036964</td>\n",
       "      <td>0.982237</td>\n",
       "      <td>...</td>\n",
       "      <td>0.987427</td>\n",
       "      <td>1.026316</td>\n",
       "      <td>1.022544</td>\n",
       "      <td>1.019570</td>\n",
       "      <td>1.008837</td>\n",
       "      <td>1.037460</td>\n",
       "      <td>1.045810</td>\n",
       "      <td>1.007925</td>\n",
       "      <td>1.024040</td>\n",
       "      <td>0.988947</td>\n",
       "    </tr>\n",
       "    <tr>\n",
       "      <th>...</th>\n",
       "      <td>...</td>\n",
       "      <td>...</td>\n",
       "      <td>...</td>\n",
       "      <td>...</td>\n",
       "      <td>...</td>\n",
       "      <td>...</td>\n",
       "      <td>...</td>\n",
       "      <td>...</td>\n",
       "      <td>...</td>\n",
       "      <td>...</td>\n",
       "      <td>...</td>\n",
       "      <td>...</td>\n",
       "      <td>...</td>\n",
       "      <td>...</td>\n",
       "      <td>...</td>\n",
       "      <td>...</td>\n",
       "      <td>...</td>\n",
       "      <td>...</td>\n",
       "      <td>...</td>\n",
       "      <td>...</td>\n",
       "      <td>...</td>\n",
       "    </tr>\n",
       "    <tr>\n",
       "      <th>2516</th>\n",
       "      <td>2.329936</td>\n",
       "      <td>10.546067</td>\n",
       "      <td>2.264327</td>\n",
       "      <td>2.615712</td>\n",
       "      <td>13.437768</td>\n",
       "      <td>4.319252</td>\n",
       "      <td>11.638349</td>\n",
       "      <td>5.466073</td>\n",
       "      <td>8.215092</td>\n",
       "      <td>20.147611</td>\n",
       "      <td>...</td>\n",
       "      <td>5.773377</td>\n",
       "      <td>7.367149</td>\n",
       "      <td>7.441824</td>\n",
       "      <td>1.481490</td>\n",
       "      <td>4.810515</td>\n",
       "      <td>2.607919</td>\n",
       "      <td>3.372866</td>\n",
       "      <td>6.223666</td>\n",
       "      <td>3.870409</td>\n",
       "      <td>6.169108</td>\n",
       "    </tr>\n",
       "    <tr>\n",
       "      <th>2517</th>\n",
       "      <td>2.333677</td>\n",
       "      <td>10.638901</td>\n",
       "      <td>2.229859</td>\n",
       "      <td>2.589493</td>\n",
       "      <td>13.835941</td>\n",
       "      <td>4.372008</td>\n",
       "      <td>11.880804</td>\n",
       "      <td>5.580190</td>\n",
       "      <td>8.317163</td>\n",
       "      <td>20.400812</td>\n",
       "      <td>...</td>\n",
       "      <td>5.903605</td>\n",
       "      <td>7.470232</td>\n",
       "      <td>7.471477</td>\n",
       "      <td>1.486950</td>\n",
       "      <td>4.842513</td>\n",
       "      <td>2.637124</td>\n",
       "      <td>3.320812</td>\n",
       "      <td>6.255193</td>\n",
       "      <td>3.811140</td>\n",
       "      <td>6.266956</td>\n",
       "    </tr>\n",
       "    <tr>\n",
       "      <th>2518</th>\n",
       "      <td>2.329034</td>\n",
       "      <td>10.772596</td>\n",
       "      <td>2.226253</td>\n",
       "      <td>2.595974</td>\n",
       "      <td>14.031360</td>\n",
       "      <td>4.289014</td>\n",
       "      <td>11.944903</td>\n",
       "      <td>5.529975</td>\n",
       "      <td>8.228483</td>\n",
       "      <td>20.333894</td>\n",
       "      <td>...</td>\n",
       "      <td>5.892310</td>\n",
       "      <td>7.460347</td>\n",
       "      <td>7.529959</td>\n",
       "      <td>1.487585</td>\n",
       "      <td>4.880876</td>\n",
       "      <td>2.641093</td>\n",
       "      <td>3.330742</td>\n",
       "      <td>6.240754</td>\n",
       "      <td>3.713316</td>\n",
       "      <td>6.309018</td>\n",
       "    </tr>\n",
       "    <tr>\n",
       "      <th>2519</th>\n",
       "      <td>2.327953</td>\n",
       "      <td>10.781623</td>\n",
       "      <td>2.262562</td>\n",
       "      <td>2.554730</td>\n",
       "      <td>14.063074</td>\n",
       "      <td>4.285905</td>\n",
       "      <td>12.061513</td>\n",
       "      <td>5.571693</td>\n",
       "      <td>8.357924</td>\n",
       "      <td>20.766509</td>\n",
       "      <td>...</td>\n",
       "      <td>5.965949</td>\n",
       "      <td>7.426396</td>\n",
       "      <td>7.461708</td>\n",
       "      <td>1.487222</td>\n",
       "      <td>4.860120</td>\n",
       "      <td>2.653148</td>\n",
       "      <td>3.287723</td>\n",
       "      <td>6.251023</td>\n",
       "      <td>3.783732</td>\n",
       "      <td>6.366605</td>\n",
       "    </tr>\n",
       "    <tr>\n",
       "      <th>2520</th>\n",
       "      <td>2.299605</td>\n",
       "      <td>10.941400</td>\n",
       "      <td>2.283973</td>\n",
       "      <td>2.592474</td>\n",
       "      <td>14.302022</td>\n",
       "      <td>4.377811</td>\n",
       "      <td>11.932072</td>\n",
       "      <td>5.659624</td>\n",
       "      <td>8.388392</td>\n",
       "      <td>20.672428</td>\n",
       "      <td>...</td>\n",
       "      <td>5.928647</td>\n",
       "      <td>7.545472</td>\n",
       "      <td>7.391517</td>\n",
       "      <td>1.496239</td>\n",
       "      <td>4.868199</td>\n",
       "      <td>2.644867</td>\n",
       "      <td>3.308738</td>\n",
       "      <td>6.311957</td>\n",
       "      <td>3.770206</td>\n",
       "      <td>6.311104</td>\n",
       "    </tr>\n",
       "  </tbody>\n",
       "</table>\n",
       "<p>2521 rows × 500 columns</p>\n",
       "</div>"
      ],
      "text/plain": [
       "           0          1         2         3          4         5          6    \\\n",
       "0     1.000000   1.000000  1.000000  1.000000   1.000000  1.000000   1.000000   \n",
       "1     0.986494   1.008626  0.986995  0.996580   0.990925  0.997077   1.006011   \n",
       "2     0.974366   1.023570  0.995461  1.003173   0.982277  1.020926   0.984599   \n",
       "3     0.977426   1.023255  1.012486  1.010715   0.989444  1.025788   0.977699   \n",
       "4     0.974647   1.031904  1.021680  1.013598   0.985016  1.021594   0.984639   \n",
       "...        ...        ...       ...       ...        ...       ...        ...   \n",
       "2516  2.329936  10.546067  2.264327  2.615712  13.437768  4.319252  11.638349   \n",
       "2517  2.333677  10.638901  2.229859  2.589493  13.835941  4.372008  11.880804   \n",
       "2518  2.329034  10.772596  2.226253  2.595974  14.031360  4.289014  11.944903   \n",
       "2519  2.327953  10.781623  2.262562  2.554730  14.063074  4.285905  12.061513   \n",
       "2520  2.299605  10.941400  2.283973  2.592474  14.302022  4.377811  11.932072   \n",
       "\n",
       "           7         8          9    ...       490       491       492  \\\n",
       "0     1.000000  1.000000   1.000000  ...  1.000000  1.000000  1.000000   \n",
       "1     0.991703  0.999213   0.992002  ...  0.981964  0.994811  0.995681   \n",
       "2     1.004960  1.013153   0.980620  ...  0.981334  0.994760  0.996250   \n",
       "3     0.982664  1.020256   0.983354  ...  0.982219  1.006594  1.017334   \n",
       "4     0.962465  1.036964   0.982237  ...  0.987427  1.026316  1.022544   \n",
       "...        ...       ...        ...  ...       ...       ...       ...   \n",
       "2516  5.466073  8.215092  20.147611  ...  5.773377  7.367149  7.441824   \n",
       "2517  5.580190  8.317163  20.400812  ...  5.903605  7.470232  7.471477   \n",
       "2518  5.529975  8.228483  20.333894  ...  5.892310  7.460347  7.529959   \n",
       "2519  5.571693  8.357924  20.766509  ...  5.965949  7.426396  7.461708   \n",
       "2520  5.659624  8.388392  20.672428  ...  5.928647  7.545472  7.391517   \n",
       "\n",
       "           493       494       495       496       497       498       499  \n",
       "0     1.000000  1.000000  1.000000  1.000000  1.000000  1.000000  1.000000  \n",
       "1     0.989514  1.014475  1.015001  0.995245  0.984196  0.999856  0.989043  \n",
       "2     0.997361  1.013116  1.012916  0.997939  0.989966  1.009082  0.990346  \n",
       "3     1.013376  1.004326  1.017867  1.022119  1.004036  1.017485  0.991470  \n",
       "4     1.019570  1.008837  1.037460  1.045810  1.007925  1.024040  0.988947  \n",
       "...        ...       ...       ...       ...       ...       ...       ...  \n",
       "2516  1.481490  4.810515  2.607919  3.372866  6.223666  3.870409  6.169108  \n",
       "2517  1.486950  4.842513  2.637124  3.320812  6.255193  3.811140  6.266956  \n",
       "2518  1.487585  4.880876  2.641093  3.330742  6.240754  3.713316  6.309018  \n",
       "2519  1.487222  4.860120  2.653148  3.287723  6.251023  3.783732  6.366605  \n",
       "2520  1.496239  4.868199  2.644867  3.308738  6.311957  3.770206  6.311104  \n",
       "\n",
       "[2521 rows x 500 columns]"
      ]
     },
     "execution_count": 40,
     "metadata": {},
     "output_type": "execute_result"
    }
   ],
   "source": [
    "# Run the Monte Carlo simulation to forecast 10 years cumulative returns\n",
    "MC_10.calc_cumulative_return()\n"
   ]
  },
  {
   "cell_type": "code",
   "execution_count": 41,
   "metadata": {
    "execution": {
     "iopub.execute_input": "2022-01-01T00:37:57.479586Z",
     "iopub.status.busy": "2022-01-01T00:37:57.479027Z",
     "iopub.status.idle": "2022-01-01T00:37:59.350272Z",
     "shell.execute_reply": "2022-01-01T00:37:59.349413Z",
     "shell.execute_reply.started": "2022-01-01T00:37:57.479547Z"
    },
    "tags": []
   },
   "outputs": [
    {
     "data": {
      "image/png": "[encoded data removed]",
      "text/plain": [
       "<Figure size 432x288 with 1 Axes>"
      ]
     },
     "metadata": {
      "needs_background": "light"
     },
     "output_type": "display_data"
    }
   ],
   "source": [
    "# Visualize the 10-year Monte Carlo simulation by creating an\n",
    "# overlay line plot\n",
    "spy_10_line_plot = MC_10.plot_simulation();\n"
   ]
  },
  {
   "cell_type": "code",
   "execution_count": 42,
   "metadata": {
    "execution": {
     "iopub.execute_input": "2022-01-01T00:37:59.353086Z",
     "iopub.status.busy": "2022-01-01T00:37:59.352741Z",
     "iopub.status.idle": "2022-01-01T00:37:59.516799Z",
     "shell.execute_reply": "2022-01-01T00:37:59.516265Z",
     "shell.execute_reply.started": "2022-01-01T00:37:59.353055Z"
    },
    "tags": []
   },
   "outputs": [
    {
     "data": {
      "image/png": "[encoded data removed]",
      "text/plain": [
       "<Figure size 432x288 with 1 Axes>"
      ]
     },
     "metadata": {
      "needs_background": "light"
     },
     "output_type": "display_data"
    }
   ],
   "source": [
    "# Visualize the probability distribution of the 10-year Monte Carlo simulation \n",
    "# by plotting a histogram\n",
    "spy_10_dist_plot = MC_10.plot_distribution();\n"
   ]
  },
  {
   "cell_type": "code",
   "execution_count": 43,
   "metadata": {
    "execution": {
     "iopub.execute_input": "2022-01-01T00:37:59.518118Z",
     "iopub.status.busy": "2022-01-01T00:37:59.517665Z",
     "iopub.status.idle": "2022-01-01T00:37:59.528395Z",
     "shell.execute_reply": "2022-01-01T00:37:59.527612Z",
     "shell.execute_reply.started": "2022-01-01T00:37:59.518057Z"
    },
    "tags": []
   },
   "outputs": [
    {
     "data": {
      "text/plain": [
       "count           500.000000\n",
       "mean              7.046327\n",
       "std               4.304151\n",
       "min               0.881646\n",
       "25%               4.329090\n",
       "50%               5.949728\n",
       "75%               8.648337\n",
       "max              28.843213\n",
       "95% CI Lower      1.921261\n",
       "95% CI Upper     18.398118\n",
       "Name: 2520, dtype: float64"
      ]
     },
     "execution_count": 43,
     "metadata": {},
     "output_type": "execute_result"
    }
   ],
   "source": [
    "# Generate summary statistics from the 10-year Monte Carlo simulation results\n",
    "# Save the results as a variable\n",
    "spy_10_table = MC_10.summarize_cumulative_return()\n",
    "\n",
    "\n",
    "# Review the 10-year Monte Carlo summary statistics\n",
    "spy_10_table"
   ]
  },
  {
   "cell_type": "markdown",
   "metadata": {},
   "source": [
    "### Answer the following questions:"
   ]
  },
  {
   "cell_type": "markdown",
   "metadata": {},
   "source": [
    "#### Question: Using the current value of only the stock and bond portion of the member's portfolio and the summary statistics that you generated from the new Monte Carlo simulation, what are the lower and upper bounds for the expected value of the portfolio (with the new weights) with a 95% confidence interval?"
   ]
  },
  {
   "cell_type": "code",
   "execution_count": 44,
   "metadata": {
    "execution": {
     "iopub.execute_input": "2022-01-01T00:37:59.529729Z",
     "iopub.status.busy": "2022-01-01T00:37:59.529412Z",
     "iopub.status.idle": "2022-01-01T00:37:59.533968Z",
     "shell.execute_reply": "2022-01-01T00:37:59.533371Z",
     "shell.execute_reply.started": "2022-01-01T00:37:59.529705Z"
    },
    "tags": []
   },
   "outputs": [
    {
     "name": "stdout",
     "output_type": "stream",
     "text": [
      "Current Stock & Bond Portfolio Value: $75,055.90\n"
     ]
    }
   ],
   "source": [
    "# Print the current balance of the stock and bond portion of the members portfolio\n",
    "print(f\"Current Stock & Bond Portfolio \"\n",
    "      f\"Value: ${total_stocks_bonds:,.2f}\")\n"
   ]
  },
  {
   "cell_type": "code",
   "execution_count": 45,
   "metadata": {
    "execution": {
     "iopub.execute_input": "2022-01-01T00:37:59.535397Z",
     "iopub.status.busy": "2022-01-01T00:37:59.535061Z",
     "iopub.status.idle": "2022-01-01T00:37:59.541126Z",
     "shell.execute_reply": "2022-01-01T00:37:59.540422Z",
     "shell.execute_reply.started": "2022-01-01T00:37:59.535368Z"
    },
    "tags": []
   },
   "outputs": [
    {
     "name": "stdout",
     "output_type": "stream",
     "text": [
      "There is a 95% chance that in ten years the value of the stocks and bonds portfolio, currently valued at $75,055.90, will be worth between $144,202.01 and $1,380,887.31.\n"
     ]
    }
   ],
   "source": [
    "# Use the lower and upper `95%` confidence intervals to calculate the range of the possible outcomes for the current stock/bond portfolio\n",
    "ci_lower_ten_cumulative_return = spy_10_table[8] * total_stocks_bonds\n",
    "ci_upper_ten_cumulative_return = spy_10_table[9] * total_stocks_bonds\n",
    "\n",
    "# Print the result of your calculations\n",
    "print(f\"There is a 95% chance that in ten years the value of the stocks \"\n",
    "      f\"and bonds portfolio, currently valued at ${total_stocks_bonds:,.2f}, \"\n",
    "      f\"will be worth between ${ci_lower_ten_cumulative_return:,.2f} \"\n",
    "      f\"and ${ci_upper_ten_cumulative_return:,.2f}.\")\n"
   ]
  },
  {
   "cell_type": "markdown",
   "metadata": {},
   "source": [
    "#### Question: Will weighting the portfolio more heavily to stocks allow the credit union members to retire after only 10 years?"
   ]
  },
  {
   "cell_type": "markdown",
   "metadata": {},
   "source": [
    "**Answer** The value of the stocks and bonds portfolio necessary to allow the member to safely retire, or their expected monthly expenses, isn't specified in the documentation. Without this information it's unpractical to provide a definitive answer to whether or not the member can retire after 10 years.\n",
    "\n",
    "However, given that the high end of the 10 year analysis is only \\$22,000 more than the low end of the 30 year analysis, it seems unlikely that the member will be able to retire after 10 years with a more aggressive investing strategy if the low end value of the more conservative portfolio is required to retire."
   ]
  }
 ],
 "metadata": {
  "kernelspec": {
   "display_name": "uwft-py37",
   "language": "python",
   "name": "uwft-py37"
  },
  "language_info": {
   "codemirror_mode": {
    "name": "ipython",
    "version": 3
   },
   "file_extension": ".py",
   "mimetype": "text/x-python",
   "name": "python",
   "nbconvert_exporter": "python",
   "pygments_lexer": "ipython3",
   "version": "3.7.10"
  }
 },
 "nbformat": 4,
 "nbformat_minor": 4
}
