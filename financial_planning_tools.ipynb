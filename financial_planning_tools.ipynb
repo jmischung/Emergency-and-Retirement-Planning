{
 "cells": [
  {
   "cell_type": "markdown",
   "metadata": {},
   "source": [
    "# Financial Planning with APIs and Simulations\n",
    "\n",
    "In this Challenge, you’ll create two financial analysis tools by using a single Jupyter notebook:\n",
    "\n",
    "Part 1: A financial planner for emergencies. The members will be able to use this tool to visualize their current savings. The members can then determine if they have enough reserves for an emergency fund.\n",
    "\n",
    "Part 2: A financial planner for retirement. This tool will forecast the performance of their retirement portfolio in 30 years. To do this, the tool will make an Alpaca API call via the Alpaca SDK to get historical price data for use in Monte Carlo simulations.\n",
    "\n",
    "You’ll use the information from the Monte Carlo simulation to answer questions about the portfolio in your Jupyter notebook.\n",
    "\n"
   ]
  },
  {
   "cell_type": "code",
   "execution_count": 1,
   "metadata": {
    "execution": {
     "iopub.execute_input": "2021-12-31T21:53:58.414488Z",
     "iopub.status.busy": "2021-12-31T21:53:58.414161Z",
     "iopub.status.idle": "2021-12-31T21:54:00.579839Z",
     "shell.execute_reply": "2021-12-31T21:54:00.578909Z",
     "shell.execute_reply.started": "2021-12-31T21:53:58.414453Z"
    }
   },
   "outputs": [],
   "source": [
    "# Import the required libraries and dependencies\n",
    "import os\n",
    "import requests\n",
    "import json\n",
    "import pandas as pd\n",
    "from dotenv import load_dotenv\n",
    "import alpaca_trade_api as tradeapi\n",
    "from MCForecastTools import MCSimulation\n",
    "\n",
    "%matplotlib inline"
   ]
  },
  {
   "cell_type": "code",
   "execution_count": 2,
   "metadata": {
    "execution": {
     "iopub.execute_input": "2021-12-31T21:54:00.582146Z",
     "iopub.status.busy": "2021-12-31T21:54:00.581821Z",
     "iopub.status.idle": "2021-12-31T21:54:00.588308Z",
     "shell.execute_reply": "2021-12-31T21:54:00.587704Z",
     "shell.execute_reply.started": "2021-12-31T21:54:00.582120Z"
    }
   },
   "outputs": [
    {
     "data": {
      "text/plain": [
       "True"
      ]
     },
     "execution_count": 2,
     "metadata": {},
     "output_type": "execute_result"
    }
   ],
   "source": [
    "# Load the environment variables from the .env file\n",
    "#by calling the load_dotenv function\n",
    "load_dotenv()"
   ]
  },
  {
   "cell_type": "markdown",
   "metadata": {},
   "source": [
    "## Part 1: Create a Financial Planner for Emergencies"
   ]
  },
  {
   "cell_type": "markdown",
   "metadata": {},
   "source": [
    "### Evaluate the Cryptocurrency Wallet by Using the Requests Library\n",
    "\n",
    "In this section, you’ll determine the current value of a member’s cryptocurrency wallet. You’ll collect the current prices for the Bitcoin and Ethereum cryptocurrencies by using the Python Requests library. For the prototype, you’ll assume that the member holds the 1.2 Bitcoins (BTC) and 5.3 Ethereum coins (ETH). To do all this, complete the following steps:\n",
    "\n",
    "1. Create a variable named `monthly_income`, and set its value to `12000`.\n",
    "\n",
    "2. Use the Requests library to get the current price (in US dollars) of Bitcoin (BTC) and Ethereum (ETH) by using the API endpoints that the starter code supplies.\n",
    "\n",
    "3. Navigate the JSON response object to access the current price of each coin, and store each in a variable.\n",
    "\n",
    "    > **Hint** Note the specific identifier for each cryptocurrency in the API JSON response. The Bitcoin identifier is `1`, and the Ethereum identifier is `1027`.\n",
    "\n",
    "4. Calculate the value, in US dollars, of the current amount of each cryptocurrency and of the entire cryptocurrency wallet.\n",
    "\n"
   ]
  },
  {
   "cell_type": "code",
   "execution_count": 3,
   "metadata": {
    "execution": {
     "iopub.execute_input": "2021-12-31T21:54:00.589430Z",
     "iopub.status.busy": "2021-12-31T21:54:00.589100Z",
     "iopub.status.idle": "2021-12-31T21:54:00.593469Z",
     "shell.execute_reply": "2021-12-31T21:54:00.592652Z",
     "shell.execute_reply.started": "2021-12-31T21:54:00.589400Z"
    }
   },
   "outputs": [],
   "source": [
    "# The current number of coins for each cryptocurrency asset held in the portfolio.\n",
    "btc_coins = 1.2\n",
    "eth_coins = 5.3"
   ]
  },
  {
   "cell_type": "markdown",
   "metadata": {},
   "source": [
    "#### Step 1: Create a variable named `monthly_income`, and set its value to `12000`."
   ]
  },
  {
   "cell_type": "code",
   "execution_count": 4,
   "metadata": {
    "execution": {
     "iopub.execute_input": "2021-12-31T21:54:00.596997Z",
     "iopub.status.busy": "2021-12-31T21:54:00.596366Z",
     "iopub.status.idle": "2021-12-31T21:54:00.600406Z",
     "shell.execute_reply": "2021-12-31T21:54:00.599766Z",
     "shell.execute_reply.started": "2021-12-31T21:54:00.596914Z"
    }
   },
   "outputs": [],
   "source": [
    "# The monthly amount for the member's household income\n",
    "monthly_income = 12000\n"
   ]
  },
  {
   "cell_type": "markdown",
   "metadata": {},
   "source": [
    "#### Review the endpoint URLs for the API calls to Free Crypto API in order to get the current pricing information for both BTC and ETH."
   ]
  },
  {
   "cell_type": "code",
   "execution_count": 5,
   "metadata": {
    "execution": {
     "iopub.execute_input": "2021-12-31T21:54:00.601824Z",
     "iopub.status.busy": "2021-12-31T21:54:00.601464Z",
     "iopub.status.idle": "2021-12-31T21:54:00.605686Z",
     "shell.execute_reply": "2021-12-31T21:54:00.604827Z",
     "shell.execute_reply.started": "2021-12-31T21:54:00.601796Z"
    }
   },
   "outputs": [],
   "source": [
    "# The Free Crypto API Call endpoint URLs for the held cryptocurrency assets\n",
    "btc_url = \"https://api.alternative.me/v2/ticker/Bitcoin/?convert=USD\"\n",
    "eth_url = \"https://api.alternative.me/v2/ticker/Ethereum/?convert=USD\""
   ]
  },
  {
   "cell_type": "markdown",
   "metadata": {},
   "source": [
    "#### Step 2. Use the Requests library to get the current price (in US dollars) of Bitcoin (BTC) and Ethereum (ETH) by using the API endpoints that the starter code supplied."
   ]
  },
  {
   "cell_type": "code",
   "execution_count": 6,
   "metadata": {
    "execution": {
     "iopub.execute_input": "2021-12-31T21:54:00.608071Z",
     "iopub.status.busy": "2021-12-31T21:54:00.607590Z",
     "iopub.status.idle": "2021-12-31T21:54:00.940560Z",
     "shell.execute_reply": "2021-12-31T21:54:00.939784Z",
     "shell.execute_reply.started": "2021-12-31T21:54:00.608012Z"
    }
   },
   "outputs": [
    {
     "name": "stdout",
     "output_type": "stream",
     "text": [
      "{\n",
      "    \"data\": {\n",
      "        \"1\": {\n",
      "            \"circulating_supply\": 18916093,\n",
      "            \"id\": 1,\n",
      "            \"last_updated\": 1640987172,\n",
      "            \"max_supply\": 21000000,\n",
      "            \"name\": \"Bitcoin\",\n",
      "            \"quotes\": {\n",
      "                \"USD\": {\n",
      "                    \"market_cap\": 879781524946,\n",
      "                    \"percent_change_1h\": 0.957295764833028,\n",
      "                    \"percent_change_24h\": -2.24087922275343,\n",
      "                    \"percent_change_7d\": -8.9091062231403,\n",
      "                    \"percentage_change_1h\": 0.957295764833028,\n",
      "                    \"percentage_change_24h\": -2.24087922275343,\n",
      "                    \"percentage_change_7d\": -8.9091062231403,\n",
      "                    \"price\": 46366.0,\n",
      "                    \"volume_24h\": 25994359767\n",
      "                }\n",
      "            },\n",
      "            \"rank\": 1,\n",
      "            \"symbol\": \"BTC\",\n",
      "            \"total_supply\": 18916093,\n",
      "            \"website_slug\": \"bitcoin\"\n",
      "        }\n",
      "    },\n",
      "    \"metadata\": {\n",
      "        \"error\": null,\n",
      "        \"num_cryptocurrencies\": 3105,\n",
      "        \"timestamp\": 1640987172\n",
      "    }\n",
      "}\n"
     ]
    }
   ],
   "source": [
    "# Using the Python requests library, make an API call to access the current price of BTC\n",
    "btc_response = requests.get(btc_url).json()\n",
    "\n",
    "# Use the json.dumps function to review the response data from the API call\n",
    "# Use the indent and sort_keys parameters to make the response object readable\n",
    "print(json.dumps(btc_response, indent=4, sort_keys=True))\n"
   ]
  },
  {
   "cell_type": "code",
   "execution_count": 7,
   "metadata": {
    "execution": {
     "iopub.execute_input": "2021-12-31T21:54:00.942324Z",
     "iopub.status.busy": "2021-12-31T21:54:00.941873Z",
     "iopub.status.idle": "2021-12-31T21:54:01.201821Z",
     "shell.execute_reply": "2021-12-31T21:54:01.201024Z",
     "shell.execute_reply.started": "2021-12-31T21:54:00.942278Z"
    }
   },
   "outputs": [
    {
     "name": "stdout",
     "output_type": "stream",
     "text": [
      "{\n",
      "    \"data\": {\n",
      "        \"1027\": {\n",
      "            \"circulating_supply\": 118971034,\n",
      "            \"id\": 1027,\n",
      "            \"last_updated\": 1640987300,\n",
      "            \"max_supply\": 0,\n",
      "            \"name\": \"Ethereum\",\n",
      "            \"quotes\": {\n",
      "                \"USD\": {\n",
      "                    \"market_cap\": 438128774704,\n",
      "                    \"percent_change_1h\": 1.0413454010631,\n",
      "                    \"percent_change_24h\": -1.64708285090914,\n",
      "                    \"percent_change_7d\": -10.3930707415395,\n",
      "                    \"percentage_change_1h\": 1.0413454010631,\n",
      "                    \"percentage_change_24h\": -1.64708285090914,\n",
      "                    \"percentage_change_7d\": -10.3930707415395,\n",
      "                    \"price\": 3686.01,\n",
      "                    \"volume_24h\": 14467383239\n",
      "                }\n",
      "            },\n",
      "            \"rank\": 2,\n",
      "            \"symbol\": \"ETH\",\n",
      "            \"total_supply\": 118971034,\n",
      "            \"website_slug\": \"ethereum\"\n",
      "        }\n",
      "    },\n",
      "    \"metadata\": {\n",
      "        \"error\": null,\n",
      "        \"num_cryptocurrencies\": 3105,\n",
      "        \"timestamp\": 1640987300\n",
      "    }\n",
      "}\n"
     ]
    }
   ],
   "source": [
    "# Using the Python requests library, make an API call to access the current price ETH\n",
    "eth_response = requests.get(eth_url).json()\n",
    "\n",
    "# Use the json.dumps function to review the response data from the API call\n",
    "# Use the indent and sort_keys parameters to make the response object readable\n",
    "print(json.dumps(eth_response, indent=4, sort_keys=True))\n"
   ]
  },
  {
   "cell_type": "markdown",
   "metadata": {},
   "source": [
    "#### Step 3: Navigate the JSON response object to access the current price of each coin, and store each in a variable."
   ]
  },
  {
   "cell_type": "code",
   "execution_count": 8,
   "metadata": {
    "execution": {
     "iopub.execute_input": "2021-12-31T21:54:01.203317Z",
     "iopub.status.busy": "2021-12-31T21:54:01.202853Z",
     "iopub.status.idle": "2021-12-31T21:54:01.209035Z",
     "shell.execute_reply": "2021-12-31T21:54:01.208138Z",
     "shell.execute_reply.started": "2021-12-31T21:54:01.203285Z"
    },
    "tags": []
   },
   "outputs": [
    {
     "name": "stdout",
     "output_type": "stream",
     "text": [
      "BTC Current Price: $46,366.00\n"
     ]
    }
   ],
   "source": [
    "# Navigate the BTC response object to access the current price of BTC\n",
    "btc_price = btc_response['data']['1']['quotes']['USD']['price']\n",
    "\n",
    "# Print the current price of BTC\n",
    "print(f\"BTC Current Price: ${btc_price:,.2f}\")\n"
   ]
  },
  {
   "cell_type": "code",
   "execution_count": 9,
   "metadata": {
    "execution": {
     "iopub.execute_input": "2021-12-31T21:54:01.210890Z",
     "iopub.status.busy": "2021-12-31T21:54:01.210467Z",
     "iopub.status.idle": "2021-12-31T21:54:01.217620Z",
     "shell.execute_reply": "2021-12-31T21:54:01.216504Z",
     "shell.execute_reply.started": "2021-12-31T21:54:01.210859Z"
    }
   },
   "outputs": [
    {
     "name": "stdout",
     "output_type": "stream",
     "text": [
      "ETH Current Price: $3,686.01\n"
     ]
    }
   ],
   "source": [
    "# Navigate the BTC response object to access the current price of ETH\n",
    "eth_price = eth_response['data']['1027']['quotes']['USD']['price']\n",
    "\n",
    "# Print the current price of ETH\n",
    "print(f\"ETH Current Price: ${eth_price:,.2f}\")\n"
   ]
  },
  {
   "cell_type": "markdown",
   "metadata": {},
   "source": [
    "### Step 4: Calculate the value, in US dollars, of the current amount of each cryptocurrency and of the entire cryptocurrency wallet."
   ]
  },
  {
   "cell_type": "code",
   "execution_count": 10,
   "metadata": {
    "execution": {
     "iopub.execute_input": "2021-12-31T21:54:01.222240Z",
     "iopub.status.busy": "2021-12-31T21:54:01.221916Z",
     "iopub.status.idle": "2021-12-31T21:54:01.228488Z",
     "shell.execute_reply": "2021-12-31T21:54:01.227340Z",
     "shell.execute_reply.started": "2021-12-31T21:54:01.222201Z"
    }
   },
   "outputs": [
    {
     "name": "stdout",
     "output_type": "stream",
     "text": [
      "Current BTC Holding: $55,639.20\n"
     ]
    }
   ],
   "source": [
    "# Compute the current value of the BTC holding \n",
    "btc_value = btc_coins * btc_price\n",
    "\n",
    "# Print current value of your holding in BTC\n",
    "print(f\"Current BTC Holding: ${btc_value:,.2f}\")\n"
   ]
  },
  {
   "cell_type": "code",
   "execution_count": 11,
   "metadata": {
    "execution": {
     "iopub.execute_input": "2021-12-31T21:54:01.231294Z",
     "iopub.status.busy": "2021-12-31T21:54:01.230804Z",
     "iopub.status.idle": "2021-12-31T21:54:01.236521Z",
     "shell.execute_reply": "2021-12-31T21:54:01.235629Z",
     "shell.execute_reply.started": "2021-12-31T21:54:01.231249Z"
    }
   },
   "outputs": [
    {
     "name": "stdout",
     "output_type": "stream",
     "text": [
      "Current ETH Holding: $19,535.85\n"
     ]
    }
   ],
   "source": [
    "# Compute the current value of the ETH holding \n",
    "eth_value = eth_coins * eth_price\n",
    "\n",
    "# Print current value of your holding in ETH\n",
    "print(f\"Current ETH Holding: ${eth_value:,.2f}\")\n"
   ]
  },
  {
   "cell_type": "code",
   "execution_count": 12,
   "metadata": {
    "execution": {
     "iopub.execute_input": "2021-12-31T21:54:01.238482Z",
     "iopub.status.busy": "2021-12-31T21:54:01.237934Z",
     "iopub.status.idle": "2021-12-31T21:54:01.245186Z",
     "shell.execute_reply": "2021-12-31T21:54:01.244409Z",
     "shell.execute_reply.started": "2021-12-31T21:54:01.238413Z"
    }
   },
   "outputs": [
    {
     "name": "stdout",
     "output_type": "stream",
     "text": [
      "Cryptocurrency Wallet Balance: $75,175.05\n"
     ]
    }
   ],
   "source": [
    "# Compute the total value of the cryptocurrency wallet\n",
    "# Add the value of the BTC holding to the value of the ETH holding\n",
    "total_crypto_wallet = btc_value + eth_value\n",
    "\n",
    "# Print current cryptocurrency wallet balance\n",
    "print(f\"Cryptocurrency Wallet Balance: ${total_crypto_wallet:,.2f}\")\n"
   ]
  },
  {
   "cell_type": "markdown",
   "metadata": {},
   "source": [
    "### Evaluate the Stock and Bond Holdings by Using the Alpaca SDK\n",
    "\n",
    "In this section, you’ll determine the current value of a member’s stock and bond holdings. You’ll make an API call to Alpaca via the Alpaca SDK to get the current closing prices of the SPDR S&P 500 ETF Trust (ticker: SPY) and of the iShares Core US Aggregate Bond ETF (ticker: AGG). For the prototype, assume that the member holds 110 shares of SPY, which represents the stock portion of their portfolio, and 200 shares of AGG, which represents the bond portion. To do all this, complete the following steps:\n",
    "\n",
    "1. In the `Starter_Code` folder, create an environment file (`.env`) to store the values of your Alpaca API key and Alpaca secret key.\n",
    "\n",
    "2. Set the variables for the Alpaca API and secret keys. Using the Alpaca SDK, create the Alpaca `tradeapi.REST` object. In this object, include the parameters for the Alpaca API key, the secret key, and the version number.\n",
    "\n",
    "3. Set the following parameters for the Alpaca API call:\n",
    "\n",
    "    - `tickers`: Use the tickers for the member’s stock and bond holdings.\n",
    "\n",
    "    - `timeframe`: Use a time frame of one day.\n",
    "\n",
    "    - `start_date` and `end_date`: Use the same date for these parameters, and format them with the date of the previous weekday (or `2020-08-07`). This is because you want the one closing price for the most-recent trading day.\n",
    "\n",
    "4. Get the current closing prices for `SPY` and `AGG` by using the Alpaca `get_barset` function. Format the response as a Pandas DataFrame by including the `df` property at the end of the `get_barset` function.\n",
    "\n",
    "5. Navigating the Alpaca response DataFrame, select the `SPY` and `AGG` closing prices, and store them as variables.\n",
    "\n",
    "6. Calculate the value, in US dollars, of the current amount of shares in each of the stock and bond portions of the portfolio, and print the results.\n"
   ]
  },
  {
   "cell_type": "markdown",
   "metadata": {},
   "source": [
    "#### Review the total number of shares held in both (SPY) and (AGG)."
   ]
  },
  {
   "cell_type": "code",
   "execution_count": 13,
   "metadata": {
    "execution": {
     "iopub.execute_input": "2021-12-31T21:54:01.246846Z",
     "iopub.status.busy": "2021-12-31T21:54:01.246491Z",
     "iopub.status.idle": "2021-12-31T21:54:01.251221Z",
     "shell.execute_reply": "2021-12-31T21:54:01.250215Z",
     "shell.execute_reply.started": "2021-12-31T21:54:01.246813Z"
    }
   },
   "outputs": [],
   "source": [
    "# Current amount of shares held in both the stock (SPY) and bond (AGG) portion of the portfolio.\n",
    "spy_shares = 110\n",
    "agg_shares = 200\n"
   ]
  },
  {
   "cell_type": "markdown",
   "metadata": {},
   "source": [
    "#### Step 1: In the `Starter_Code` folder, create an environment file (`.env`) to store the values of your Alpaca API key and Alpaca secret key."
   ]
  },
  {
   "cell_type": "markdown",
   "metadata": {},
   "source": [
    "#### Step 2: Set the variables for the Alpaca API and secret keys. Using the Alpaca SDK, create the Alpaca `tradeapi.REST` object. In this object, include the parameters for the Alpaca API key, the secret key, and the version number."
   ]
  },
  {
   "cell_type": "code",
   "execution_count": 14,
   "metadata": {
    "execution": {
     "iopub.execute_input": "2021-12-31T21:54:01.253538Z",
     "iopub.status.busy": "2021-12-31T21:54:01.253131Z",
     "iopub.status.idle": "2021-12-31T21:54:01.260270Z",
     "shell.execute_reply": "2021-12-31T21:54:01.258385Z",
     "shell.execute_reply.started": "2021-12-31T21:54:01.253476Z"
    }
   },
   "outputs": [],
   "source": [
    "# Set the variables for the Alpaca API and secret keys\n",
    "alpaca_api_key = os.getenv('ALPACA_API_KEY')\n",
    "alpaca_secret_key = os.getenv('ALPACA_SECRET_KEY')\n",
    "\n",
    "# Create the Alpaca tradeapi.REST object\n",
    "alpaca = tradeapi.REST(\n",
    "    alpaca_api_key,\n",
    "    alpaca_secret_key,\n",
    "    api_version='v2'\n",
    ")\n"
   ]
  },
  {
   "cell_type": "markdown",
   "metadata": {},
   "source": [
    "#### Step 3: Set the following parameters for the Alpaca API call:\n",
    "\n",
    "- `tickers`: Use the tickers for the member’s stock and bond holdings.\n",
    "\n",
    "- `timeframe`: Use a time frame of one day.\n",
    "\n",
    "- `start_date` and `end_date`: Use the same date for these parameters, and format them with the date of the previous weekday (or `2020-08-07`). This is because you want the one closing price for the most-recent trading day.\n"
   ]
  },
  {
   "cell_type": "code",
   "execution_count": 15,
   "metadata": {
    "execution": {
     "iopub.execute_input": "2021-12-31T21:54:01.262609Z",
     "iopub.status.busy": "2021-12-31T21:54:01.262117Z",
     "iopub.status.idle": "2021-12-31T21:54:01.330390Z",
     "shell.execute_reply": "2021-12-31T21:54:01.329720Z",
     "shell.execute_reply.started": "2021-12-31T21:54:01.262568Z"
    },
    "tags": []
   },
   "outputs": [],
   "source": [
    "# Set the tickers for both the bond and stock portion of the portfolio\n",
    "tickers = ['SPY', 'AGG']\n",
    "\n",
    "# Set timeframe to 1D \n",
    "timeframe= '1D'\n",
    "\n",
    "# Format current date as ISO format\n",
    "# Set both the start and end date at the date of your prior weekday \n",
    "# This will give you the closing price of the previous trading day\n",
    "# Alternatively you can use a start and end date of 2020-08-07\n",
    "start_date = pd.Timestamp('2021-12-31', tz='America/New_York').isoformat()\n",
    "end_date = pd.Timestamp('2021-12-31', tz='America/New_York').isoformat()\n"
   ]
  },
  {
   "cell_type": "markdown",
   "metadata": {},
   "source": [
    "#### Step 4: Get the current closing prices for `SPY` and `AGG` by using the Alpaca `get_barset` function. Format the response as a Pandas DataFrame by including the `df` property at the end of the `get_barset` function."
   ]
  },
  {
   "cell_type": "code",
   "execution_count": 16,
   "metadata": {
    "execution": {
     "iopub.execute_input": "2021-12-31T21:54:01.332049Z",
     "iopub.status.busy": "2021-12-31T21:54:01.331668Z",
     "iopub.status.idle": "2021-12-31T21:54:01.700791Z",
     "shell.execute_reply": "2021-12-31T21:54:01.700145Z",
     "shell.execute_reply.started": "2021-12-31T21:54:01.332019Z"
    },
    "tags": []
   },
   "outputs": [
    {
     "data": {
      "text/html": [
       "<div>\n",
       "<style scoped>\n",
       "    .dataframe tbody tr th:only-of-type {\n",
       "        vertical-align: middle;\n",
       "    }\n",
       "\n",
       "    .dataframe tbody tr th {\n",
       "        vertical-align: top;\n",
       "    }\n",
       "\n",
       "    .dataframe thead tr th {\n",
       "        text-align: left;\n",
       "    }\n",
       "</style>\n",
       "<table border=\"1\" class=\"dataframe\">\n",
       "  <thead>\n",
       "    <tr>\n",
       "      <th></th>\n",
       "      <th colspan=\"5\" halign=\"left\">AGG</th>\n",
       "      <th colspan=\"5\" halign=\"left\">SPY</th>\n",
       "    </tr>\n",
       "    <tr>\n",
       "      <th></th>\n",
       "      <th>open</th>\n",
       "      <th>high</th>\n",
       "      <th>low</th>\n",
       "      <th>close</th>\n",
       "      <th>volume</th>\n",
       "      <th>open</th>\n",
       "      <th>high</th>\n",
       "      <th>low</th>\n",
       "      <th>close</th>\n",
       "      <th>volume</th>\n",
       "    </tr>\n",
       "  </thead>\n",
       "  <tbody>\n",
       "    <tr>\n",
       "      <th>2021-12-31</th>\n",
       "      <td>114.15</td>\n",
       "      <td>114.31</td>\n",
       "      <td>114.06</td>\n",
       "      <td>114.09</td>\n",
       "      <td>6557778</td>\n",
       "      <td>475.64</td>\n",
       "      <td>476.86</td>\n",
       "      <td>474.67</td>\n",
       "      <td>474.89</td>\n",
       "      <td>51212452</td>\n",
       "    </tr>\n",
       "  </tbody>\n",
       "</table>\n",
       "</div>"
      ],
      "text/plain": [
       "               AGG                                      SPY                  \\\n",
       "              open    high     low   close   volume    open    high     low   \n",
       "2021-12-31  114.15  114.31  114.06  114.09  6557778  475.64  476.86  474.67   \n",
       "\n",
       "                              \n",
       "             close    volume  \n",
       "2021-12-31  474.89  51212452  "
      ]
     },
     "execution_count": 16,
     "metadata": {},
     "output_type": "execute_result"
    }
   ],
   "source": [
    "# Use the Alpaca get_barset function to get current closing prices the portfolio\n",
    "# Be sure to set the `df` property after the function to format the response object as a DataFrame\n",
    "prices_df = alpaca.get_barset(\n",
    "    tickers,\n",
    "    timeframe,\n",
    "    start=start_date,\n",
    "    end=end_date\n",
    ").df\n",
    "\n",
    "# Keep only the date portion of the index\n",
    "prices_df.index = prices_df.index.date\n",
    "\n",
    "# Review the first 5 rows of the Alpaca DataFrame\n",
    "prices_df\n"
   ]
  },
  {
   "cell_type": "markdown",
   "metadata": {},
   "source": [
    "#### Step 5: Navigating the Alpaca response DataFrame, select the `SPY` and `AGG` closing prices, and store them as variables."
   ]
  },
  {
   "cell_type": "code",
   "execution_count": 17,
   "metadata": {
    "execution": {
     "iopub.execute_input": "2021-12-31T21:54:01.702023Z",
     "iopub.status.busy": "2021-12-31T21:54:01.701701Z",
     "iopub.status.idle": "2021-12-31T21:54:01.711284Z",
     "shell.execute_reply": "2021-12-31T21:54:01.710228Z",
     "shell.execute_reply.started": "2021-12-31T21:54:01.701993Z"
    },
    "tags": []
   },
   "outputs": [
    {
     "name": "stdout",
     "output_type": "stream",
     "text": [
      "AGG Closing Price for 2021-12-31: $114.09\n"
     ]
    }
   ],
   "source": [
    "# Access the closing price for AGG from the Alpaca DataFrame\n",
    "# Converting the value to a floating point number\n",
    "agg_close_price = prices_df['AGG']['close'][0]\n",
    "\n",
    "# Print the AGG closing price\n",
    "print(f\"AGG Closing Price for 2021-12-31: ${agg_close_price:,.2f}\")\n"
   ]
  },
  {
   "cell_type": "code",
   "execution_count": 18,
   "metadata": {
    "execution": {
     "iopub.execute_input": "2021-12-31T21:54:01.713437Z",
     "iopub.status.busy": "2021-12-31T21:54:01.713048Z",
     "iopub.status.idle": "2021-12-31T21:54:01.719968Z",
     "shell.execute_reply": "2021-12-31T21:54:01.719219Z",
     "shell.execute_reply.started": "2021-12-31T21:54:01.713394Z"
    }
   },
   "outputs": [
    {
     "name": "stdout",
     "output_type": "stream",
     "text": [
      "SPY Closing Price for 2021-12-31: $474.89\n"
     ]
    }
   ],
   "source": [
    "# Access the closing price for SPY from the Alpaca DataFrame\n",
    "# Converting the value to a floating point number\n",
    "spy_close_price = prices_df['SPY']['close'][0]\n",
    "\n",
    "# Print the SPY closing price\n",
    "print(f\"SPY Closing Price for 2021-12-31: ${spy_close_price:,.2f}\")\n"
   ]
  },
  {
   "cell_type": "markdown",
   "metadata": {},
   "source": [
    "#### Step 6: Calculate the value, in US dollars, of the current amount of shares in each of the stock and bond portions of the portfolio, and print the results."
   ]
  },
  {
   "cell_type": "code",
   "execution_count": 19,
   "metadata": {
    "execution": {
     "iopub.execute_input": "2021-12-31T21:54:01.722045Z",
     "iopub.status.busy": "2021-12-31T21:54:01.721463Z",
     "iopub.status.idle": "2021-12-31T21:54:01.727369Z",
     "shell.execute_reply": "2021-12-31T21:54:01.726378Z",
     "shell.execute_reply.started": "2021-12-31T21:54:01.722012Z"
    }
   },
   "outputs": [
    {
     "name": "stdout",
     "output_type": "stream",
     "text": [
      "Bond Portfolio Value: $22,818.00\n"
     ]
    }
   ],
   "source": [
    "# Calculate the current value of the bond portion of the portfolio\n",
    "agg_value = agg_close_price * agg_shares\n",
    "\n",
    "# Print the current value of the bond portfolio\n",
    "print(f\"Bond Portfolio Value: ${agg_value:,.2f}\")\n"
   ]
  },
  {
   "cell_type": "code",
   "execution_count": 20,
   "metadata": {
    "execution": {
     "iopub.execute_input": "2021-12-31T21:54:01.729001Z",
     "iopub.status.busy": "2021-12-31T21:54:01.728525Z",
     "iopub.status.idle": "2021-12-31T21:54:01.734283Z",
     "shell.execute_reply": "2021-12-31T21:54:01.733394Z",
     "shell.execute_reply.started": "2021-12-31T21:54:01.728955Z"
    }
   },
   "outputs": [
    {
     "name": "stdout",
     "output_type": "stream",
     "text": [
      "Stock Portfolio Value: $52,237.90\n"
     ]
    }
   ],
   "source": [
    "# Calculate the current value of the stock portion of the portfolio\n",
    "spy_value = spy_close_price * spy_shares\n",
    "\n",
    "# Print the current value of the stock portfolio\n",
    "print(f\"Stock Portfolio Value: ${spy_value:,.2f}\")\n"
   ]
  },
  {
   "cell_type": "code",
   "execution_count": 21,
   "metadata": {
    "execution": {
     "iopub.execute_input": "2021-12-31T21:54:01.736185Z",
     "iopub.status.busy": "2021-12-31T21:54:01.735603Z",
     "iopub.status.idle": "2021-12-31T21:54:01.741684Z",
     "shell.execute_reply": "2021-12-31T21:54:01.740302Z",
     "shell.execute_reply.started": "2021-12-31T21:54:01.736149Z"
    },
    "tags": []
   },
   "outputs": [
    {
     "name": "stdout",
     "output_type": "stream",
     "text": [
      "Combined Stock & Bond Portfolio Value: $75,055.90\n"
     ]
    }
   ],
   "source": [
    "# Calculate the total value of the stock and bond portion of the portfolio\n",
    "total_stocks_bonds = agg_value + spy_value\n",
    "\n",
    "# Print the current balance of the stock and bond portion of the portfolio\n",
    "print(f\"Combined Stock & Bond Portfolio \"\n",
    "      f\"Value: ${total_stocks_bonds:,.2f}\")\n"
   ]
  },
  {
   "cell_type": "code",
   "execution_count": 22,
   "metadata": {
    "execution": {
     "iopub.execute_input": "2021-12-31T21:54:01.744007Z",
     "iopub.status.busy": "2021-12-31T21:54:01.743560Z",
     "iopub.status.idle": "2021-12-31T21:54:01.749054Z",
     "shell.execute_reply": "2021-12-31T21:54:01.748209Z",
     "shell.execute_reply.started": "2021-12-31T21:54:01.743976Z"
    }
   },
   "outputs": [
    {
     "name": "stdout",
     "output_type": "stream",
     "text": [
      "Total Assets: $150,230.95\n"
     ]
    }
   ],
   "source": [
    "# Calculate the total value of the member's entire savings portfolio\n",
    "# Add the value of the cryptocurrency walled to the value of the total stocks and bonds\n",
    "total_portfolio = total_crypto_wallet + total_stocks_bonds\n",
    "\n",
    "# Print current current balance of the cryptocurrency, stock, and bond portfolio\n",
    "print(f\"Total Assets: ${total_portfolio:,.2f}\")\n"
   ]
  },
  {
   "cell_type": "markdown",
   "metadata": {},
   "source": [
    "### Evaluate the Emergency Fund\n",
    "\n",
    "In this section, you’ll use the valuations for the cryptocurrency wallet and for the stock and bond portions of the portfolio to determine if the credit union member has enough savings to build an emergency fund into their financial plan. To do this, complete the following steps:\n",
    "\n",
    "1. Create a Python list named `savings_data` that has two elements. The first element contains the total value of the cryptocurrency wallet. The second element contains the total value of the stock and bond portions of the portfolio.\n",
    "\n",
    "2. Use the `savings_data` list to create a Pandas DataFrame named `savings_df`, and then display this DataFrame. The function to create the DataFrame should take the following three parameters:\n",
    "\n",
    "    - `savings_data`: Use the list that you just created.\n",
    "\n",
    "    - `columns`: Set this parameter equal to a Python list with a single value called `amount`.\n",
    "\n",
    "    - `index`: Set this parameter equal to a Python list with the values of `crypto` and `stock/bond`.\n",
    "\n",
    "3. Use the `savings_df` DataFrame to plot a pie chart that visualizes the composition of the member’s portfolio. The y-axis of the pie chart uses `amount`. Be sure to add a title.\n",
    "\n",
    "4. Using Python, determine if the current portfolio has enough to create an emergency fund as part of the member’s financial plan. Ideally, an emergency fund should equal to three times the member’s monthly income. To do this, implement the following steps:\n",
    "\n",
    "    1. Create a variable named `emergency_fund_value`, and set it equal to three times the value of the member’s `monthly_income` of $12000. (You set this earlier in Part 1).\n",
    "\n",
    "    2. Create a series of three if statements to determine if the member’s total portfolio is large enough to fund the emergency portfolio:\n",
    "\n",
    "        1. If the total portfolio value is greater than the emergency fund value, display a message congratulating the member for having enough money in this fund.\n",
    "\n",
    "        2. Else if the total portfolio value is equal to the emergency fund value, display a message congratulating the member on reaching this important financial goal.\n",
    "\n",
    "        3. Else the total portfolio is less than the emergency fund value, so display a message showing how many dollars away the member is from reaching the goal. (Subtract the total portfolio value from the emergency fund value.)\n"
   ]
  },
  {
   "cell_type": "markdown",
   "metadata": {},
   "source": [
    "#### Step 1: Create a Python list named `savings_data` that has two elements. The first element contains the total value of the cryptocurrency wallet. The second element contains the total value of the stock and bond portions of the portfolio."
   ]
  },
  {
   "cell_type": "code",
   "execution_count": 23,
   "metadata": {
    "execution": {
     "iopub.execute_input": "2021-12-31T21:54:01.750658Z",
     "iopub.status.busy": "2021-12-31T21:54:01.750316Z",
     "iopub.status.idle": "2021-12-31T21:54:01.756248Z",
     "shell.execute_reply": "2021-12-31T21:54:01.755266Z",
     "shell.execute_reply.started": "2021-12-31T21:54:01.750630Z"
    }
   },
   "outputs": [
    {
     "data": {
      "text/plain": [
       "[75175.053, 75055.9]"
      ]
     },
     "execution_count": 23,
     "metadata": {},
     "output_type": "execute_result"
    }
   ],
   "source": [
    "# Consolidate financial assets data into a Python list\n",
    "savings_data = [total_crypto_wallet, total_stocks_bonds]\n",
    "\n",
    "# Review the Python list savings_data\n",
    "savings_data\n",
    "    "
   ]
  },
  {
   "cell_type": "markdown",
   "metadata": {},
   "source": [
    "#### Step 2: Use the `savings_data` list to create a Pandas DataFrame named `savings_df`, and then display this DataFrame. The function to create the DataFrame should take the following three parameters:\n",
    "\n",
    "- `savings_data`: Use the list that you just created.\n",
    "\n",
    "- `columns`: Set this parameter equal to a Python list with a single value called `amount`.\n",
    "\n",
    "- `index`: Set this parameter equal to a Python list with the values of `crypto` and `stock/bond`.\n"
   ]
  },
  {
   "cell_type": "code",
   "execution_count": 24,
   "metadata": {
    "execution": {
     "iopub.execute_input": "2021-12-31T21:54:01.758231Z",
     "iopub.status.busy": "2021-12-31T21:54:01.757781Z",
     "iopub.status.idle": "2021-12-31T21:54:01.766798Z",
     "shell.execute_reply": "2021-12-31T21:54:01.766086Z",
     "shell.execute_reply.started": "2021-12-31T21:54:01.758197Z"
    }
   },
   "outputs": [
    {
     "data": {
      "text/html": [
       "<div>\n",
       "<style scoped>\n",
       "    .dataframe tbody tr th:only-of-type {\n",
       "        vertical-align: middle;\n",
       "    }\n",
       "\n",
       "    .dataframe tbody tr th {\n",
       "        vertical-align: top;\n",
       "    }\n",
       "\n",
       "    .dataframe thead th {\n",
       "        text-align: right;\n",
       "    }\n",
       "</style>\n",
       "<table border=\"1\" class=\"dataframe\">\n",
       "  <thead>\n",
       "    <tr style=\"text-align: right;\">\n",
       "      <th></th>\n",
       "      <th>amount</th>\n",
       "    </tr>\n",
       "  </thead>\n",
       "  <tbody>\n",
       "    <tr>\n",
       "      <th>crypto</th>\n",
       "      <td>75175.053</td>\n",
       "    </tr>\n",
       "    <tr>\n",
       "      <th>stock/bond</th>\n",
       "      <td>75055.900</td>\n",
       "    </tr>\n",
       "  </tbody>\n",
       "</table>\n",
       "</div>"
      ],
      "text/plain": [
       "               amount\n",
       "crypto      75175.053\n",
       "stock/bond  75055.900"
      ]
     },
     "execution_count": 24,
     "metadata": {},
     "output_type": "execute_result"
    }
   ],
   "source": [
    "# Create a Pandas DataFrame called savings_df \n",
    "savings_df = pd.DataFrame(\n",
    "    savings_data,\n",
    "    columns=['amount'],\n",
    "    index=['crypto', 'stock/bond']\n",
    ")\n",
    "\n",
    "# Display the savings_df DataFrame\n",
    "savings_df\n"
   ]
  },
  {
   "cell_type": "markdown",
   "metadata": {},
   "source": [
    "#### Step 3: Use the `savings_df` DataFrame to plot a pie chart that visualizes the composition of the member’s portfolio. The y-axis of the pie chart uses `amount`. Be sure to add a title."
   ]
  },
  {
   "cell_type": "code",
   "execution_count": 25,
   "metadata": {
    "execution": {
     "iopub.execute_input": "2021-12-31T21:54:01.768951Z",
     "iopub.status.busy": "2021-12-31T21:54:01.768555Z",
     "iopub.status.idle": "2021-12-31T21:54:02.023379Z",
     "shell.execute_reply": "2021-12-31T21:54:02.022344Z",
     "shell.execute_reply.started": "2021-12-31T21:54:01.768920Z"
    },
    "tags": []
   },
   "outputs": [
    {
     "data": {
      "image/png": "[encoded data removed]",
      "text/plain": [
       "<Figure size 432x432 with 1 Axes>"
      ]
     },
     "metadata": {},
     "output_type": "display_data"
    }
   ],
   "source": [
    "# Plot the total value of the member's portfolio (crypto and stock/bond) in a pie chart\n",
    "savings_df.plot.pie(\n",
    "    y='amount',\n",
    "    figsize=(6, 6),\n",
    "    title='Portfolio Allocation'\n",
    ");\n"
   ]
  },
  {
   "cell_type": "markdown",
   "metadata": {},
   "source": [
    "#### Step 4: Using Python, determine if the current portfolio has enough to create an emergency fund as part of the member’s financial plan. Ideally, an emergency fund should equal to three times the member’s monthly income. To do this, implement the following steps:\n",
    "\n",
    "Step 1. Create a variable named `emergency_fund_value`, and set it equal to three times the value of the member’s `monthly_income` of 12000. (You set this earlier in Part 1).\n",
    "\n",
    "Step 2. Create a series of three if statements to determine if the member’s total portfolio is large enough to fund the emergency portfolio:\n",
    "\n",
    "* If the total portfolio value is greater than the emergency fund value, display a message congratulating the member for having enough money in this fund.\n",
    "\n",
    "* Else if the total portfolio value is equal to the emergency fund value, display a message congratulating the member on reaching this important financial goal.\n",
    "\n",
    "* Else the total portfolio is less than the emergency fund value, so display a message showing how many dollars away the member is from reaching the goal. (Subtract the total portfolio value from the emergency fund value.)\n"
   ]
  },
  {
   "cell_type": "markdown",
   "metadata": {},
   "source": [
    "##### Step 4-1: Create a variable named `emergency_fund_value`, and set it equal to three times the value of the member’s `monthly_income` of 12000. (You set this earlier in Part 1)."
   ]
  },
  {
   "cell_type": "code",
   "execution_count": 26,
   "metadata": {
    "execution": {
     "iopub.execute_input": "2021-12-31T21:54:02.025400Z",
     "iopub.status.busy": "2021-12-31T21:54:02.025032Z",
     "iopub.status.idle": "2021-12-31T21:54:02.029358Z",
     "shell.execute_reply": "2021-12-31T21:54:02.028625Z",
     "shell.execute_reply.started": "2021-12-31T21:54:02.025293Z"
    }
   },
   "outputs": [],
   "source": [
    "# Create a variable named emergency_fund_value\n",
    "emergency_fund_value = monthly_income * 3\n"
   ]
  },
  {
   "cell_type": "markdown",
   "metadata": {},
   "source": [
    "##### Step 4-2: Create a series of three if statements to determine if the member’s total portfolio is large enough to fund the emergency portfolio:\n",
    "\n",
    "* If the total portfolio value is greater than the emergency fund value, display a message congratulating the member for having enough money in this fund.\n",
    "\n",
    "* Else if the total portfolio value is equal to the emergency fund value, display a message congratulating the member on reaching this important financial goal.\n",
    "\n",
    "* Else the total portfolio is less than the emergency fund value, so display a message showing how many dollars away the member is from reaching the goal. (Subtract the total portfolio value from the emergency fund value.)"
   ]
  },
  {
   "cell_type": "code",
   "execution_count": 27,
   "metadata": {
    "execution": {
     "iopub.execute_input": "2021-12-31T21:54:02.031560Z",
     "iopub.status.busy": "2021-12-31T21:54:02.031201Z",
     "iopub.status.idle": "2021-12-31T21:54:02.039122Z",
     "shell.execute_reply": "2021-12-31T21:54:02.037982Z",
     "shell.execute_reply.started": "2021-12-31T21:54:02.031533Z"
    }
   },
   "outputs": [
    {
     "name": "stdout",
     "output_type": "stream",
     "text": [
      "Congratulations, your crypto/stock/bond portfolio is able to fund your emergency account.\n"
     ]
    }
   ],
   "source": [
    "# Evaluate the possibility of creating an emergency fund with 3 conditions:\n",
    "if total_portfolio > emergency_fund_value:\n",
    "    print(\"Congratulations, your crypto/stock/bond \"\n",
    "          \"portfolio is able to fund your emergency account.\")\n",
    "elif total_portfolio == emergency_fund_value:\n",
    "    print(\"Congratulations, your crypto/stock/bond \"\n",
    "          \"portfolio equals the amount need to fund your \"\n",
    "          \"emergency account.\")\n",
    "else:\n",
    "    print(f\"Your crypto/stock/bond portfolio is currently \"\n",
    "          f\"valued at ${total_portfolio:,.2f}. To fund your \"\n",
    "          f\"emergency account an additional \"\n",
    "          f\"${emergency_fund_value - total_portfolio:,.2f} is needed.\")\n"
   ]
  },
  {
   "cell_type": "markdown",
   "metadata": {},
   "source": [
    "## Part 2: Create a Financial Planner for Retirement"
   ]
  },
  {
   "cell_type": "markdown",
   "metadata": {},
   "source": [
    "### Create the Monte Carlo Simulation\n",
    "\n",
    "In this section, you’ll use the MCForecastTools library to create a Monte Carlo simulation for the member’s savings portfolio. To do this, complete the following steps:\n",
    "\n",
    "1. Make an API call via the Alpaca SDK to get 3 years of historical closing prices for a traditional 60/40 portfolio split: 60% stocks (SPY) and 40% bonds (AGG).\n",
    "\n",
    "2. Run a Monte Carlo simulation of 500 samples and 30 years for the 60/40 portfolio, and then plot the results.The following image shows the overlay line plot resulting from a simulation with these characteristics. However, because a random number generator is used to run each live Monte Carlo simulation, your image will differ slightly from this exact image:\n",
    "\n",
    "![A screenshot depicts the resulting plot.](Images/5-4-monte-carlo-line-plot.png)\n",
    "\n",
    "3. Plot the probability distribution of the Monte Carlo simulation. The following image shows the histogram plot resulting from a simulation with these characteristics. However, because a random number generator is used to run each live Monte Carlo simulation, your image will differ slightly from this exact image:\n",
    "\n",
    "![A screenshot depicts the histogram plot.](Images/5-4-monte-carlo-histogram.png)\n",
    "\n",
    "4. Generate the summary statistics for the Monte Carlo simulation.\n",
    "\n"
   ]
  },
  {
   "cell_type": "markdown",
   "metadata": {},
   "source": [
    "#### Step 1: Make an API call via the Alpaca SDK to get 3 years of historical closing prices for a traditional 60/40 portfolio split: 60% stocks (SPY) and 40% bonds (AGG)."
   ]
  },
  {
   "cell_type": "code",
   "execution_count": 37,
   "metadata": {
    "execution": {
     "iopub.execute_input": "2021-12-31T23:52:56.279371Z",
     "iopub.status.busy": "2021-12-31T23:52:56.279022Z",
     "iopub.status.idle": "2021-12-31T23:52:56.284065Z",
     "shell.execute_reply": "2021-12-31T23:52:56.283313Z",
     "shell.execute_reply.started": "2021-12-31T23:52:56.279341Z"
    },
    "tags": []
   },
   "outputs": [],
   "source": [
    "# Set start and end dates of 3 years back from your current date\n",
    "# Alternatively, you can use an end date of 2020-08-07 and work 3 years back from that date \n",
    "start_date = pd.Timestamp('2018-12-31', tz='America/New_York').isoformat()\n",
    "end_date = pd.Timestamp('2021-12-31', tz='America/New_York').isoformat()\n",
    "\n",
    "# Set number of rows to 1000 to retrieve the maximum amount of rows\n",
    "limit_rows = 1000"
   ]
  },
  {
   "cell_type": "code",
   "execution_count": 39,
   "metadata": {
    "execution": {
     "iopub.execute_input": "2021-12-31T23:55:18.219125Z",
     "iopub.status.busy": "2021-12-31T23:55:18.218695Z",
     "iopub.status.idle": "2021-12-31T23:55:18.461040Z",
     "shell.execute_reply": "2021-12-31T23:55:18.460165Z",
     "shell.execute_reply.started": "2021-12-31T23:55:18.219091Z"
    },
    "tags": []
   },
   "outputs": [
    {
     "data": {
      "text/html": [
       "<div>\n",
       "<style scoped>\n",
       "    .dataframe tbody tr th:only-of-type {\n",
       "        vertical-align: middle;\n",
       "    }\n",
       "\n",
       "    .dataframe tbody tr th {\n",
       "        vertical-align: top;\n",
       "    }\n",
       "\n",
       "    .dataframe thead tr th {\n",
       "        text-align: left;\n",
       "    }\n",
       "</style>\n",
       "<table border=\"1\" class=\"dataframe\">\n",
       "  <thead>\n",
       "    <tr>\n",
       "      <th></th>\n",
       "      <th colspan=\"5\" halign=\"left\">AGG</th>\n",
       "      <th colspan=\"5\" halign=\"left\">SPY</th>\n",
       "    </tr>\n",
       "    <tr>\n",
       "      <th></th>\n",
       "      <th>open</th>\n",
       "      <th>high</th>\n",
       "      <th>low</th>\n",
       "      <th>close</th>\n",
       "      <th>volume</th>\n",
       "      <th>open</th>\n",
       "      <th>high</th>\n",
       "      <th>low</th>\n",
       "      <th>close</th>\n",
       "      <th>volume</th>\n",
       "    </tr>\n",
       "  </thead>\n",
       "  <tbody>\n",
       "    <tr>\n",
       "      <th>2018-12-31</th>\n",
       "      <td>106.12</td>\n",
       "      <td>106.510</td>\n",
       "      <td>105.6200</td>\n",
       "      <td>106.495</td>\n",
       "      <td>8349838.0</td>\n",
       "      <td>249.56</td>\n",
       "      <td>250.16</td>\n",
       "      <td>247.47</td>\n",
       "      <td>248.55</td>\n",
       "      <td>100767777</td>\n",
       "    </tr>\n",
       "    <tr>\n",
       "      <th>2019-01-02</th>\n",
       "      <td>106.55</td>\n",
       "      <td>106.610</td>\n",
       "      <td>106.4701</td>\n",
       "      <td>106.585</td>\n",
       "      <td>10164756.0</td>\n",
       "      <td>245.98</td>\n",
       "      <td>251.21</td>\n",
       "      <td>245.95</td>\n",
       "      <td>249.89</td>\n",
       "      <td>107236613</td>\n",
       "    </tr>\n",
       "    <tr>\n",
       "      <th>2019-01-03</th>\n",
       "      <td>106.57</td>\n",
       "      <td>107.075</td>\n",
       "      <td>106.5700</td>\n",
       "      <td>107.020</td>\n",
       "      <td>6260265.0</td>\n",
       "      <td>248.23</td>\n",
       "      <td>248.57</td>\n",
       "      <td>244.03</td>\n",
       "      <td>244.46</td>\n",
       "      <td>113782919</td>\n",
       "    </tr>\n",
       "    <tr>\n",
       "      <th>2019-01-04</th>\n",
       "      <td>106.66</td>\n",
       "      <td>106.720</td>\n",
       "      <td>106.5500</td>\n",
       "      <td>106.695</td>\n",
       "      <td>7755476.0</td>\n",
       "      <td>247.59</td>\n",
       "      <td>253.11</td>\n",
       "      <td>247.17</td>\n",
       "      <td>252.41</td>\n",
       "      <td>122528832</td>\n",
       "    </tr>\n",
       "    <tr>\n",
       "      <th>2019-01-07</th>\n",
       "      <td>106.72</td>\n",
       "      <td>106.790</td>\n",
       "      <td>106.4600</td>\n",
       "      <td>106.470</td>\n",
       "      <td>6545877.0</td>\n",
       "      <td>252.69</td>\n",
       "      <td>255.95</td>\n",
       "      <td>251.69</td>\n",
       "      <td>254.40</td>\n",
       "      <td>88317608</td>\n",
       "    </tr>\n",
       "  </tbody>\n",
       "</table>\n",
       "</div>"
      ],
      "text/plain": [
       "               AGG                                             SPY          \\\n",
       "              open     high       low    close      volume    open    high   \n",
       "2018-12-31  106.12  106.510  105.6200  106.495   8349838.0  249.56  250.16   \n",
       "2019-01-02  106.55  106.610  106.4701  106.585  10164756.0  245.98  251.21   \n",
       "2019-01-03  106.57  107.075  106.5700  107.020   6260265.0  248.23  248.57   \n",
       "2019-01-04  106.66  106.720  106.5500  106.695   7755476.0  247.59  253.11   \n",
       "2019-01-07  106.72  106.790  106.4600  106.470   6545877.0  252.69  255.95   \n",
       "\n",
       "                                       \n",
       "               low   close     volume  \n",
       "2018-12-31  247.47  248.55  100767777  \n",
       "2019-01-02  245.95  249.89  107236613  \n",
       "2019-01-03  244.03  244.46  113782919  \n",
       "2019-01-04  247.17  252.41  122528832  \n",
       "2019-01-07  251.69  254.40   88317608  "
      ]
     },
     "metadata": {},
     "output_type": "display_data"
    },
    {
     "data": {
      "text/html": [
       "<div>\n",
       "<style scoped>\n",
       "    .dataframe tbody tr th:only-of-type {\n",
       "        vertical-align: middle;\n",
       "    }\n",
       "\n",
       "    .dataframe tbody tr th {\n",
       "        vertical-align: top;\n",
       "    }\n",
       "\n",
       "    .dataframe thead tr th {\n",
       "        text-align: left;\n",
       "    }\n",
       "</style>\n",
       "<table border=\"1\" class=\"dataframe\">\n",
       "  <thead>\n",
       "    <tr>\n",
       "      <th></th>\n",
       "      <th colspan=\"5\" halign=\"left\">AGG</th>\n",
       "      <th colspan=\"5\" halign=\"left\">SPY</th>\n",
       "    </tr>\n",
       "    <tr>\n",
       "      <th></th>\n",
       "      <th>open</th>\n",
       "      <th>high</th>\n",
       "      <th>low</th>\n",
       "      <th>close</th>\n",
       "      <th>volume</th>\n",
       "      <th>open</th>\n",
       "      <th>high</th>\n",
       "      <th>low</th>\n",
       "      <th>close</th>\n",
       "      <th>volume</th>\n",
       "    </tr>\n",
       "  </thead>\n",
       "  <tbody>\n",
       "    <tr>\n",
       "      <th>2021-12-27</th>\n",
       "      <td>114.15</td>\n",
       "      <td>114.30</td>\n",
       "      <td>114.13</td>\n",
       "      <td>114.27</td>\n",
       "      <td>5069840.0</td>\n",
       "      <td>472.03</td>\n",
       "      <td>477.31</td>\n",
       "      <td>472.01</td>\n",
       "      <td>477.27</td>\n",
       "      <td>46260198</td>\n",
       "    </tr>\n",
       "    <tr>\n",
       "      <th>2021-12-28</th>\n",
       "      <td>114.43</td>\n",
       "      <td>114.45</td>\n",
       "      <td>114.17</td>\n",
       "      <td>114.22</td>\n",
       "      <td>4892072.0</td>\n",
       "      <td>477.72</td>\n",
       "      <td>478.81</td>\n",
       "      <td>476.06</td>\n",
       "      <td>476.89</td>\n",
       "      <td>37370466</td>\n",
       "    </tr>\n",
       "    <tr>\n",
       "      <th>2021-12-29</th>\n",
       "      <td>113.99</td>\n",
       "      <td>114.05</td>\n",
       "      <td>113.81</td>\n",
       "      <td>113.87</td>\n",
       "      <td>5712959.0</td>\n",
       "      <td>477.00</td>\n",
       "      <td>478.56</td>\n",
       "      <td>475.92</td>\n",
       "      <td>477.46</td>\n",
       "      <td>47223213</td>\n",
       "    </tr>\n",
       "    <tr>\n",
       "      <th>2021-12-30</th>\n",
       "      <td>113.99</td>\n",
       "      <td>114.13</td>\n",
       "      <td>113.83</td>\n",
       "      <td>114.12</td>\n",
       "      <td>5044053.0</td>\n",
       "      <td>477.93</td>\n",
       "      <td>479.00</td>\n",
       "      <td>475.67</td>\n",
       "      <td>476.15</td>\n",
       "      <td>44681636</td>\n",
       "    </tr>\n",
       "    <tr>\n",
       "      <th>2021-12-31</th>\n",
       "      <td>114.15</td>\n",
       "      <td>114.31</td>\n",
       "      <td>114.06</td>\n",
       "      <td>114.09</td>\n",
       "      <td>6557778.0</td>\n",
       "      <td>475.64</td>\n",
       "      <td>476.86</td>\n",
       "      <td>474.67</td>\n",
       "      <td>474.89</td>\n",
       "      <td>51212452</td>\n",
       "    </tr>\n",
       "  </tbody>\n",
       "</table>\n",
       "</div>"
      ],
      "text/plain": [
       "               AGG                                        SPY                  \\\n",
       "              open    high     low   close     volume    open    high     low   \n",
       "2021-12-27  114.15  114.30  114.13  114.27  5069840.0  472.03  477.31  472.01   \n",
       "2021-12-28  114.43  114.45  114.17  114.22  4892072.0  477.72  478.81  476.06   \n",
       "2021-12-29  113.99  114.05  113.81  113.87  5712959.0  477.00  478.56  475.92   \n",
       "2021-12-30  113.99  114.13  113.83  114.12  5044053.0  477.93  479.00  475.67   \n",
       "2021-12-31  114.15  114.31  114.06  114.09  6557778.0  475.64  476.86  474.67   \n",
       "\n",
       "                              \n",
       "             close    volume  \n",
       "2021-12-27  477.27  46260198  \n",
       "2021-12-28  476.89  37370466  \n",
       "2021-12-29  477.46  47223213  \n",
       "2021-12-30  476.15  44681636  \n",
       "2021-12-31  474.89  51212452  "
      ]
     },
     "metadata": {},
     "output_type": "display_data"
    },
    {
     "data": {
      "text/plain": [
       "(758, 10)"
      ]
     },
     "execution_count": 39,
     "metadata": {},
     "output_type": "execute_result"
    }
   ],
   "source": [
    "# Use the Alpaca get_barset function to make the API call to get the 3 years worth of pricing data\n",
    "# The tickers and timeframe parameters should have been set in Part 1 of this activity \n",
    "# The start and end dates should be updated with the information set above\n",
    "# Remember to add the df property to the end of the call so the response is returned as a DataFrame\n",
    "prices_df = alpaca.get_barset(\n",
    "    tickers,\n",
    "    timeframe,\n",
    "    start=start_date,\n",
    "    end=end_date,\n",
    "    limit=limit_rows\n",
    ").df\n",
    "\n",
    "# Keep only the date element of the index\n",
    "prices_df.index = prices_df.index.date\n",
    "\n",
    "# Display both the first and last five rows of the DataFrame\n",
    "display(prices_df.head())\n",
    "display(prices_df.tail())\n",
    "prices_df.shape"
   ]
  },
  {
   "cell_type": "markdown",
   "metadata": {},
   "source": [
    "#### Step 2: Run a Monte Carlo simulation of 500 samples and 30 years for the 60/40 portfolio, and then plot the results."
   ]
  },
  {
   "cell_type": "code",
   "execution_count": 40,
   "metadata": {
    "execution": {
     "iopub.execute_input": "2021-12-31T23:57:35.071424Z",
     "iopub.status.busy": "2021-12-31T23:57:35.070976Z",
     "iopub.status.idle": "2021-12-31T23:57:35.095744Z",
     "shell.execute_reply": "2021-12-31T23:57:35.094968Z",
     "shell.execute_reply.started": "2021-12-31T23:57:35.071394Z"
    },
    "tags": []
   },
   "outputs": [
    {
     "data": {
      "text/html": [
       "<div>\n",
       "<style scoped>\n",
       "    .dataframe tbody tr th:only-of-type {\n",
       "        vertical-align: middle;\n",
       "    }\n",
       "\n",
       "    .dataframe tbody tr th {\n",
       "        vertical-align: top;\n",
       "    }\n",
       "\n",
       "    .dataframe thead tr th {\n",
       "        text-align: left;\n",
       "    }\n",
       "</style>\n",
       "<table border=\"1\" class=\"dataframe\">\n",
       "  <thead>\n",
       "    <tr>\n",
       "      <th></th>\n",
       "      <th colspan=\"6\" halign=\"left\">AGG</th>\n",
       "      <th colspan=\"6\" halign=\"left\">SPY</th>\n",
       "    </tr>\n",
       "    <tr>\n",
       "      <th></th>\n",
       "      <th>open</th>\n",
       "      <th>high</th>\n",
       "      <th>low</th>\n",
       "      <th>close</th>\n",
       "      <th>volume</th>\n",
       "      <th>daily_return</th>\n",
       "      <th>open</th>\n",
       "      <th>high</th>\n",
       "      <th>low</th>\n",
       "      <th>close</th>\n",
       "      <th>volume</th>\n",
       "      <th>daily_return</th>\n",
       "    </tr>\n",
       "  </thead>\n",
       "  <tbody>\n",
       "    <tr>\n",
       "      <th>2018-12-31</th>\n",
       "      <td>106.12</td>\n",
       "      <td>106.510</td>\n",
       "      <td>105.6200</td>\n",
       "      <td>106.495</td>\n",
       "      <td>8349838.0</td>\n",
       "      <td>NaN</td>\n",
       "      <td>249.56</td>\n",
       "      <td>250.16</td>\n",
       "      <td>247.47</td>\n",
       "      <td>248.55</td>\n",
       "      <td>100767777</td>\n",
       "      <td>NaN</td>\n",
       "    </tr>\n",
       "    <tr>\n",
       "      <th>2019-01-02</th>\n",
       "      <td>106.55</td>\n",
       "      <td>106.610</td>\n",
       "      <td>106.4701</td>\n",
       "      <td>106.585</td>\n",
       "      <td>10164756.0</td>\n",
       "      <td>0.000845</td>\n",
       "      <td>245.98</td>\n",
       "      <td>251.21</td>\n",
       "      <td>245.95</td>\n",
       "      <td>249.89</td>\n",
       "      <td>107236613</td>\n",
       "      <td>0.005391</td>\n",
       "    </tr>\n",
       "    <tr>\n",
       "      <th>2019-01-03</th>\n",
       "      <td>106.57</td>\n",
       "      <td>107.075</td>\n",
       "      <td>106.5700</td>\n",
       "      <td>107.020</td>\n",
       "      <td>6260265.0</td>\n",
       "      <td>0.004081</td>\n",
       "      <td>248.23</td>\n",
       "      <td>248.57</td>\n",
       "      <td>244.03</td>\n",
       "      <td>244.46</td>\n",
       "      <td>113782919</td>\n",
       "      <td>-0.021730</td>\n",
       "    </tr>\n",
       "    <tr>\n",
       "      <th>2019-01-04</th>\n",
       "      <td>106.66</td>\n",
       "      <td>106.720</td>\n",
       "      <td>106.5500</td>\n",
       "      <td>106.695</td>\n",
       "      <td>7755476.0</td>\n",
       "      <td>-0.003037</td>\n",
       "      <td>247.59</td>\n",
       "      <td>253.11</td>\n",
       "      <td>247.17</td>\n",
       "      <td>252.41</td>\n",
       "      <td>122528832</td>\n",
       "      <td>0.032521</td>\n",
       "    </tr>\n",
       "    <tr>\n",
       "      <th>2019-01-07</th>\n",
       "      <td>106.72</td>\n",
       "      <td>106.790</td>\n",
       "      <td>106.4600</td>\n",
       "      <td>106.470</td>\n",
       "      <td>6545877.0</td>\n",
       "      <td>-0.002109</td>\n",
       "      <td>252.69</td>\n",
       "      <td>255.95</td>\n",
       "      <td>251.69</td>\n",
       "      <td>254.40</td>\n",
       "      <td>88317608</td>\n",
       "      <td>0.007884</td>\n",
       "    </tr>\n",
       "  </tbody>\n",
       "</table>\n",
       "</div>"
      ],
      "text/plain": [
       "               AGG                                                       \\\n",
       "              open     high       low    close      volume daily_return   \n",
       "2018-12-31  106.12  106.510  105.6200  106.495   8349838.0          NaN   \n",
       "2019-01-02  106.55  106.610  106.4701  106.585  10164756.0     0.000845   \n",
       "2019-01-03  106.57  107.075  106.5700  107.020   6260265.0     0.004081   \n",
       "2019-01-04  106.66  106.720  106.5500  106.695   7755476.0    -0.003037   \n",
       "2019-01-07  106.72  106.790  106.4600  106.470   6545877.0    -0.002109   \n",
       "\n",
       "               SPY                                                  \n",
       "              open    high     low   close     volume daily_return  \n",
       "2018-12-31  249.56  250.16  247.47  248.55  100767777          NaN  \n",
       "2019-01-02  245.98  251.21  245.95  249.89  107236613     0.005391  \n",
       "2019-01-03  248.23  248.57  244.03  244.46  113782919    -0.021730  \n",
       "2019-01-04  247.59  253.11  247.17  252.41  122528832     0.032521  \n",
       "2019-01-07  252.69  255.95  251.69  254.40   88317608     0.007884  "
      ]
     },
     "execution_count": 40,
     "metadata": {},
     "output_type": "execute_result"
    }
   ],
   "source": [
    "# Configure the Monte Carlo simulation to forecast 30 years cumulative returns\n",
    "# The weights should be split 40% to AGG and 60% to SPY.\n",
    "# Run 500 samples.\n",
    "MC_spy = MCSimulation(\n",
    "    portfolio_data=prices_df,\n",
    "    weights=[0.4, 0.6],\n",
    "    num_simulation=500,\n",
    "    num_trading_days=252*30\n",
    ")\n",
    "\n",
    "# Review the simulation input data\n",
    "MC_spy.portfolio_data.head()\n"
   ]
  },
  {
   "cell_type": "code",
   "execution_count": 41,
   "metadata": {
    "execution": {
     "iopub.execute_input": "2021-12-31T23:57:58.659751Z",
     "iopub.status.busy": "2021-12-31T23:57:58.659449Z",
     "iopub.status.idle": "2021-12-31T23:59:54.666709Z",
     "shell.execute_reply": "2021-12-31T23:59:54.665916Z",
     "shell.execute_reply.started": "2021-12-31T23:57:58.659717Z"
    },
    "tags": []
   },
   "outputs": [
    {
     "name": "stdout",
     "output_type": "stream",
     "text": [
      "Running Monte Carlo simulation number 0.\n",
      "Running Monte Carlo simulation number 10.\n",
      "Running Monte Carlo simulation number 20.\n",
      "Running Monte Carlo simulation number 30.\n",
      "Running Monte Carlo simulation number 40.\n",
      "Running Monte Carlo simulation number 50.\n",
      "Running Monte Carlo simulation number 60.\n",
      "Running Monte Carlo simulation number 70.\n",
      "Running Monte Carlo simulation number 80.\n",
      "Running Monte Carlo simulation number 90.\n",
      "Running Monte Carlo simulation number 100.\n"
     ]
    },
    {
     "name": "stderr",
     "output_type": "stream",
     "text": [
      "/Users/jmischun/Documents/uw/finTech_bootCamp_2021/module_5/challenge_activity/MCForecastTools.py:117: PerformanceWarning: DataFrame is highly fragmented.  This is usually the result of calling `frame.insert` many times, which has poor performance.  Consider joining all columns at once using pd.concat(axis=1) instead.  To get a de-fragmented frame, use `newframe = frame.copy()`\n",
      "  portfolio_cumulative_returns[n] = (1 + sim_df.fillna(0)).cumprod()\n"
     ]
    },
    {
     "name": "stdout",
     "output_type": "stream",
     "text": [
      "Running Monte Carlo simulation number 110.\n",
      "Running Monte Carlo simulation number 120.\n",
      "Running Monte Carlo simulation number 130.\n",
      "Running Monte Carlo simulation number 140.\n",
      "Running Monte Carlo simulation number 150.\n",
      "Running Monte Carlo simulation number 160.\n",
      "Running Monte Carlo simulation number 170.\n",
      "Running Monte Carlo simulation number 180.\n",
      "Running Monte Carlo simulation number 190.\n",
      "Running Monte Carlo simulation number 200.\n",
      "Running Monte Carlo simulation number 210.\n",
      "Running Monte Carlo simulation number 220.\n",
      "Running Monte Carlo simulation number 230.\n",
      "Running Monte Carlo simulation number 240.\n",
      "Running Monte Carlo simulation number 250.\n",
      "Running Monte Carlo simulation number 260.\n",
      "Running Monte Carlo simulation number 270.\n",
      "Running Monte Carlo simulation number 280.\n",
      "Running Monte Carlo simulation number 290.\n",
      "Running Monte Carlo simulation number 300.\n",
      "Running Monte Carlo simulation number 310.\n",
      "Running Monte Carlo simulation number 320.\n",
      "Running Monte Carlo simulation number 330.\n",
      "Running Monte Carlo simulation number 340.\n",
      "Running Monte Carlo simulation number 350.\n",
      "Running Monte Carlo simulation number 360.\n",
      "Running Monte Carlo simulation number 370.\n",
      "Running Monte Carlo simulation number 380.\n",
      "Running Monte Carlo simulation number 390.\n",
      "Running Monte Carlo simulation number 400.\n",
      "Running Monte Carlo simulation number 410.\n",
      "Running Monte Carlo simulation number 420.\n",
      "Running Monte Carlo simulation number 430.\n",
      "Running Monte Carlo simulation number 440.\n",
      "Running Monte Carlo simulation number 450.\n",
      "Running Monte Carlo simulation number 460.\n",
      "Running Monte Carlo simulation number 470.\n",
      "Running Monte Carlo simulation number 480.\n",
      "Running Monte Carlo simulation number 490.\n"
     ]
    },
    {
     "data": {
      "text/html": [
       "<div>\n",
       "<style scoped>\n",
       "    .dataframe tbody tr th:only-of-type {\n",
       "        vertical-align: middle;\n",
       "    }\n",
       "\n",
       "    .dataframe tbody tr th {\n",
       "        vertical-align: top;\n",
       "    }\n",
       "\n",
       "    .dataframe thead th {\n",
       "        text-align: right;\n",
       "    }\n",
       "</style>\n",
       "<table border=\"1\" class=\"dataframe\">\n",
       "  <thead>\n",
       "    <tr style=\"text-align: right;\">\n",
       "      <th></th>\n",
       "      <th>0</th>\n",
       "      <th>1</th>\n",
       "      <th>2</th>\n",
       "      <th>3</th>\n",
       "      <th>4</th>\n",
       "      <th>5</th>\n",
       "      <th>6</th>\n",
       "      <th>7</th>\n",
       "      <th>8</th>\n",
       "      <th>9</th>\n",
       "      <th>...</th>\n",
       "      <th>490</th>\n",
       "      <th>491</th>\n",
       "      <th>492</th>\n",
       "      <th>493</th>\n",
       "      <th>494</th>\n",
       "      <th>495</th>\n",
       "      <th>496</th>\n",
       "      <th>497</th>\n",
       "      <th>498</th>\n",
       "      <th>499</th>\n",
       "    </tr>\n",
       "  </thead>\n",
       "  <tbody>\n",
       "    <tr>\n",
       "      <th>0</th>\n",
       "      <td>1.000000</td>\n",
       "      <td>1.000000</td>\n",
       "      <td>1.000000</td>\n",
       "      <td>1.000000</td>\n",
       "      <td>1.000000</td>\n",
       "      <td>1.000000</td>\n",
       "      <td>1.000000</td>\n",
       "      <td>1.000000</td>\n",
       "      <td>1.000000</td>\n",
       "      <td>1.000000</td>\n",
       "      <td>...</td>\n",
       "      <td>1.000000</td>\n",
       "      <td>1.000000</td>\n",
       "      <td>1.000000</td>\n",
       "      <td>1.000000</td>\n",
       "      <td>1.000000</td>\n",
       "      <td>1.000000</td>\n",
       "      <td>1.000000</td>\n",
       "      <td>1.000000</td>\n",
       "      <td>1.000000</td>\n",
       "      <td>1.000000</td>\n",
       "    </tr>\n",
       "    <tr>\n",
       "      <th>1</th>\n",
       "      <td>0.991399</td>\n",
       "      <td>1.003993</td>\n",
       "      <td>1.006498</td>\n",
       "      <td>0.995207</td>\n",
       "      <td>1.006297</td>\n",
       "      <td>1.007048</td>\n",
       "      <td>0.989495</td>\n",
       "      <td>1.007598</td>\n",
       "      <td>0.994343</td>\n",
       "      <td>1.019113</td>\n",
       "      <td>...</td>\n",
       "      <td>1.008750</td>\n",
       "      <td>1.018425</td>\n",
       "      <td>0.983139</td>\n",
       "      <td>1.007549</td>\n",
       "      <td>0.992576</td>\n",
       "      <td>0.991831</td>\n",
       "      <td>1.005072</td>\n",
       "      <td>1.007339</td>\n",
       "      <td>0.984202</td>\n",
       "      <td>0.995394</td>\n",
       "    </tr>\n",
       "    <tr>\n",
       "      <th>2</th>\n",
       "      <td>1.009505</td>\n",
       "      <td>1.006314</td>\n",
       "      <td>1.002973</td>\n",
       "      <td>0.984362</td>\n",
       "      <td>1.005245</td>\n",
       "      <td>1.003787</td>\n",
       "      <td>1.000079</td>\n",
       "      <td>0.993859</td>\n",
       "      <td>0.975180</td>\n",
       "      <td>1.025206</td>\n",
       "      <td>...</td>\n",
       "      <td>0.995955</td>\n",
       "      <td>1.020054</td>\n",
       "      <td>0.990795</td>\n",
       "      <td>1.000719</td>\n",
       "      <td>1.006478</td>\n",
       "      <td>0.992119</td>\n",
       "      <td>1.007823</td>\n",
       "      <td>1.004522</td>\n",
       "      <td>0.985418</td>\n",
       "      <td>1.006432</td>\n",
       "    </tr>\n",
       "    <tr>\n",
       "      <th>3</th>\n",
       "      <td>1.001353</td>\n",
       "      <td>1.008691</td>\n",
       "      <td>1.004871</td>\n",
       "      <td>0.968068</td>\n",
       "      <td>1.007436</td>\n",
       "      <td>1.017073</td>\n",
       "      <td>0.997239</td>\n",
       "      <td>0.997515</td>\n",
       "      <td>0.976268</td>\n",
       "      <td>1.039059</td>\n",
       "      <td>...</td>\n",
       "      <td>1.009038</td>\n",
       "      <td>1.011929</td>\n",
       "      <td>0.986735</td>\n",
       "      <td>0.985082</td>\n",
       "      <td>1.016875</td>\n",
       "      <td>1.010405</td>\n",
       "      <td>1.010157</td>\n",
       "      <td>1.008799</td>\n",
       "      <td>0.987872</td>\n",
       "      <td>1.018253</td>\n",
       "    </tr>\n",
       "    <tr>\n",
       "      <th>4</th>\n",
       "      <td>1.004761</td>\n",
       "      <td>1.012842</td>\n",
       "      <td>0.995933</td>\n",
       "      <td>0.983957</td>\n",
       "      <td>0.995958</td>\n",
       "      <td>1.017787</td>\n",
       "      <td>0.986463</td>\n",
       "      <td>1.007015</td>\n",
       "      <td>0.976572</td>\n",
       "      <td>1.046277</td>\n",
       "      <td>...</td>\n",
       "      <td>1.000314</td>\n",
       "      <td>1.014766</td>\n",
       "      <td>0.987354</td>\n",
       "      <td>0.979792</td>\n",
       "      <td>1.008536</td>\n",
       "      <td>1.002596</td>\n",
       "      <td>1.019972</td>\n",
       "      <td>1.020392</td>\n",
       "      <td>0.975007</td>\n",
       "      <td>1.030261</td>\n",
       "    </tr>\n",
       "    <tr>\n",
       "      <th>...</th>\n",
       "      <td>...</td>\n",
       "      <td>...</td>\n",
       "      <td>...</td>\n",
       "      <td>...</td>\n",
       "      <td>...</td>\n",
       "      <td>...</td>\n",
       "      <td>...</td>\n",
       "      <td>...</td>\n",
       "      <td>...</td>\n",
       "      <td>...</td>\n",
       "      <td>...</td>\n",
       "      <td>...</td>\n",
       "      <td>...</td>\n",
       "      <td>...</td>\n",
       "      <td>...</td>\n",
       "      <td>...</td>\n",
       "      <td>...</td>\n",
       "      <td>...</td>\n",
       "      <td>...</td>\n",
       "      <td>...</td>\n",
       "      <td>...</td>\n",
       "    </tr>\n",
       "    <tr>\n",
       "      <th>7556</th>\n",
       "      <td>334.061976</td>\n",
       "      <td>43.169765</td>\n",
       "      <td>28.935231</td>\n",
       "      <td>34.899912</td>\n",
       "      <td>22.583213</td>\n",
       "      <td>58.032319</td>\n",
       "      <td>14.598451</td>\n",
       "      <td>73.849640</td>\n",
       "      <td>240.794318</td>\n",
       "      <td>110.383339</td>\n",
       "      <td>...</td>\n",
       "      <td>37.906993</td>\n",
       "      <td>28.907478</td>\n",
       "      <td>31.534937</td>\n",
       "      <td>60.131353</td>\n",
       "      <td>156.482302</td>\n",
       "      <td>41.611869</td>\n",
       "      <td>50.878804</td>\n",
       "      <td>75.833131</td>\n",
       "      <td>60.511708</td>\n",
       "      <td>103.283800</td>\n",
       "    </tr>\n",
       "    <tr>\n",
       "      <th>7557</th>\n",
       "      <td>338.699589</td>\n",
       "      <td>43.373472</td>\n",
       "      <td>29.182014</td>\n",
       "      <td>34.530164</td>\n",
       "      <td>22.969499</td>\n",
       "      <td>58.531544</td>\n",
       "      <td>14.539408</td>\n",
       "      <td>73.264305</td>\n",
       "      <td>239.861439</td>\n",
       "      <td>108.678834</td>\n",
       "      <td>...</td>\n",
       "      <td>38.455477</td>\n",
       "      <td>28.995861</td>\n",
       "      <td>31.845676</td>\n",
       "      <td>60.610271</td>\n",
       "      <td>157.263174</td>\n",
       "      <td>41.525296</td>\n",
       "      <td>50.849435</td>\n",
       "      <td>76.520939</td>\n",
       "      <td>61.503143</td>\n",
       "      <td>104.210036</td>\n",
       "    </tr>\n",
       "    <tr>\n",
       "      <th>7558</th>\n",
       "      <td>339.434760</td>\n",
       "      <td>43.136386</td>\n",
       "      <td>29.729533</td>\n",
       "      <td>34.227408</td>\n",
       "      <td>22.757040</td>\n",
       "      <td>58.702973</td>\n",
       "      <td>14.585334</td>\n",
       "      <td>74.487456</td>\n",
       "      <td>243.511202</td>\n",
       "      <td>110.366647</td>\n",
       "      <td>...</td>\n",
       "      <td>38.416459</td>\n",
       "      <td>29.352431</td>\n",
       "      <td>32.523685</td>\n",
       "      <td>60.604579</td>\n",
       "      <td>157.840868</td>\n",
       "      <td>41.905961</td>\n",
       "      <td>50.738923</td>\n",
       "      <td>76.030151</td>\n",
       "      <td>61.868100</td>\n",
       "      <td>103.906836</td>\n",
       "    </tr>\n",
       "    <tr>\n",
       "      <th>7559</th>\n",
       "      <td>340.148342</td>\n",
       "      <td>43.520094</td>\n",
       "      <td>29.351134</td>\n",
       "      <td>34.556886</td>\n",
       "      <td>22.744380</td>\n",
       "      <td>60.094861</td>\n",
       "      <td>14.438505</td>\n",
       "      <td>75.193140</td>\n",
       "      <td>245.467323</td>\n",
       "      <td>109.519547</td>\n",
       "      <td>...</td>\n",
       "      <td>38.527083</td>\n",
       "      <td>29.306291</td>\n",
       "      <td>31.989917</td>\n",
       "      <td>61.401564</td>\n",
       "      <td>157.602469</td>\n",
       "      <td>42.083974</td>\n",
       "      <td>50.271636</td>\n",
       "      <td>76.788817</td>\n",
       "      <td>62.360377</td>\n",
       "      <td>104.490666</td>\n",
       "    </tr>\n",
       "    <tr>\n",
       "      <th>7560</th>\n",
       "      <td>345.557873</td>\n",
       "      <td>43.765283</td>\n",
       "      <td>29.487776</td>\n",
       "      <td>34.174325</td>\n",
       "      <td>23.008425</td>\n",
       "      <td>59.689275</td>\n",
       "      <td>14.406918</td>\n",
       "      <td>75.486713</td>\n",
       "      <td>244.968829</td>\n",
       "      <td>109.116235</td>\n",
       "      <td>...</td>\n",
       "      <td>38.734694</td>\n",
       "      <td>28.882808</td>\n",
       "      <td>31.808218</td>\n",
       "      <td>61.846557</td>\n",
       "      <td>156.430137</td>\n",
       "      <td>42.048086</td>\n",
       "      <td>50.308398</td>\n",
       "      <td>75.963849</td>\n",
       "      <td>61.879854</td>\n",
       "      <td>105.773323</td>\n",
       "    </tr>\n",
       "  </tbody>\n",
       "</table>\n",
       "<p>7561 rows × 500 columns</p>\n",
       "</div>"
      ],
      "text/plain": [
       "             0          1          2          3          4          5    \\\n",
       "0       1.000000   1.000000   1.000000   1.000000   1.000000   1.000000   \n",
       "1       0.991399   1.003993   1.006498   0.995207   1.006297   1.007048   \n",
       "2       1.009505   1.006314   1.002973   0.984362   1.005245   1.003787   \n",
       "3       1.001353   1.008691   1.004871   0.968068   1.007436   1.017073   \n",
       "4       1.004761   1.012842   0.995933   0.983957   0.995958   1.017787   \n",
       "...          ...        ...        ...        ...        ...        ...   \n",
       "7556  334.061976  43.169765  28.935231  34.899912  22.583213  58.032319   \n",
       "7557  338.699589  43.373472  29.182014  34.530164  22.969499  58.531544   \n",
       "7558  339.434760  43.136386  29.729533  34.227408  22.757040  58.702973   \n",
       "7559  340.148342  43.520094  29.351134  34.556886  22.744380  60.094861   \n",
       "7560  345.557873  43.765283  29.487776  34.174325  23.008425  59.689275   \n",
       "\n",
       "            6          7           8           9    ...        490        491  \\\n",
       "0      1.000000   1.000000    1.000000    1.000000  ...   1.000000   1.000000   \n",
       "1      0.989495   1.007598    0.994343    1.019113  ...   1.008750   1.018425   \n",
       "2      1.000079   0.993859    0.975180    1.025206  ...   0.995955   1.020054   \n",
       "3      0.997239   0.997515    0.976268    1.039059  ...   1.009038   1.011929   \n",
       "4      0.986463   1.007015    0.976572    1.046277  ...   1.000314   1.014766   \n",
       "...         ...        ...         ...         ...  ...        ...        ...   \n",
       "7556  14.598451  73.849640  240.794318  110.383339  ...  37.906993  28.907478   \n",
       "7557  14.539408  73.264305  239.861439  108.678834  ...  38.455477  28.995861   \n",
       "7558  14.585334  74.487456  243.511202  110.366647  ...  38.416459  29.352431   \n",
       "7559  14.438505  75.193140  245.467323  109.519547  ...  38.527083  29.306291   \n",
       "7560  14.406918  75.486713  244.968829  109.116235  ...  38.734694  28.882808   \n",
       "\n",
       "            492        493         494        495        496        497  \\\n",
       "0      1.000000   1.000000    1.000000   1.000000   1.000000   1.000000   \n",
       "1      0.983139   1.007549    0.992576   0.991831   1.005072   1.007339   \n",
       "2      0.990795   1.000719    1.006478   0.992119   1.007823   1.004522   \n",
       "3      0.986735   0.985082    1.016875   1.010405   1.010157   1.008799   \n",
       "4      0.987354   0.979792    1.008536   1.002596   1.019972   1.020392   \n",
       "...         ...        ...         ...        ...        ...        ...   \n",
       "7556  31.534937  60.131353  156.482302  41.611869  50.878804  75.833131   \n",
       "7557  31.845676  60.610271  157.263174  41.525296  50.849435  76.520939   \n",
       "7558  32.523685  60.604579  157.840868  41.905961  50.738923  76.030151   \n",
       "7559  31.989917  61.401564  157.602469  42.083974  50.271636  76.788817   \n",
       "7560  31.808218  61.846557  156.430137  42.048086  50.308398  75.963849   \n",
       "\n",
       "            498         499  \n",
       "0      1.000000    1.000000  \n",
       "1      0.984202    0.995394  \n",
       "2      0.985418    1.006432  \n",
       "3      0.987872    1.018253  \n",
       "4      0.975007    1.030261  \n",
       "...         ...         ...  \n",
       "7556  60.511708  103.283800  \n",
       "7557  61.503143  104.210036  \n",
       "7558  61.868100  103.906836  \n",
       "7559  62.360377  104.490666  \n",
       "7560  61.879854  105.773323  \n",
       "\n",
       "[7561 rows x 500 columns]"
      ]
     },
     "execution_count": 41,
     "metadata": {},
     "output_type": "execute_result"
    }
   ],
   "source": [
    "# Run the Monte Carlo simulation to forecast 30 years cumulative returns\n",
    "MC_spy.calc_cumulative_return()\n"
   ]
  },
  {
   "cell_type": "code",
   "execution_count": 42,
   "metadata": {
    "execution": {
     "iopub.execute_input": "2022-01-01T00:00:00.965269Z",
     "iopub.status.busy": "2022-01-01T00:00:00.964952Z",
     "iopub.status.idle": "2022-01-01T00:00:02.996228Z",
     "shell.execute_reply": "2022-01-01T00:00:02.995717Z",
     "shell.execute_reply.started": "2022-01-01T00:00:00.965233Z"
    },
    "tags": []
   },
   "outputs": [
    {
     "data": {
      "image/png": "[encoded data removed]",
      "text/plain": [
       "<Figure size 432x288 with 1 Axes>"
      ]
     },
     "metadata": {
      "needs_background": "light"
     },
     "output_type": "display_data"
    }
   ],
   "source": [
    "# Visualize the 30-year Monte Carlo simulation by creating an\n",
    "# overlay line plot\n",
    "spy_line_plot = MC_spy.plot_simulation();\n"
   ]
  },
  {
   "cell_type": "markdown",
   "metadata": {},
   "source": [
    "#### Step 3: Plot the probability distribution of the Monte Carlo simulation."
   ]
  },
  {
   "cell_type": "code",
   "execution_count": 43,
   "metadata": {
    "execution": {
     "iopub.execute_input": "2022-01-01T00:00:19.872998Z",
     "iopub.status.busy": "2022-01-01T00:00:19.872662Z",
     "iopub.status.idle": "2022-01-01T00:00:20.037724Z",
     "shell.execute_reply": "2022-01-01T00:00:20.037005Z",
     "shell.execute_reply.started": "2022-01-01T00:00:19.872964Z"
    },
    "tags": []
   },
   "outputs": [
    {
     "data": {
      "image/png": "[encoded data removed]",
      "text/plain": [
       "<Figure size 432x288 with 1 Axes>"
      ]
     },
     "metadata": {
      "needs_background": "light"
     },
     "output_type": "display_data"
    }
   ],
   "source": [
    "# Visualize the probability distribution of the 30-year Monte Carlo simulation \n",
    "# by plotting a histogram\n",
    "spy_dist_plot = MC_spy.plot_distribution();\n"
   ]
  },
  {
   "cell_type": "markdown",
   "metadata": {},
   "source": [
    "#### Step 4: Generate the summary statistics for the Monte Carlo simulation."
   ]
  },
  {
   "cell_type": "code",
   "execution_count": 44,
   "metadata": {
    "execution": {
     "iopub.execute_input": "2022-01-01T00:01:17.107401Z",
     "iopub.status.busy": "2022-01-01T00:01:17.106834Z",
     "iopub.status.idle": "2022-01-01T00:01:17.118421Z",
     "shell.execute_reply": "2022-01-01T00:01:17.117506Z",
     "shell.execute_reply.started": "2022-01-01T00:01:17.107367Z"
    },
    "tags": []
   },
   "outputs": [
    {
     "data": {
      "text/plain": [
       "count            500.000000\n",
       "mean             107.127542\n",
       "std              101.588102\n",
       "min                7.369712\n",
       "25%               48.681376\n",
       "50%               78.953155\n",
       "75%              124.758913\n",
       "max             1116.911831\n",
       "95% CI Lower      18.682379\n",
       "95% CI Upper     386.984302\n",
       "Name: 7560, dtype: float64"
      ]
     },
     "execution_count": 44,
     "metadata": {},
     "output_type": "execute_result"
    }
   ],
   "source": [
    "# Generate summary statistics from the 30-year Monte Carlo simulation results\n",
    "# Save the results as a variable\n",
    "spy_table = MC_spy.summarize_cumulative_return()\n",
    "\n",
    "\n",
    "# Review the 30-year Monte Carlo summary statistics\n",
    "spy_table"
   ]
  },
  {
   "cell_type": "markdown",
   "metadata": {},
   "source": [
    "### Analyze the Retirement Portfolio Forecasts\n",
    "\n",
    "Using the current value of only the stock and bond portion of the member's portfolio and the summary statistics that you generated from the Monte Carlo simulation, answer the following question in your Jupyter notebook:\n",
    "\n",
    "-  What are the lower and upper bounds for the expected value of the portfolio with a 95% confidence interval?\n"
   ]
  },
  {
   "cell_type": "code",
   "execution_count": 45,
   "metadata": {
    "execution": {
     "iopub.execute_input": "2022-01-01T00:03:49.752824Z",
     "iopub.status.busy": "2022-01-01T00:03:49.752509Z",
     "iopub.status.idle": "2022-01-01T00:03:49.757419Z",
     "shell.execute_reply": "2022-01-01T00:03:49.756434Z",
     "shell.execute_reply.started": "2022-01-01T00:03:49.752790Z"
    },
    "tags": []
   },
   "outputs": [
    {
     "name": "stdout",
     "output_type": "stream",
     "text": [
      "Current Stock & Bond Portfolio Value: $75,055.90\n"
     ]
    }
   ],
   "source": [
    "# Print the current balance of the stock and bond portion of the members portfolio\n",
    "print(f\"Current Stock & Bond Portfolio \"\n",
    "      f\"Value: ${total_stocks_bonds:,.2f}\")\n"
   ]
  },
  {
   "cell_type": "code",
   "execution_count": 47,
   "metadata": {
    "execution": {
     "iopub.execute_input": "2022-01-01T00:08:55.375362Z",
     "iopub.status.busy": "2022-01-01T00:08:55.374924Z",
     "iopub.status.idle": "2022-01-01T00:08:55.380101Z",
     "shell.execute_reply": "2022-01-01T00:08:55.379384Z",
     "shell.execute_reply.started": "2022-01-01T00:08:55.375337Z"
    },
    "tags": []
   },
   "outputs": [
    {
     "name": "stdout",
     "output_type": "stream",
     "text": [
      "There is a 95% chance that in thirty years the value of the stocks and bonds portfolio, currently valued at $75,055.90, will be worth between $1,402,222.79 and $29,045,455.10.\n"
     ]
    }
   ],
   "source": [
    "# Use the lower and upper `95%` confidence intervals to calculate the range of the possible outcomes for the current stock/bond portfolio\n",
    "ci_lower_thirty_cumulative_return = spy_table[8] * total_stocks_bonds\n",
    "ci_upper_thirty_cumulative_return = spy_table[9] * total_stocks_bonds\n",
    "\n",
    "# Print the result of your calculations\n",
    "print(f\"There is a 95% chance that in thirty years the value of the stocks \"\n",
    "      f\"and bonds portfolio, currently valued at ${total_stocks_bonds:,.2f}, \"\n",
    "      f\"will be worth between ${ci_lower_thirty_cumulative_return:,.2f} \"\n",
    "      f\"and ${ci_upper_thirty_cumulative_return:,.2f}.\")\n"
   ]
  },
  {
   "cell_type": "markdown",
   "metadata": {},
   "source": [
    "### Forecast Cumulative Returns in 10 Years\n",
    "\n",
    "The CTO of the credit union is impressed with your work on these planning tools but wonders if 30 years is a long time to wait until retirement. So, your next task is to adjust the retirement portfolio and run a new Monte Carlo simulation to find out if the changes will allow members to retire earlier.\n",
    "\n",
    "For this new Monte Carlo simulation, do the following: \n",
    "\n",
    "- Forecast the cumulative returns for 10 years from now. Because of the shortened investment horizon (30 years to 10 years), the portfolio needs to invest more heavily in the riskier asset&mdash;that is, stock&mdash;to help accumulate wealth for retirement. \n",
    "\n",
    "- Adjust the weights of the retirement portfolio so that the composition for the Monte Carlo simulation consists of 20% bonds and 80% stocks. \n",
    "\n",
    "- Run the simulation over 500 samples, and use the same data that the API call to Alpaca generated.\n",
    "\n",
    "- Based on the new Monte Carlo simulation, answer the following questions in your Jupyter notebook:\n",
    "\n",
    "    - Using the current value of only the stock and bond portion of the member's portfolio and the summary statistics that you generated from the new Monte Carlo simulation, what are the lower and upper bounds for the expected value of the portfolio (with the new weights) with a 95% confidence interval?\n",
    "\n",
    "    - Will weighting the portfolio more heavily toward stocks allow the credit union members to retire after only 10 years?\n"
   ]
  },
  {
   "cell_type": "code",
   "execution_count": null,
   "metadata": {
    "execution": {
     "iopub.status.busy": "2021-12-31T21:54:02.106613Z",
     "iopub.status.idle": "2021-12-31T21:54:02.107657Z",
     "shell.execute_reply": "2021-12-31T21:54:02.107238Z",
     "shell.execute_reply.started": "2021-12-31T21:54:02.107198Z"
    }
   },
   "outputs": [],
   "source": [
    "# Configure a Monte Carlo simulation to forecast 10 years cumulative returns\n",
    "# The weights should be split 20% to AGG and 80% to SPY.\n",
    "# Run 500 samples.\n",
    "# YOUR CODE HERE\n",
    "\n",
    "# Review the simulation input data\n",
    "# YOUR CODE HERE\n"
   ]
  },
  {
   "cell_type": "code",
   "execution_count": null,
   "metadata": {
    "execution": {
     "iopub.status.busy": "2021-12-31T21:54:02.109777Z",
     "iopub.status.idle": "2021-12-31T21:54:02.110318Z",
     "shell.execute_reply": "2021-12-31T21:54:02.110133Z",
     "shell.execute_reply.started": "2021-12-31T21:54:02.110097Z"
    }
   },
   "outputs": [],
   "source": [
    "# Run the Monte Carlo simulation to forecast 10 years cumulative returns\n",
    "# YOUR CODE HERE\n"
   ]
  },
  {
   "cell_type": "code",
   "execution_count": null,
   "metadata": {
    "execution": {
     "iopub.status.busy": "2021-12-31T21:54:02.111788Z",
     "iopub.status.idle": "2021-12-31T21:54:02.112238Z",
     "shell.execute_reply": "2021-12-31T21:54:02.112014Z",
     "shell.execute_reply.started": "2021-12-31T21:54:02.111993Z"
    }
   },
   "outputs": [],
   "source": [
    "# Visualize the 10-year Monte Carlo simulation by creating an\n",
    "# overlay line plot\n",
    "# YOUR CODE HERE\n"
   ]
  },
  {
   "cell_type": "code",
   "execution_count": null,
   "metadata": {
    "execution": {
     "iopub.status.busy": "2021-12-31T21:54:02.113698Z",
     "iopub.status.idle": "2021-12-31T21:54:02.114398Z",
     "shell.execute_reply": "2021-12-31T21:54:02.114076Z",
     "shell.execute_reply.started": "2021-12-31T21:54:02.114023Z"
    }
   },
   "outputs": [],
   "source": [
    "# Visualize the probability distribution of the 10-year Monte Carlo simulation \n",
    "# by plotting a histogram\n",
    "# YOUR CODE HERE\n"
   ]
  },
  {
   "cell_type": "code",
   "execution_count": null,
   "metadata": {
    "execution": {
     "iopub.status.busy": "2021-12-31T21:54:02.116085Z",
     "iopub.status.idle": "2021-12-31T21:54:02.116566Z",
     "shell.execute_reply": "2021-12-31T21:54:02.116382Z",
     "shell.execute_reply.started": "2021-12-31T21:54:02.116362Z"
    }
   },
   "outputs": [],
   "source": [
    "# Generate summary statistics from the 10-year Monte Carlo simulation results\n",
    "# Save the results as a variable\n",
    "# YOUR CODE HERE\n",
    "\n",
    "\n",
    "# Review the 10-year Monte Carlo summary statistics\n",
    "# YOUR CODE HERE"
   ]
  },
  {
   "cell_type": "markdown",
   "metadata": {},
   "source": [
    "### Answer the following questions:"
   ]
  },
  {
   "cell_type": "markdown",
   "metadata": {},
   "source": [
    "#### Question: Using the current value of only the stock and bond portion of the member's portfolio and the summary statistics that you generated from the new Monte Carlo simulation, what are the lower and upper bounds for the expected value of the portfolio (with the new weights) with a 95% confidence interval?"
   ]
  },
  {
   "cell_type": "code",
   "execution_count": null,
   "metadata": {
    "execution": {
     "iopub.status.busy": "2021-12-31T21:54:02.118531Z",
     "iopub.status.idle": "2021-12-31T21:54:02.119292Z",
     "shell.execute_reply": "2021-12-31T21:54:02.119092Z",
     "shell.execute_reply.started": "2021-12-31T21:54:02.119068Z"
    }
   },
   "outputs": [],
   "source": [
    "# Print the current balance of the stock and bond portion of the members portfolio\n",
    "# YOUR CODE HERE\n"
   ]
  },
  {
   "cell_type": "code",
   "execution_count": null,
   "metadata": {
    "execution": {
     "iopub.status.busy": "2021-12-31T21:54:02.120924Z",
     "iopub.status.idle": "2021-12-31T21:54:02.121632Z",
     "shell.execute_reply": "2021-12-31T21:54:02.121360Z",
     "shell.execute_reply.started": "2021-12-31T21:54:02.121331Z"
    }
   },
   "outputs": [],
   "source": [
    "# Use the lower and upper `95%` confidence intervals to calculate the range of the possible outcomes for the current stock/bond portfolio\n",
    "ci_lower_ten_cumulative_return = # YOUR CODE HERE\n",
    "ci_upper_ten_cumulative_return = # YOUR CODE HERE\n",
    "\n",
    "# Print the result of your calculations\n",
    "# YOUR CODE HERE\n"
   ]
  },
  {
   "cell_type": "markdown",
   "metadata": {},
   "source": [
    "#### Question: Will weighting the portfolio more heavily to stocks allow the credit union members to retire after only 10 years?"
   ]
  },
  {
   "cell_type": "raw",
   "metadata": {},
   "source": [
    "**Answer** # YOUR ANSWER HERE"
   ]
  },
  {
   "cell_type": "code",
   "execution_count": null,
   "metadata": {},
   "outputs": [],
   "source": []
  }
 ],
 "metadata": {
  "kernelspec": {
   "display_name": "uwft-py37",
   "language": "python",
   "name": "uwft-py37"
  },
  "language_info": {
   "codemirror_mode": {
    "name": "ipython",
    "version": 3
   },
   "file_extension": ".py",
   "mimetype": "text/x-python",
   "name": "python",
   "nbconvert_exporter": "python",
   "pygments_lexer": "ipython3",
   "version": "3.7.10"
  }
 },
 "nbformat": 4,
 "nbformat_minor": 4
}
